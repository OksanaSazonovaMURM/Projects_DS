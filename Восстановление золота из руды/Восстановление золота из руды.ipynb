{
 "cells": [
  {
   "cell_type": "markdown",
   "metadata": {
    "toc": true
   },
   "source": [
    "<h1>Содержание<span class=\"tocSkip\"></span></h1>\n",
    "<div class=\"toc\"><ul class=\"toc-item\"><li><span><a href=\"#Подготовка-данных\" data-toc-modified-id=\"Подготовка-данных-1\"><span class=\"toc-item-num\">1&nbsp;&nbsp;</span>Подготовка данных</a></span><ul class=\"toc-item\"><li><span><a href=\"#Знакомство-с-данными\" data-toc-modified-id=\"Знакомство-с-данными-1.1\"><span class=\"toc-item-num\">1.1&nbsp;&nbsp;</span>Знакомство с данными</a></span></li><li><span><a href=\"#Дифференциация-датасетов\" data-toc-modified-id=\"Дифференциация-датасетов-1.2\"><span class=\"toc-item-num\">1.2&nbsp;&nbsp;</span>Дифференциация датасетов</a></span><ul class=\"toc-item\"><li><span><a href=\"#Вывод-о-недостающих-данных-в-тестовом-датафрейме\" data-toc-modified-id=\"Вывод-о-недостающих-данных-в-тестовом-датафрейме-1.2.1\"><span class=\"toc-item-num\">1.2.1&nbsp;&nbsp;</span>Вывод о недостающих данных в тестовом датафрейме</a></span></li></ul></li><li><span><a href=\"#Корректность-данных-с-эффективностью-обогащения-после-флотации\" data-toc-modified-id=\"Корректность-данных-с-эффективностью-обогащения-после-флотации-1.3\"><span class=\"toc-item-num\">1.3&nbsp;&nbsp;</span>Корректность данных с эффективностью обогащения после флотации</a></span></li><li><span><a href=\"#Удалим-пропуски-в-данных\" data-toc-modified-id=\"Удалим-пропуски-в-данных-1.4\"><span class=\"toc-item-num\">1.4&nbsp;&nbsp;</span>Удалим пропуски в данных</a></span></li><li><span><a href=\"#Предварительный-вывод-о-подготовке-данных\" data-toc-modified-id=\"Предварительный-вывод-о-подготовке-данных-1.5\"><span class=\"toc-item-num\">1.5&nbsp;&nbsp;</span>Предварительный вывод о подготовке данных</a></span></li></ul></li><li><span><a href=\"#Анализ-данных\" data-toc-modified-id=\"Анализ-данных-2\"><span class=\"toc-item-num\">2&nbsp;&nbsp;</span>Анализ данных</a></span><ul class=\"toc-item\"><li><span><a href=\"#Посмотрим,-как-меняется-концентрация-металлов-(Au,-Ag,-Pb)-на-различных-этапах-очистки.\" data-toc-modified-id=\"Посмотрим,-как-меняется-концентрация-металлов-(Au,-Ag,-Pb)-на-различных-этапах-очистки.-2.1\"><span class=\"toc-item-num\">2.1&nbsp;&nbsp;</span>Посмотрим, как меняется концентрация металлов (Au, Ag, Pb) на различных этапах очистки.</a></span></li><li><span><a href=\"#Сравним-распределения-размеров-гранул-сырья-на-обучающей-и-тестовой-выборках.\" data-toc-modified-id=\"Сравним-распределения-размеров-гранул-сырья-на-обучающей-и-тестовой-выборках.-2.2\"><span class=\"toc-item-num\">2.2&nbsp;&nbsp;</span>Сравним распределения размеров гранул сырья на обучающей и тестовой выборках.</a></span></li><li><span><a href=\"#Исследуем-суммарную-концентрацию-всех-веществ-на-разных-стадиях:-в-сырье,-в-черновом-и-финальном-концентратах.\" data-toc-modified-id=\"Исследуем-суммарную-концентрацию-всех-веществ-на-разных-стадиях:-в-сырье,-в-черновом-и-финальном-концентратах.-2.3\"><span class=\"toc-item-num\">2.3&nbsp;&nbsp;</span>Исследуем суммарную концентрацию всех веществ на разных стадиях: в сырье, в черновом и финальном концентратах.</a></span></li><li><span><a href=\"#Добавим-в-тестовый-датафрейм-таргетные-столбцы-'final.output.recovery'-и-'rougher.output.recovery'\" data-toc-modified-id=\"Добавим-в-тестовый-датафрейм-таргетные-столбцы-'final.output.recovery'-и-'rougher.output.recovery'-2.4\"><span class=\"toc-item-num\">2.4&nbsp;&nbsp;</span>Добавим в тестовый датафрейм таргетные столбцы 'final.output.recovery' и 'rougher.output.recovery'</a></span></li><li><span><a href=\"#Предварительный-вывод-об-анализе-данных\" data-toc-modified-id=\"Предварительный-вывод-об-анализе-данных-2.5\"><span class=\"toc-item-num\">2.5&nbsp;&nbsp;</span>Предварительный вывод об анализе данных</a></span></li></ul></li><li><span><a href=\"#Моделирование\" data-toc-modified-id=\"Моделирование-3\"><span class=\"toc-item-num\">3&nbsp;&nbsp;</span>Моделирование</a></span><ul class=\"toc-item\"><li><span><a href=\"#Разделение-данных-на-признаки-и-таргеты\" data-toc-modified-id=\"Разделение-данных-на-признаки-и-таргеты-3.1\"><span class=\"toc-item-num\">3.1&nbsp;&nbsp;</span>Разделение данных на признаки и таргеты</a></span></li><li><span><a href=\"#Модель-Linear-Regression-(Линейная-регрессия)\" data-toc-modified-id=\"Модель-Linear-Regression-(Линейная-регрессия)-3.2\"><span class=\"toc-item-num\">3.2&nbsp;&nbsp;</span><strong><em>Модель Linear Regression (Линейная регрессия)</em></strong></a></span></li><li><span><a href=\"#Модель-DecisionTreeRegressor(Решающее-дерево)\" data-toc-modified-id=\"Модель-DecisionTreeRegressor(Решающее-дерево)-3.3\"><span class=\"toc-item-num\">3.3&nbsp;&nbsp;</span><strong><em>Модель DecisionTreeRegressor(Решающее дерево)</em></strong></a></span></li><li><span><a href=\"#Модель-RandomForestRegressor-(Cлучайный-лес)\" data-toc-modified-id=\"Модель-RandomForestRegressor-(Cлучайный-лес)-3.4\"><span class=\"toc-item-num\">3.4&nbsp;&nbsp;</span><strong><em>Модель RandomForestRegressor (Cлучайный лес)</em></strong></a></span></li><li><span><a href=\"#Лучшая-модель.-Проверка-на-тестовой-выборке.\" data-toc-modified-id=\"Лучшая-модель.-Проверка-на-тестовой-выборке.-3.5\"><span class=\"toc-item-num\">3.5&nbsp;&nbsp;</span>Лучшая модель. Проверка на тестовой выборке.</a></span></li><li><span><a href=\"#Проверка-константной-моделью\" data-toc-modified-id=\"Проверка-константной-моделью-3.6\"><span class=\"toc-item-num\">3.6&nbsp;&nbsp;</span>Проверка константной моделью</a></span></li></ul></li><li><span><a href=\"#Итоговый-вывод\" data-toc-modified-id=\"Итоговый-вывод-4\"><span class=\"toc-item-num\">4&nbsp;&nbsp;</span>Итоговый вывод</a></span></li><li><span><a href=\"#Чек-лист-готовности-проекта\" data-toc-modified-id=\"Чек-лист-готовности-проекта-5\"><span class=\"toc-item-num\">5&nbsp;&nbsp;</span>Чек-лист готовности проекта</a></span></li></ul></div>"
   ]
  },
  {
   "cell_type": "markdown",
   "metadata": {},
   "source": [
    "# Проект \"Восстановление золота из руды\""
   ]
  },
  {
   "cell_type": "markdown",
   "metadata": {},
   "source": [
    "Цель проекта:\n",
    "- Построение модели прототип модели машинного обучения для компании «Цифры». Компания разрабатывает решения для эффективной работы промышленных предприятий.\n",
    "- Модель должна предсказать коэффициент восстановления золота из золотосодержащей руды. Используйте данные с параметрами добычи и очистки. \n",
    "- Модель поможет оптимизировать производство, чтобы не запускать предприятие с убыточными характеристиками.\n",
    "\n",
    "Ход работы:\n",
    "\n",
    "1. Подготовим данные для обучения;\n",
    "2. Проведем исследовательский анализ данных;\n",
    "3. Построим и обучим несколько моделей, рекомендуем лучшую.\n"
   ]
  },
  {
   "cell_type": "markdown",
   "metadata": {},
   "source": [
    "# Описание технологического процесса"
   ]
  },
  {
   "cell_type": "markdown",
   "metadata": {},
   "source": [
    "\n",
    "Как золото получают из руды? Изучим стадии процесса.\n",
    "Когда добытая руда проходит первичную обработку, получается дроблёная смесь. Её отправляют на флотацию (обогащение) и двухэтапную очистку.\n",
    "\n",
    "**1. Флотация**\n",
    "\n",
    "Во флотационную установку подаётся смесь золотосодержащей руды. После обогащения получается черновой концентрат и «отвальные хвосты», то есть остатки продукта с низкой концентрацией ценных металлов.\n",
    "На стабильность этого процесса влияет непостоянное и неоптимальное физико-химическое состояние флотационной пульпы (смеси твёрдых частиц и жидкости).\n",
    "\n",
    "**2. Очистка**\n",
    "\n",
    "Черновой концентрат проходит две очистки. На выходе получается финальный концентрат и новые отвальные хвосты.\n",
    "\n",
    "*Описание данных:*\n",
    "\n",
    "*Технологический процесс:*\n",
    "\n",
    "- Rougher feed — исходное сырье\n",
    "- Rougher additions (или reagent additions) — флотационные реагенты: Xanthate, Sulphate, Depressant\n",
    "- Xanthate — ксантогенат (промотер, или активатор флотации);\n",
    "- Sulphate — сульфат (на данном производстве сульфид натрия);\n",
    "- Depressant — депрессант (силикат натрия).\n",
    "- Rougher process (англ. «грубый процесс») — флотация\n",
    "- Rougher tails — отвальные хвосты\n",
    "- Float banks — флотационная установка\n",
    "- Cleaner process — очистка\n",
    "- Rougher Au — черновой концентрат золота\n",
    "- Final Au — финальный концентрат золота\n",
    "\n",
    "*Параметры этапов*\n",
    "\n",
    "- air amount — объём воздуха\n",
    "- fluid levels — уровень жидкости\n",
    "- feed size — размер гранул сырья\n",
    "- feed rate — скорость подачи\n",
    "\n",
    "\n",
    "*Возможные значения для блока [этап]:*\n",
    "\n",
    "- rougher — флотация\n",
    "- primary_cleaner — первичная очистка\n",
    "- secondary_cleaner — вторичная очистка\n",
    "- final — финальные характеристики\n",
    "\n",
    "Необходимо смоделировать процесс восстановления золота из золотосодержащей руды. Эффективность обогащения рассчитывается по формуле где:\n",
    "\n",
    "Recovery = (C * (F - T)/F(C - T)) * 100%\n",
    "\n",
    "- C — доля золота в концентрате после флотации/очистки;\n",
    "- F — доля золота в сырье/концентрате до флотации/очистки;\n",
    "- T — доля золота в отвальных хвостах после флотации/очистки.\n",
    "\n",
    "**Метрика качества**\n",
    "\n",
    "Для решения задачи введём новую метрику качества — **sMAPE** (Symmetric Mean Absolute Percentage Error), **«симметричное среднее абсолютное процентное отклонение»**. Данную метрику используют в случаях, где как разумно измерять ошибку в процентах."
   ]
  },
  {
   "cell_type": "markdown",
   "metadata": {},
   "source": [
    "## Подготовка данных"
   ]
  },
  {
   "cell_type": "markdown",
   "metadata": {},
   "source": [
    "### Знакомство с данными"
   ]
  },
  {
   "cell_type": "code",
   "execution_count": 1,
   "metadata": {},
   "outputs": [
    {
     "data": {
      "text/html": [
       "<style>.container { width:95% !important; }</style>"
      ],
      "text/plain": [
       "<IPython.core.display.HTML object>"
      ]
     },
     "metadata": {},
     "output_type": "display_data"
    }
   ],
   "source": [
    "# импортируем библиотеку Pandas и элементы Sklearn - библиотеки для машинного обучения, а также другие библиотеки,\n",
    "#которые потребуются нам в процессе исследования \n",
    "import pandas as pd\n",
    "import seaborn as sns\n",
    "import numpy as np\n",
    "import matplotlib.pyplot as plt\n",
    "import warnings\n",
    "\n",
    "from sklearn. metrics import mean_absolute_error as mae\n",
    "from sklearn. metrics import make_scorer\n",
    "from sklearn.model_selection import cross_val_score\n",
    "from sklearn.linear_model import LinearRegression\n",
    "from sklearn.model_selection import GridSearchCV\n",
    "from sklearn.tree import DecisionTreeRegressor\n",
    "from sklearn.ensemble import RandomForestRegressor\n",
    "from sklearn.dummy import DummyRegressor\n",
    "\n",
    "from IPython.core.display import display, HTML\n",
    "display(HTML(\"<style>.container { width:95% !important; }</style>\"))\n",
    "from numpy.random import RandomState\n",
    "\n",
    "\n",
    "RANDOM_STATE = RandomState(12345)\n",
    "import time\n",
    "from tqdm import tqdm"
   ]
  },
  {
   "cell_type": "code",
   "execution_count": 3,
   "metadata": {},
   "outputs": [],
   "source": [
    "# создадим функцию получения главной информации о датафреймах\n",
    "def get_info(data):\n",
    "    display(data.head())\n",
    "    display(data.info())\n",
    "    display(data.describe())"
   ]
  },
  {
   "cell_type": "code",
   "execution_count": 4,
   "metadata": {
    "scrolled": true
   },
   "outputs": [
    {
     "data": {
      "text/html": [
       "<div>\n",
       "<style scoped>\n",
       "    .dataframe tbody tr th:only-of-type {\n",
       "        vertical-align: middle;\n",
       "    }\n",
       "\n",
       "    .dataframe tbody tr th {\n",
       "        vertical-align: top;\n",
       "    }\n",
       "\n",
       "    .dataframe thead th {\n",
       "        text-align: right;\n",
       "    }\n",
       "</style>\n",
       "<table border=\"1\" class=\"dataframe\">\n",
       "  <thead>\n",
       "    <tr style=\"text-align: right;\">\n",
       "      <th></th>\n",
       "      <th>date</th>\n",
       "      <th>final.output.concentrate_ag</th>\n",
       "      <th>final.output.concentrate_pb</th>\n",
       "      <th>final.output.concentrate_sol</th>\n",
       "      <th>final.output.concentrate_au</th>\n",
       "      <th>final.output.recovery</th>\n",
       "      <th>final.output.tail_ag</th>\n",
       "      <th>final.output.tail_pb</th>\n",
       "      <th>final.output.tail_sol</th>\n",
       "      <th>final.output.tail_au</th>\n",
       "      <th>...</th>\n",
       "      <th>secondary_cleaner.state.floatbank4_a_air</th>\n",
       "      <th>secondary_cleaner.state.floatbank4_a_level</th>\n",
       "      <th>secondary_cleaner.state.floatbank4_b_air</th>\n",
       "      <th>secondary_cleaner.state.floatbank4_b_level</th>\n",
       "      <th>secondary_cleaner.state.floatbank5_a_air</th>\n",
       "      <th>secondary_cleaner.state.floatbank5_a_level</th>\n",
       "      <th>secondary_cleaner.state.floatbank5_b_air</th>\n",
       "      <th>secondary_cleaner.state.floatbank5_b_level</th>\n",
       "      <th>secondary_cleaner.state.floatbank6_a_air</th>\n",
       "      <th>secondary_cleaner.state.floatbank6_a_level</th>\n",
       "    </tr>\n",
       "  </thead>\n",
       "  <tbody>\n",
       "    <tr>\n",
       "      <th>0</th>\n",
       "      <td>2016-01-15 00:00:00</td>\n",
       "      <td>6.055403</td>\n",
       "      <td>9.889648</td>\n",
       "      <td>5.507324</td>\n",
       "      <td>42.192020</td>\n",
       "      <td>70.541216</td>\n",
       "      <td>10.411962</td>\n",
       "      <td>0.895447</td>\n",
       "      <td>16.904297</td>\n",
       "      <td>2.143149</td>\n",
       "      <td>...</td>\n",
       "      <td>14.016835</td>\n",
       "      <td>-502.488007</td>\n",
       "      <td>12.099931</td>\n",
       "      <td>-504.715942</td>\n",
       "      <td>9.925633</td>\n",
       "      <td>-498.310211</td>\n",
       "      <td>8.079666</td>\n",
       "      <td>-500.470978</td>\n",
       "      <td>14.151341</td>\n",
       "      <td>-605.841980</td>\n",
       "    </tr>\n",
       "    <tr>\n",
       "      <th>1</th>\n",
       "      <td>2016-01-15 01:00:00</td>\n",
       "      <td>6.029369</td>\n",
       "      <td>9.968944</td>\n",
       "      <td>5.257781</td>\n",
       "      <td>42.701629</td>\n",
       "      <td>69.266198</td>\n",
       "      <td>10.462676</td>\n",
       "      <td>0.927452</td>\n",
       "      <td>16.634514</td>\n",
       "      <td>2.224930</td>\n",
       "      <td>...</td>\n",
       "      <td>13.992281</td>\n",
       "      <td>-505.503262</td>\n",
       "      <td>11.950531</td>\n",
       "      <td>-501.331529</td>\n",
       "      <td>10.039245</td>\n",
       "      <td>-500.169983</td>\n",
       "      <td>7.984757</td>\n",
       "      <td>-500.582168</td>\n",
       "      <td>13.998353</td>\n",
       "      <td>-599.787184</td>\n",
       "    </tr>\n",
       "    <tr>\n",
       "      <th>2</th>\n",
       "      <td>2016-01-15 02:00:00</td>\n",
       "      <td>6.055926</td>\n",
       "      <td>10.213995</td>\n",
       "      <td>5.383759</td>\n",
       "      <td>42.657501</td>\n",
       "      <td>68.116445</td>\n",
       "      <td>10.507046</td>\n",
       "      <td>0.953716</td>\n",
       "      <td>16.208849</td>\n",
       "      <td>2.257889</td>\n",
       "      <td>...</td>\n",
       "      <td>14.015015</td>\n",
       "      <td>-502.520901</td>\n",
       "      <td>11.912783</td>\n",
       "      <td>-501.133383</td>\n",
       "      <td>10.070913</td>\n",
       "      <td>-500.129135</td>\n",
       "      <td>8.013877</td>\n",
       "      <td>-500.517572</td>\n",
       "      <td>14.028663</td>\n",
       "      <td>-601.427363</td>\n",
       "    </tr>\n",
       "    <tr>\n",
       "      <th>3</th>\n",
       "      <td>2016-01-15 03:00:00</td>\n",
       "      <td>6.047977</td>\n",
       "      <td>9.977019</td>\n",
       "      <td>4.858634</td>\n",
       "      <td>42.689819</td>\n",
       "      <td>68.347543</td>\n",
       "      <td>10.422762</td>\n",
       "      <td>0.883763</td>\n",
       "      <td>16.532835</td>\n",
       "      <td>2.146849</td>\n",
       "      <td>...</td>\n",
       "      <td>14.036510</td>\n",
       "      <td>-500.857308</td>\n",
       "      <td>11.999550</td>\n",
       "      <td>-501.193686</td>\n",
       "      <td>9.970366</td>\n",
       "      <td>-499.201640</td>\n",
       "      <td>7.977324</td>\n",
       "      <td>-500.255908</td>\n",
       "      <td>14.005551</td>\n",
       "      <td>-599.996129</td>\n",
       "    </tr>\n",
       "    <tr>\n",
       "      <th>4</th>\n",
       "      <td>2016-01-15 04:00:00</td>\n",
       "      <td>6.148599</td>\n",
       "      <td>10.142511</td>\n",
       "      <td>4.939416</td>\n",
       "      <td>42.774141</td>\n",
       "      <td>66.927016</td>\n",
       "      <td>10.360302</td>\n",
       "      <td>0.792826</td>\n",
       "      <td>16.525686</td>\n",
       "      <td>2.055292</td>\n",
       "      <td>...</td>\n",
       "      <td>14.027298</td>\n",
       "      <td>-499.838632</td>\n",
       "      <td>11.953070</td>\n",
       "      <td>-501.053894</td>\n",
       "      <td>9.925709</td>\n",
       "      <td>-501.686727</td>\n",
       "      <td>7.894242</td>\n",
       "      <td>-500.356035</td>\n",
       "      <td>13.996647</td>\n",
       "      <td>-601.496691</td>\n",
       "    </tr>\n",
       "  </tbody>\n",
       "</table>\n",
       "<p>5 rows × 87 columns</p>\n",
       "</div>"
      ],
      "text/plain": [
       "                  date  final.output.concentrate_ag  \\\n",
       "0  2016-01-15 00:00:00                     6.055403   \n",
       "1  2016-01-15 01:00:00                     6.029369   \n",
       "2  2016-01-15 02:00:00                     6.055926   \n",
       "3  2016-01-15 03:00:00                     6.047977   \n",
       "4  2016-01-15 04:00:00                     6.148599   \n",
       "\n",
       "   final.output.concentrate_pb  final.output.concentrate_sol  \\\n",
       "0                     9.889648                      5.507324   \n",
       "1                     9.968944                      5.257781   \n",
       "2                    10.213995                      5.383759   \n",
       "3                     9.977019                      4.858634   \n",
       "4                    10.142511                      4.939416   \n",
       "\n",
       "   final.output.concentrate_au  final.output.recovery  final.output.tail_ag  \\\n",
       "0                    42.192020              70.541216             10.411962   \n",
       "1                    42.701629              69.266198             10.462676   \n",
       "2                    42.657501              68.116445             10.507046   \n",
       "3                    42.689819              68.347543             10.422762   \n",
       "4                    42.774141              66.927016             10.360302   \n",
       "\n",
       "   final.output.tail_pb  final.output.tail_sol  final.output.tail_au  ...  \\\n",
       "0              0.895447              16.904297              2.143149  ...   \n",
       "1              0.927452              16.634514              2.224930  ...   \n",
       "2              0.953716              16.208849              2.257889  ...   \n",
       "3              0.883763              16.532835              2.146849  ...   \n",
       "4              0.792826              16.525686              2.055292  ...   \n",
       "\n",
       "   secondary_cleaner.state.floatbank4_a_air  \\\n",
       "0                                 14.016835   \n",
       "1                                 13.992281   \n",
       "2                                 14.015015   \n",
       "3                                 14.036510   \n",
       "4                                 14.027298   \n",
       "\n",
       "   secondary_cleaner.state.floatbank4_a_level  \\\n",
       "0                                 -502.488007   \n",
       "1                                 -505.503262   \n",
       "2                                 -502.520901   \n",
       "3                                 -500.857308   \n",
       "4                                 -499.838632   \n",
       "\n",
       "   secondary_cleaner.state.floatbank4_b_air  \\\n",
       "0                                 12.099931   \n",
       "1                                 11.950531   \n",
       "2                                 11.912783   \n",
       "3                                 11.999550   \n",
       "4                                 11.953070   \n",
       "\n",
       "   secondary_cleaner.state.floatbank4_b_level  \\\n",
       "0                                 -504.715942   \n",
       "1                                 -501.331529   \n",
       "2                                 -501.133383   \n",
       "3                                 -501.193686   \n",
       "4                                 -501.053894   \n",
       "\n",
       "   secondary_cleaner.state.floatbank5_a_air  \\\n",
       "0                                  9.925633   \n",
       "1                                 10.039245   \n",
       "2                                 10.070913   \n",
       "3                                  9.970366   \n",
       "4                                  9.925709   \n",
       "\n",
       "   secondary_cleaner.state.floatbank5_a_level  \\\n",
       "0                                 -498.310211   \n",
       "1                                 -500.169983   \n",
       "2                                 -500.129135   \n",
       "3                                 -499.201640   \n",
       "4                                 -501.686727   \n",
       "\n",
       "   secondary_cleaner.state.floatbank5_b_air  \\\n",
       "0                                  8.079666   \n",
       "1                                  7.984757   \n",
       "2                                  8.013877   \n",
       "3                                  7.977324   \n",
       "4                                  7.894242   \n",
       "\n",
       "   secondary_cleaner.state.floatbank5_b_level  \\\n",
       "0                                 -500.470978   \n",
       "1                                 -500.582168   \n",
       "2                                 -500.517572   \n",
       "3                                 -500.255908   \n",
       "4                                 -500.356035   \n",
       "\n",
       "   secondary_cleaner.state.floatbank6_a_air  \\\n",
       "0                                 14.151341   \n",
       "1                                 13.998353   \n",
       "2                                 14.028663   \n",
       "3                                 14.005551   \n",
       "4                                 13.996647   \n",
       "\n",
       "   secondary_cleaner.state.floatbank6_a_level  \n",
       "0                                 -605.841980  \n",
       "1                                 -599.787184  \n",
       "2                                 -601.427363  \n",
       "3                                 -599.996129  \n",
       "4                                 -601.496691  \n",
       "\n",
       "[5 rows x 87 columns]"
      ]
     },
     "metadata": {},
     "output_type": "display_data"
    },
    {
     "name": "stdout",
     "output_type": "stream",
     "text": [
      "<class 'pandas.core.frame.DataFrame'>\n",
      "RangeIndex: 14149 entries, 0 to 14148\n",
      "Data columns (total 87 columns):\n",
      " #   Column                                              Non-Null Count  Dtype  \n",
      "---  ------                                              --------------  -----  \n",
      " 0   date                                                14149 non-null  object \n",
      " 1   final.output.concentrate_ag                         14148 non-null  float64\n",
      " 2   final.output.concentrate_pb                         14148 non-null  float64\n",
      " 3   final.output.concentrate_sol                        13938 non-null  float64\n",
      " 4   final.output.concentrate_au                         14149 non-null  float64\n",
      " 5   final.output.recovery                               14149 non-null  float64\n",
      " 6   final.output.tail_ag                                14149 non-null  float64\n",
      " 7   final.output.tail_pb                                14049 non-null  float64\n",
      " 8   final.output.tail_sol                               14144 non-null  float64\n",
      " 9   final.output.tail_au                                14149 non-null  float64\n",
      " 10  primary_cleaner.input.sulfate                       14129 non-null  float64\n",
      " 11  primary_cleaner.input.depressant                    14117 non-null  float64\n",
      " 12  primary_cleaner.input.feed_size                     14149 non-null  float64\n",
      " 13  primary_cleaner.input.xanthate                      14049 non-null  float64\n",
      " 14  primary_cleaner.output.concentrate_ag               14149 non-null  float64\n",
      " 15  primary_cleaner.output.concentrate_pb               14063 non-null  float64\n",
      " 16  primary_cleaner.output.concentrate_sol              13863 non-null  float64\n",
      " 17  primary_cleaner.output.concentrate_au               14149 non-null  float64\n",
      " 18  primary_cleaner.output.tail_ag                      14148 non-null  float64\n",
      " 19  primary_cleaner.output.tail_pb                      14134 non-null  float64\n",
      " 20  primary_cleaner.output.tail_sol                     14103 non-null  float64\n",
      " 21  primary_cleaner.output.tail_au                      14149 non-null  float64\n",
      " 22  primary_cleaner.state.floatbank8_a_air              14145 non-null  float64\n",
      " 23  primary_cleaner.state.floatbank8_a_level            14148 non-null  float64\n",
      " 24  primary_cleaner.state.floatbank8_b_air              14145 non-null  float64\n",
      " 25  primary_cleaner.state.floatbank8_b_level            14148 non-null  float64\n",
      " 26  primary_cleaner.state.floatbank8_c_air              14147 non-null  float64\n",
      " 27  primary_cleaner.state.floatbank8_c_level            14148 non-null  float64\n",
      " 28  primary_cleaner.state.floatbank8_d_air              14146 non-null  float64\n",
      " 29  primary_cleaner.state.floatbank8_d_level            14148 non-null  float64\n",
      " 30  rougher.calculation.sulfate_to_au_concentrate       14148 non-null  float64\n",
      " 31  rougher.calculation.floatbank10_sulfate_to_au_feed  14148 non-null  float64\n",
      " 32  rougher.calculation.floatbank11_sulfate_to_au_feed  14148 non-null  float64\n",
      " 33  rougher.calculation.au_pb_ratio                     14149 non-null  float64\n",
      " 34  rougher.input.feed_ag                               14149 non-null  float64\n",
      " 35  rougher.input.feed_pb                               14049 non-null  float64\n",
      " 36  rougher.input.feed_rate                             14141 non-null  float64\n",
      " 37  rougher.input.feed_size                             14005 non-null  float64\n",
      " 38  rougher.input.feed_sol                              14071 non-null  float64\n",
      " 39  rougher.input.feed_au                               14149 non-null  float64\n",
      " 40  rougher.input.floatbank10_sulfate                   14120 non-null  float64\n",
      " 41  rougher.input.floatbank10_xanthate                  14141 non-null  float64\n",
      " 42  rougher.input.floatbank11_sulfate                   14113 non-null  float64\n",
      " 43  rougher.input.floatbank11_xanthate                  13721 non-null  float64\n",
      " 44  rougher.output.concentrate_ag                       14149 non-null  float64\n",
      " 45  rougher.output.concentrate_pb                       14149 non-null  float64\n",
      " 46  rougher.output.concentrate_sol                      14127 non-null  float64\n",
      " 47  rougher.output.concentrate_au                       14149 non-null  float64\n",
      " 48  rougher.output.recovery                             14149 non-null  float64\n",
      " 49  rougher.output.tail_ag                              14148 non-null  float64\n",
      " 50  rougher.output.tail_pb                              14149 non-null  float64\n",
      " 51  rougher.output.tail_sol                             14149 non-null  float64\n",
      " 52  rougher.output.tail_au                              14149 non-null  float64\n",
      " 53  rougher.state.floatbank10_a_air                     14148 non-null  float64\n",
      " 54  rougher.state.floatbank10_a_level                   14148 non-null  float64\n",
      " 55  rougher.state.floatbank10_b_air                     14148 non-null  float64\n",
      " 56  rougher.state.floatbank10_b_level                   14148 non-null  float64\n",
      " 57  rougher.state.floatbank10_c_air                     14148 non-null  float64\n",
      " 58  rougher.state.floatbank10_c_level                   14148 non-null  float64\n",
      " 59  rougher.state.floatbank10_d_air                     14149 non-null  float64\n",
      " 60  rougher.state.floatbank10_d_level                   14149 non-null  float64\n",
      " 61  rougher.state.floatbank10_e_air                     13713 non-null  float64\n",
      " 62  rougher.state.floatbank10_e_level                   14149 non-null  float64\n",
      " 63  rougher.state.floatbank10_f_air                     14149 non-null  float64\n",
      " 64  rougher.state.floatbank10_f_level                   14149 non-null  float64\n",
      " 65  secondary_cleaner.output.tail_ag                    14147 non-null  float64\n",
      " 66  secondary_cleaner.output.tail_pb                    14139 non-null  float64\n",
      " 67  secondary_cleaner.output.tail_sol                   12544 non-null  float64\n",
      " 68  secondary_cleaner.output.tail_au                    14149 non-null  float64\n",
      " 69  secondary_cleaner.state.floatbank2_a_air            13932 non-null  float64\n",
      " 70  secondary_cleaner.state.floatbank2_a_level          14148 non-null  float64\n",
      " 71  secondary_cleaner.state.floatbank2_b_air            14128 non-null  float64\n",
      " 72  secondary_cleaner.state.floatbank2_b_level          14148 non-null  float64\n",
      " 73  secondary_cleaner.state.floatbank3_a_air            14145 non-null  float64\n",
      " 74  secondary_cleaner.state.floatbank3_a_level          14148 non-null  float64\n",
      " 75  secondary_cleaner.state.floatbank3_b_air            14148 non-null  float64\n",
      " 76  secondary_cleaner.state.floatbank3_b_level          14148 non-null  float64\n",
      " 77  secondary_cleaner.state.floatbank4_a_air            14143 non-null  float64\n",
      " 78  secondary_cleaner.state.floatbank4_a_level          14148 non-null  float64\n",
      " 79  secondary_cleaner.state.floatbank4_b_air            14148 non-null  float64\n",
      " 80  secondary_cleaner.state.floatbank4_b_level          14148 non-null  float64\n",
      " 81  secondary_cleaner.state.floatbank5_a_air            14148 non-null  float64\n",
      " 82  secondary_cleaner.state.floatbank5_a_level          14148 non-null  float64\n",
      " 83  secondary_cleaner.state.floatbank5_b_air            14148 non-null  float64\n",
      " 84  secondary_cleaner.state.floatbank5_b_level          14148 non-null  float64\n",
      " 85  secondary_cleaner.state.floatbank6_a_air            14147 non-null  float64\n",
      " 86  secondary_cleaner.state.floatbank6_a_level          14148 non-null  float64\n",
      "dtypes: float64(86), object(1)\n",
      "memory usage: 9.4+ MB\n"
     ]
    },
    {
     "data": {
      "text/plain": [
       "None"
      ]
     },
     "metadata": {},
     "output_type": "display_data"
    },
    {
     "data": {
      "text/html": [
       "<div>\n",
       "<style scoped>\n",
       "    .dataframe tbody tr th:only-of-type {\n",
       "        vertical-align: middle;\n",
       "    }\n",
       "\n",
       "    .dataframe tbody tr th {\n",
       "        vertical-align: top;\n",
       "    }\n",
       "\n",
       "    .dataframe thead th {\n",
       "        text-align: right;\n",
       "    }\n",
       "</style>\n",
       "<table border=\"1\" class=\"dataframe\">\n",
       "  <thead>\n",
       "    <tr style=\"text-align: right;\">\n",
       "      <th></th>\n",
       "      <th>final.output.concentrate_ag</th>\n",
       "      <th>final.output.concentrate_pb</th>\n",
       "      <th>final.output.concentrate_sol</th>\n",
       "      <th>final.output.concentrate_au</th>\n",
       "      <th>final.output.recovery</th>\n",
       "      <th>final.output.tail_ag</th>\n",
       "      <th>final.output.tail_pb</th>\n",
       "      <th>final.output.tail_sol</th>\n",
       "      <th>final.output.tail_au</th>\n",
       "      <th>primary_cleaner.input.sulfate</th>\n",
       "      <th>...</th>\n",
       "      <th>secondary_cleaner.state.floatbank4_a_air</th>\n",
       "      <th>secondary_cleaner.state.floatbank4_a_level</th>\n",
       "      <th>secondary_cleaner.state.floatbank4_b_air</th>\n",
       "      <th>secondary_cleaner.state.floatbank4_b_level</th>\n",
       "      <th>secondary_cleaner.state.floatbank5_a_air</th>\n",
       "      <th>secondary_cleaner.state.floatbank5_a_level</th>\n",
       "      <th>secondary_cleaner.state.floatbank5_b_air</th>\n",
       "      <th>secondary_cleaner.state.floatbank5_b_level</th>\n",
       "      <th>secondary_cleaner.state.floatbank6_a_air</th>\n",
       "      <th>secondary_cleaner.state.floatbank6_a_level</th>\n",
       "    </tr>\n",
       "  </thead>\n",
       "  <tbody>\n",
       "    <tr>\n",
       "      <th>count</th>\n",
       "      <td>14148.000000</td>\n",
       "      <td>14148.000000</td>\n",
       "      <td>13938.000000</td>\n",
       "      <td>14149.000000</td>\n",
       "      <td>14149.000000</td>\n",
       "      <td>14149.000000</td>\n",
       "      <td>14049.000000</td>\n",
       "      <td>14144.000000</td>\n",
       "      <td>14149.000000</td>\n",
       "      <td>14129.000000</td>\n",
       "      <td>...</td>\n",
       "      <td>14143.000000</td>\n",
       "      <td>14148.000000</td>\n",
       "      <td>14148.000000</td>\n",
       "      <td>14148.000000</td>\n",
       "      <td>14148.000000</td>\n",
       "      <td>14148.000000</td>\n",
       "      <td>14148.000000</td>\n",
       "      <td>14148.000000</td>\n",
       "      <td>14147.000000</td>\n",
       "      <td>14148.000000</td>\n",
       "    </tr>\n",
       "    <tr>\n",
       "      <th>mean</th>\n",
       "      <td>5.142034</td>\n",
       "      <td>10.132960</td>\n",
       "      <td>9.202849</td>\n",
       "      <td>44.003792</td>\n",
       "      <td>66.518832</td>\n",
       "      <td>9.607035</td>\n",
       "      <td>2.597298</td>\n",
       "      <td>10.512122</td>\n",
       "      <td>2.918421</td>\n",
       "      <td>133.320659</td>\n",
       "      <td>...</td>\n",
       "      <td>19.985454</td>\n",
       "      <td>-478.696836</td>\n",
       "      <td>15.487065</td>\n",
       "      <td>-460.229416</td>\n",
       "      <td>16.775136</td>\n",
       "      <td>-483.956022</td>\n",
       "      <td>13.064590</td>\n",
       "      <td>-483.966564</td>\n",
       "      <td>19.577539</td>\n",
       "      <td>-506.798480</td>\n",
       "    </tr>\n",
       "    <tr>\n",
       "      <th>std</th>\n",
       "      <td>1.369586</td>\n",
       "      <td>1.654930</td>\n",
       "      <td>2.790516</td>\n",
       "      <td>4.905261</td>\n",
       "      <td>10.295402</td>\n",
       "      <td>2.319069</td>\n",
       "      <td>0.971843</td>\n",
       "      <td>3.003617</td>\n",
       "      <td>0.903712</td>\n",
       "      <td>39.431659</td>\n",
       "      <td>...</td>\n",
       "      <td>5.657723</td>\n",
       "      <td>50.736021</td>\n",
       "      <td>5.255655</td>\n",
       "      <td>58.843586</td>\n",
       "      <td>5.831906</td>\n",
       "      <td>37.892788</td>\n",
       "      <td>5.765617</td>\n",
       "      <td>39.207913</td>\n",
       "      <td>5.764417</td>\n",
       "      <td>37.079249</td>\n",
       "    </tr>\n",
       "    <tr>\n",
       "      <th>min</th>\n",
       "      <td>0.000000</td>\n",
       "      <td>0.000000</td>\n",
       "      <td>0.000000</td>\n",
       "      <td>0.000000</td>\n",
       "      <td>0.000000</td>\n",
       "      <td>0.000000</td>\n",
       "      <td>0.000000</td>\n",
       "      <td>0.000000</td>\n",
       "      <td>0.000000</td>\n",
       "      <td>0.003112</td>\n",
       "      <td>...</td>\n",
       "      <td>0.000000</td>\n",
       "      <td>-799.709069</td>\n",
       "      <td>0.000000</td>\n",
       "      <td>-799.889113</td>\n",
       "      <td>-0.372054</td>\n",
       "      <td>-797.142475</td>\n",
       "      <td>0.646208</td>\n",
       "      <td>-800.006180</td>\n",
       "      <td>0.195324</td>\n",
       "      <td>-809.398668</td>\n",
       "    </tr>\n",
       "    <tr>\n",
       "      <th>25%</th>\n",
       "      <td>4.211620</td>\n",
       "      <td>9.297355</td>\n",
       "      <td>7.484645</td>\n",
       "      <td>43.276111</td>\n",
       "      <td>62.545817</td>\n",
       "      <td>7.997429</td>\n",
       "      <td>1.905973</td>\n",
       "      <td>8.811324</td>\n",
       "      <td>2.368607</td>\n",
       "      <td>107.006651</td>\n",
       "      <td>...</td>\n",
       "      <td>14.990775</td>\n",
       "      <td>-500.628656</td>\n",
       "      <td>11.894558</td>\n",
       "      <td>-500.149000</td>\n",
       "      <td>11.083980</td>\n",
       "      <td>-500.363177</td>\n",
       "      <td>8.994405</td>\n",
       "      <td>-500.105994</td>\n",
       "      <td>14.989304</td>\n",
       "      <td>-500.745104</td>\n",
       "    </tr>\n",
       "    <tr>\n",
       "      <th>50%</th>\n",
       "      <td>4.994652</td>\n",
       "      <td>10.297144</td>\n",
       "      <td>8.845462</td>\n",
       "      <td>44.872436</td>\n",
       "      <td>67.432775</td>\n",
       "      <td>9.480270</td>\n",
       "      <td>2.592022</td>\n",
       "      <td>10.514621</td>\n",
       "      <td>2.851025</td>\n",
       "      <td>133.018328</td>\n",
       "      <td>...</td>\n",
       "      <td>20.001789</td>\n",
       "      <td>-499.681450</td>\n",
       "      <td>14.975536</td>\n",
       "      <td>-499.388738</td>\n",
       "      <td>17.932223</td>\n",
       "      <td>-499.702452</td>\n",
       "      <td>11.997547</td>\n",
       "      <td>-499.914556</td>\n",
       "      <td>19.984175</td>\n",
       "      <td>-500.061431</td>\n",
       "    </tr>\n",
       "    <tr>\n",
       "      <th>75%</th>\n",
       "      <td>5.859540</td>\n",
       "      <td>11.170603</td>\n",
       "      <td>10.487508</td>\n",
       "      <td>46.166425</td>\n",
       "      <td>72.346428</td>\n",
       "      <td>11.003707</td>\n",
       "      <td>3.241723</td>\n",
       "      <td>11.933009</td>\n",
       "      <td>3.434764</td>\n",
       "      <td>159.825396</td>\n",
       "      <td>...</td>\n",
       "      <td>24.990826</td>\n",
       "      <td>-477.472413</td>\n",
       "      <td>20.059375</td>\n",
       "      <td>-400.039008</td>\n",
       "      <td>21.346550</td>\n",
       "      <td>-487.712108</td>\n",
       "      <td>17.982903</td>\n",
       "      <td>-453.186936</td>\n",
       "      <td>24.991623</td>\n",
       "      <td>-499.536466</td>\n",
       "    </tr>\n",
       "    <tr>\n",
       "      <th>max</th>\n",
       "      <td>16.001945</td>\n",
       "      <td>17.031899</td>\n",
       "      <td>18.124851</td>\n",
       "      <td>52.756638</td>\n",
       "      <td>100.000000</td>\n",
       "      <td>19.552149</td>\n",
       "      <td>5.639565</td>\n",
       "      <td>22.317730</td>\n",
       "      <td>8.197408</td>\n",
       "      <td>250.127834</td>\n",
       "      <td>...</td>\n",
       "      <td>30.115735</td>\n",
       "      <td>-245.239184</td>\n",
       "      <td>24.007913</td>\n",
       "      <td>-145.071088</td>\n",
       "      <td>43.709931</td>\n",
       "      <td>-275.073125</td>\n",
       "      <td>27.926001</td>\n",
       "      <td>-157.396071</td>\n",
       "      <td>32.188906</td>\n",
       "      <td>-104.427459</td>\n",
       "    </tr>\n",
       "  </tbody>\n",
       "</table>\n",
       "<p>8 rows × 86 columns</p>\n",
       "</div>"
      ],
      "text/plain": [
       "       final.output.concentrate_ag  final.output.concentrate_pb  \\\n",
       "count                 14148.000000                 14148.000000   \n",
       "mean                      5.142034                    10.132960   \n",
       "std                       1.369586                     1.654930   \n",
       "min                       0.000000                     0.000000   \n",
       "25%                       4.211620                     9.297355   \n",
       "50%                       4.994652                    10.297144   \n",
       "75%                       5.859540                    11.170603   \n",
       "max                      16.001945                    17.031899   \n",
       "\n",
       "       final.output.concentrate_sol  final.output.concentrate_au  \\\n",
       "count                  13938.000000                 14149.000000   \n",
       "mean                       9.202849                    44.003792   \n",
       "std                        2.790516                     4.905261   \n",
       "min                        0.000000                     0.000000   \n",
       "25%                        7.484645                    43.276111   \n",
       "50%                        8.845462                    44.872436   \n",
       "75%                       10.487508                    46.166425   \n",
       "max                       18.124851                    52.756638   \n",
       "\n",
       "       final.output.recovery  final.output.tail_ag  final.output.tail_pb  \\\n",
       "count           14149.000000          14149.000000          14049.000000   \n",
       "mean               66.518832              9.607035              2.597298   \n",
       "std                10.295402              2.319069              0.971843   \n",
       "min                 0.000000              0.000000              0.000000   \n",
       "25%                62.545817              7.997429              1.905973   \n",
       "50%                67.432775              9.480270              2.592022   \n",
       "75%                72.346428             11.003707              3.241723   \n",
       "max               100.000000             19.552149              5.639565   \n",
       "\n",
       "       final.output.tail_sol  final.output.tail_au  \\\n",
       "count           14144.000000          14149.000000   \n",
       "mean               10.512122              2.918421   \n",
       "std                 3.003617              0.903712   \n",
       "min                 0.000000              0.000000   \n",
       "25%                 8.811324              2.368607   \n",
       "50%                10.514621              2.851025   \n",
       "75%                11.933009              3.434764   \n",
       "max                22.317730              8.197408   \n",
       "\n",
       "       primary_cleaner.input.sulfate  ...  \\\n",
       "count                   14129.000000  ...   \n",
       "mean                      133.320659  ...   \n",
       "std                        39.431659  ...   \n",
       "min                         0.003112  ...   \n",
       "25%                       107.006651  ...   \n",
       "50%                       133.018328  ...   \n",
       "75%                       159.825396  ...   \n",
       "max                       250.127834  ...   \n",
       "\n",
       "       secondary_cleaner.state.floatbank4_a_air  \\\n",
       "count                              14143.000000   \n",
       "mean                                  19.985454   \n",
       "std                                    5.657723   \n",
       "min                                    0.000000   \n",
       "25%                                   14.990775   \n",
       "50%                                   20.001789   \n",
       "75%                                   24.990826   \n",
       "max                                   30.115735   \n",
       "\n",
       "       secondary_cleaner.state.floatbank4_a_level  \\\n",
       "count                                14148.000000   \n",
       "mean                                  -478.696836   \n",
       "std                                     50.736021   \n",
       "min                                   -799.709069   \n",
       "25%                                   -500.628656   \n",
       "50%                                   -499.681450   \n",
       "75%                                   -477.472413   \n",
       "max                                   -245.239184   \n",
       "\n",
       "       secondary_cleaner.state.floatbank4_b_air  \\\n",
       "count                              14148.000000   \n",
       "mean                                  15.487065   \n",
       "std                                    5.255655   \n",
       "min                                    0.000000   \n",
       "25%                                   11.894558   \n",
       "50%                                   14.975536   \n",
       "75%                                   20.059375   \n",
       "max                                   24.007913   \n",
       "\n",
       "       secondary_cleaner.state.floatbank4_b_level  \\\n",
       "count                                14148.000000   \n",
       "mean                                  -460.229416   \n",
       "std                                     58.843586   \n",
       "min                                   -799.889113   \n",
       "25%                                   -500.149000   \n",
       "50%                                   -499.388738   \n",
       "75%                                   -400.039008   \n",
       "max                                   -145.071088   \n",
       "\n",
       "       secondary_cleaner.state.floatbank5_a_air  \\\n",
       "count                              14148.000000   \n",
       "mean                                  16.775136   \n",
       "std                                    5.831906   \n",
       "min                                   -0.372054   \n",
       "25%                                   11.083980   \n",
       "50%                                   17.932223   \n",
       "75%                                   21.346550   \n",
       "max                                   43.709931   \n",
       "\n",
       "       secondary_cleaner.state.floatbank5_a_level  \\\n",
       "count                                14148.000000   \n",
       "mean                                  -483.956022   \n",
       "std                                     37.892788   \n",
       "min                                   -797.142475   \n",
       "25%                                   -500.363177   \n",
       "50%                                   -499.702452   \n",
       "75%                                   -487.712108   \n",
       "max                                   -275.073125   \n",
       "\n",
       "       secondary_cleaner.state.floatbank5_b_air  \\\n",
       "count                              14148.000000   \n",
       "mean                                  13.064590   \n",
       "std                                    5.765617   \n",
       "min                                    0.646208   \n",
       "25%                                    8.994405   \n",
       "50%                                   11.997547   \n",
       "75%                                   17.982903   \n",
       "max                                   27.926001   \n",
       "\n",
       "       secondary_cleaner.state.floatbank5_b_level  \\\n",
       "count                                14148.000000   \n",
       "mean                                  -483.966564   \n",
       "std                                     39.207913   \n",
       "min                                   -800.006180   \n",
       "25%                                   -500.105994   \n",
       "50%                                   -499.914556   \n",
       "75%                                   -453.186936   \n",
       "max                                   -157.396071   \n",
       "\n",
       "       secondary_cleaner.state.floatbank6_a_air  \\\n",
       "count                              14147.000000   \n",
       "mean                                  19.577539   \n",
       "std                                    5.764417   \n",
       "min                                    0.195324   \n",
       "25%                                   14.989304   \n",
       "50%                                   19.984175   \n",
       "75%                                   24.991623   \n",
       "max                                   32.188906   \n",
       "\n",
       "       secondary_cleaner.state.floatbank6_a_level  \n",
       "count                                14148.000000  \n",
       "mean                                  -506.798480  \n",
       "std                                     37.079249  \n",
       "min                                   -809.398668  \n",
       "25%                                   -500.745104  \n",
       "50%                                   -500.061431  \n",
       "75%                                   -499.536466  \n",
       "max                                   -104.427459  \n",
       "\n",
       "[8 rows x 86 columns]"
      ]
     },
     "metadata": {},
     "output_type": "display_data"
    }
   ],
   "source": [
    "# ознакомимся с тренировочным датасетом\n",
    "get_info(data_train)"
   ]
  },
  {
   "cell_type": "code",
   "execution_count": 5,
   "metadata": {
    "scrolled": true
   },
   "outputs": [
    {
     "data": {
      "text/html": [
       "<div>\n",
       "<style scoped>\n",
       "    .dataframe tbody tr th:only-of-type {\n",
       "        vertical-align: middle;\n",
       "    }\n",
       "\n",
       "    .dataframe tbody tr th {\n",
       "        vertical-align: top;\n",
       "    }\n",
       "\n",
       "    .dataframe thead th {\n",
       "        text-align: right;\n",
       "    }\n",
       "</style>\n",
       "<table border=\"1\" class=\"dataframe\">\n",
       "  <thead>\n",
       "    <tr style=\"text-align: right;\">\n",
       "      <th></th>\n",
       "      <th>date</th>\n",
       "      <th>primary_cleaner.input.sulfate</th>\n",
       "      <th>primary_cleaner.input.depressant</th>\n",
       "      <th>primary_cleaner.input.feed_size</th>\n",
       "      <th>primary_cleaner.input.xanthate</th>\n",
       "      <th>primary_cleaner.state.floatbank8_a_air</th>\n",
       "      <th>primary_cleaner.state.floatbank8_a_level</th>\n",
       "      <th>primary_cleaner.state.floatbank8_b_air</th>\n",
       "      <th>primary_cleaner.state.floatbank8_b_level</th>\n",
       "      <th>primary_cleaner.state.floatbank8_c_air</th>\n",
       "      <th>...</th>\n",
       "      <th>secondary_cleaner.state.floatbank4_a_air</th>\n",
       "      <th>secondary_cleaner.state.floatbank4_a_level</th>\n",
       "      <th>secondary_cleaner.state.floatbank4_b_air</th>\n",
       "      <th>secondary_cleaner.state.floatbank4_b_level</th>\n",
       "      <th>secondary_cleaner.state.floatbank5_a_air</th>\n",
       "      <th>secondary_cleaner.state.floatbank5_a_level</th>\n",
       "      <th>secondary_cleaner.state.floatbank5_b_air</th>\n",
       "      <th>secondary_cleaner.state.floatbank5_b_level</th>\n",
       "      <th>secondary_cleaner.state.floatbank6_a_air</th>\n",
       "      <th>secondary_cleaner.state.floatbank6_a_level</th>\n",
       "    </tr>\n",
       "  </thead>\n",
       "  <tbody>\n",
       "    <tr>\n",
       "      <th>0</th>\n",
       "      <td>2016-09-01 00:59:59</td>\n",
       "      <td>210.800909</td>\n",
       "      <td>14.993118</td>\n",
       "      <td>8.080000</td>\n",
       "      <td>1.005021</td>\n",
       "      <td>1398.981301</td>\n",
       "      <td>-500.225577</td>\n",
       "      <td>1399.144926</td>\n",
       "      <td>-499.919735</td>\n",
       "      <td>1400.102998</td>\n",
       "      <td>...</td>\n",
       "      <td>12.023554</td>\n",
       "      <td>-497.795834</td>\n",
       "      <td>8.016656</td>\n",
       "      <td>-501.289139</td>\n",
       "      <td>7.946562</td>\n",
       "      <td>-432.317850</td>\n",
       "      <td>4.872511</td>\n",
       "      <td>-500.037437</td>\n",
       "      <td>26.705889</td>\n",
       "      <td>-499.709414</td>\n",
       "    </tr>\n",
       "    <tr>\n",
       "      <th>1</th>\n",
       "      <td>2016-09-01 01:59:59</td>\n",
       "      <td>215.392455</td>\n",
       "      <td>14.987471</td>\n",
       "      <td>8.080000</td>\n",
       "      <td>0.990469</td>\n",
       "      <td>1398.777912</td>\n",
       "      <td>-500.057435</td>\n",
       "      <td>1398.055362</td>\n",
       "      <td>-499.778182</td>\n",
       "      <td>1396.151033</td>\n",
       "      <td>...</td>\n",
       "      <td>12.058140</td>\n",
       "      <td>-498.695773</td>\n",
       "      <td>8.130979</td>\n",
       "      <td>-499.634209</td>\n",
       "      <td>7.958270</td>\n",
       "      <td>-525.839648</td>\n",
       "      <td>4.878850</td>\n",
       "      <td>-500.162375</td>\n",
       "      <td>25.019940</td>\n",
       "      <td>-499.819438</td>\n",
       "    </tr>\n",
       "    <tr>\n",
       "      <th>2</th>\n",
       "      <td>2016-09-01 02:59:59</td>\n",
       "      <td>215.259946</td>\n",
       "      <td>12.884934</td>\n",
       "      <td>7.786667</td>\n",
       "      <td>0.996043</td>\n",
       "      <td>1398.493666</td>\n",
       "      <td>-500.868360</td>\n",
       "      <td>1398.860436</td>\n",
       "      <td>-499.764529</td>\n",
       "      <td>1398.075709</td>\n",
       "      <td>...</td>\n",
       "      <td>11.962366</td>\n",
       "      <td>-498.767484</td>\n",
       "      <td>8.096893</td>\n",
       "      <td>-500.827423</td>\n",
       "      <td>8.071056</td>\n",
       "      <td>-500.801673</td>\n",
       "      <td>4.905125</td>\n",
       "      <td>-499.828510</td>\n",
       "      <td>24.994862</td>\n",
       "      <td>-500.622559</td>\n",
       "    </tr>\n",
       "    <tr>\n",
       "      <th>3</th>\n",
       "      <td>2016-09-01 03:59:59</td>\n",
       "      <td>215.336236</td>\n",
       "      <td>12.006805</td>\n",
       "      <td>7.640000</td>\n",
       "      <td>0.863514</td>\n",
       "      <td>1399.618111</td>\n",
       "      <td>-498.863574</td>\n",
       "      <td>1397.440120</td>\n",
       "      <td>-499.211024</td>\n",
       "      <td>1400.129303</td>\n",
       "      <td>...</td>\n",
       "      <td>12.033091</td>\n",
       "      <td>-498.350935</td>\n",
       "      <td>8.074946</td>\n",
       "      <td>-499.474407</td>\n",
       "      <td>7.897085</td>\n",
       "      <td>-500.868509</td>\n",
       "      <td>4.931400</td>\n",
       "      <td>-499.963623</td>\n",
       "      <td>24.948919</td>\n",
       "      <td>-498.709987</td>\n",
       "    </tr>\n",
       "    <tr>\n",
       "      <th>4</th>\n",
       "      <td>2016-09-01 04:59:59</td>\n",
       "      <td>199.099327</td>\n",
       "      <td>10.682530</td>\n",
       "      <td>7.530000</td>\n",
       "      <td>0.805575</td>\n",
       "      <td>1401.268123</td>\n",
       "      <td>-500.808305</td>\n",
       "      <td>1398.128818</td>\n",
       "      <td>-499.504543</td>\n",
       "      <td>1402.172226</td>\n",
       "      <td>...</td>\n",
       "      <td>12.025367</td>\n",
       "      <td>-500.786497</td>\n",
       "      <td>8.054678</td>\n",
       "      <td>-500.397500</td>\n",
       "      <td>8.107890</td>\n",
       "      <td>-509.526725</td>\n",
       "      <td>4.957674</td>\n",
       "      <td>-500.360026</td>\n",
       "      <td>25.003331</td>\n",
       "      <td>-500.856333</td>\n",
       "    </tr>\n",
       "  </tbody>\n",
       "</table>\n",
       "<p>5 rows × 53 columns</p>\n",
       "</div>"
      ],
      "text/plain": [
       "                  date  primary_cleaner.input.sulfate  \\\n",
       "0  2016-09-01 00:59:59                     210.800909   \n",
       "1  2016-09-01 01:59:59                     215.392455   \n",
       "2  2016-09-01 02:59:59                     215.259946   \n",
       "3  2016-09-01 03:59:59                     215.336236   \n",
       "4  2016-09-01 04:59:59                     199.099327   \n",
       "\n",
       "   primary_cleaner.input.depressant  primary_cleaner.input.feed_size  \\\n",
       "0                         14.993118                         8.080000   \n",
       "1                         14.987471                         8.080000   \n",
       "2                         12.884934                         7.786667   \n",
       "3                         12.006805                         7.640000   \n",
       "4                         10.682530                         7.530000   \n",
       "\n",
       "   primary_cleaner.input.xanthate  primary_cleaner.state.floatbank8_a_air  \\\n",
       "0                        1.005021                             1398.981301   \n",
       "1                        0.990469                             1398.777912   \n",
       "2                        0.996043                             1398.493666   \n",
       "3                        0.863514                             1399.618111   \n",
       "4                        0.805575                             1401.268123   \n",
       "\n",
       "   primary_cleaner.state.floatbank8_a_level  \\\n",
       "0                               -500.225577   \n",
       "1                               -500.057435   \n",
       "2                               -500.868360   \n",
       "3                               -498.863574   \n",
       "4                               -500.808305   \n",
       "\n",
       "   primary_cleaner.state.floatbank8_b_air  \\\n",
       "0                             1399.144926   \n",
       "1                             1398.055362   \n",
       "2                             1398.860436   \n",
       "3                             1397.440120   \n",
       "4                             1398.128818   \n",
       "\n",
       "   primary_cleaner.state.floatbank8_b_level  \\\n",
       "0                               -499.919735   \n",
       "1                               -499.778182   \n",
       "2                               -499.764529   \n",
       "3                               -499.211024   \n",
       "4                               -499.504543   \n",
       "\n",
       "   primary_cleaner.state.floatbank8_c_air  ...  \\\n",
       "0                             1400.102998  ...   \n",
       "1                             1396.151033  ...   \n",
       "2                             1398.075709  ...   \n",
       "3                             1400.129303  ...   \n",
       "4                             1402.172226  ...   \n",
       "\n",
       "   secondary_cleaner.state.floatbank4_a_air  \\\n",
       "0                                 12.023554   \n",
       "1                                 12.058140   \n",
       "2                                 11.962366   \n",
       "3                                 12.033091   \n",
       "4                                 12.025367   \n",
       "\n",
       "   secondary_cleaner.state.floatbank4_a_level  \\\n",
       "0                                 -497.795834   \n",
       "1                                 -498.695773   \n",
       "2                                 -498.767484   \n",
       "3                                 -498.350935   \n",
       "4                                 -500.786497   \n",
       "\n",
       "   secondary_cleaner.state.floatbank4_b_air  \\\n",
       "0                                  8.016656   \n",
       "1                                  8.130979   \n",
       "2                                  8.096893   \n",
       "3                                  8.074946   \n",
       "4                                  8.054678   \n",
       "\n",
       "   secondary_cleaner.state.floatbank4_b_level  \\\n",
       "0                                 -501.289139   \n",
       "1                                 -499.634209   \n",
       "2                                 -500.827423   \n",
       "3                                 -499.474407   \n",
       "4                                 -500.397500   \n",
       "\n",
       "   secondary_cleaner.state.floatbank5_a_air  \\\n",
       "0                                  7.946562   \n",
       "1                                  7.958270   \n",
       "2                                  8.071056   \n",
       "3                                  7.897085   \n",
       "4                                  8.107890   \n",
       "\n",
       "   secondary_cleaner.state.floatbank5_a_level  \\\n",
       "0                                 -432.317850   \n",
       "1                                 -525.839648   \n",
       "2                                 -500.801673   \n",
       "3                                 -500.868509   \n",
       "4                                 -509.526725   \n",
       "\n",
       "   secondary_cleaner.state.floatbank5_b_air  \\\n",
       "0                                  4.872511   \n",
       "1                                  4.878850   \n",
       "2                                  4.905125   \n",
       "3                                  4.931400   \n",
       "4                                  4.957674   \n",
       "\n",
       "   secondary_cleaner.state.floatbank5_b_level  \\\n",
       "0                                 -500.037437   \n",
       "1                                 -500.162375   \n",
       "2                                 -499.828510   \n",
       "3                                 -499.963623   \n",
       "4                                 -500.360026   \n",
       "\n",
       "   secondary_cleaner.state.floatbank6_a_air  \\\n",
       "0                                 26.705889   \n",
       "1                                 25.019940   \n",
       "2                                 24.994862   \n",
       "3                                 24.948919   \n",
       "4                                 25.003331   \n",
       "\n",
       "   secondary_cleaner.state.floatbank6_a_level  \n",
       "0                                 -499.709414  \n",
       "1                                 -499.819438  \n",
       "2                                 -500.622559  \n",
       "3                                 -498.709987  \n",
       "4                                 -500.856333  \n",
       "\n",
       "[5 rows x 53 columns]"
      ]
     },
     "metadata": {},
     "output_type": "display_data"
    },
    {
     "name": "stdout",
     "output_type": "stream",
     "text": [
      "<class 'pandas.core.frame.DataFrame'>\n",
      "RangeIndex: 5290 entries, 0 to 5289\n",
      "Data columns (total 53 columns):\n",
      " #   Column                                      Non-Null Count  Dtype  \n",
      "---  ------                                      --------------  -----  \n",
      " 0   date                                        5290 non-null   object \n",
      " 1   primary_cleaner.input.sulfate               5286 non-null   float64\n",
      " 2   primary_cleaner.input.depressant            5285 non-null   float64\n",
      " 3   primary_cleaner.input.feed_size             5290 non-null   float64\n",
      " 4   primary_cleaner.input.xanthate              5286 non-null   float64\n",
      " 5   primary_cleaner.state.floatbank8_a_air      5290 non-null   float64\n",
      " 6   primary_cleaner.state.floatbank8_a_level    5290 non-null   float64\n",
      " 7   primary_cleaner.state.floatbank8_b_air      5290 non-null   float64\n",
      " 8   primary_cleaner.state.floatbank8_b_level    5290 non-null   float64\n",
      " 9   primary_cleaner.state.floatbank8_c_air      5290 non-null   float64\n",
      " 10  primary_cleaner.state.floatbank8_c_level    5290 non-null   float64\n",
      " 11  primary_cleaner.state.floatbank8_d_air      5290 non-null   float64\n",
      " 12  primary_cleaner.state.floatbank8_d_level    5290 non-null   float64\n",
      " 13  rougher.input.feed_ag                       5290 non-null   float64\n",
      " 14  rougher.input.feed_pb                       5290 non-null   float64\n",
      " 15  rougher.input.feed_rate                     5287 non-null   float64\n",
      " 16  rougher.input.feed_size                     5289 non-null   float64\n",
      " 17  rougher.input.feed_sol                      5269 non-null   float64\n",
      " 18  rougher.input.feed_au                       5290 non-null   float64\n",
      " 19  rougher.input.floatbank10_sulfate           5285 non-null   float64\n",
      " 20  rougher.input.floatbank10_xanthate          5290 non-null   float64\n",
      " 21  rougher.input.floatbank11_sulfate           5282 non-null   float64\n",
      " 22  rougher.input.floatbank11_xanthate          5265 non-null   float64\n",
      " 23  rougher.state.floatbank10_a_air             5290 non-null   float64\n",
      " 24  rougher.state.floatbank10_a_level           5290 non-null   float64\n",
      " 25  rougher.state.floatbank10_b_air             5290 non-null   float64\n",
      " 26  rougher.state.floatbank10_b_level           5290 non-null   float64\n",
      " 27  rougher.state.floatbank10_c_air             5290 non-null   float64\n",
      " 28  rougher.state.floatbank10_c_level           5290 non-null   float64\n",
      " 29  rougher.state.floatbank10_d_air             5290 non-null   float64\n",
      " 30  rougher.state.floatbank10_d_level           5290 non-null   float64\n",
      " 31  rougher.state.floatbank10_e_air             5290 non-null   float64\n",
      " 32  rougher.state.floatbank10_e_level           5290 non-null   float64\n",
      " 33  rougher.state.floatbank10_f_air             5290 non-null   float64\n",
      " 34  rougher.state.floatbank10_f_level           5290 non-null   float64\n",
      " 35  secondary_cleaner.state.floatbank2_a_air    5287 non-null   float64\n",
      " 36  secondary_cleaner.state.floatbank2_a_level  5290 non-null   float64\n",
      " 37  secondary_cleaner.state.floatbank2_b_air    5288 non-null   float64\n",
      " 38  secondary_cleaner.state.floatbank2_b_level  5290 non-null   float64\n",
      " 39  secondary_cleaner.state.floatbank3_a_air    5281 non-null   float64\n",
      " 40  secondary_cleaner.state.floatbank3_a_level  5290 non-null   float64\n",
      " 41  secondary_cleaner.state.floatbank3_b_air    5290 non-null   float64\n",
      " 42  secondary_cleaner.state.floatbank3_b_level  5290 non-null   float64\n",
      " 43  secondary_cleaner.state.floatbank4_a_air    5290 non-null   float64\n",
      " 44  secondary_cleaner.state.floatbank4_a_level  5290 non-null   float64\n",
      " 45  secondary_cleaner.state.floatbank4_b_air    5290 non-null   float64\n",
      " 46  secondary_cleaner.state.floatbank4_b_level  5290 non-null   float64\n",
      " 47  secondary_cleaner.state.floatbank5_a_air    5290 non-null   float64\n",
      " 48  secondary_cleaner.state.floatbank5_a_level  5290 non-null   float64\n",
      " 49  secondary_cleaner.state.floatbank5_b_air    5290 non-null   float64\n",
      " 50  secondary_cleaner.state.floatbank5_b_level  5290 non-null   float64\n",
      " 51  secondary_cleaner.state.floatbank6_a_air    5290 non-null   float64\n",
      " 52  secondary_cleaner.state.floatbank6_a_level  5290 non-null   float64\n",
      "dtypes: float64(52), object(1)\n",
      "memory usage: 2.1+ MB\n"
     ]
    },
    {
     "data": {
      "text/plain": [
       "None"
      ]
     },
     "metadata": {},
     "output_type": "display_data"
    },
    {
     "data": {
      "text/html": [
       "<div>\n",
       "<style scoped>\n",
       "    .dataframe tbody tr th:only-of-type {\n",
       "        vertical-align: middle;\n",
       "    }\n",
       "\n",
       "    .dataframe tbody tr th {\n",
       "        vertical-align: top;\n",
       "    }\n",
       "\n",
       "    .dataframe thead th {\n",
       "        text-align: right;\n",
       "    }\n",
       "</style>\n",
       "<table border=\"1\" class=\"dataframe\">\n",
       "  <thead>\n",
       "    <tr style=\"text-align: right;\">\n",
       "      <th></th>\n",
       "      <th>primary_cleaner.input.sulfate</th>\n",
       "      <th>primary_cleaner.input.depressant</th>\n",
       "      <th>primary_cleaner.input.feed_size</th>\n",
       "      <th>primary_cleaner.input.xanthate</th>\n",
       "      <th>primary_cleaner.state.floatbank8_a_air</th>\n",
       "      <th>primary_cleaner.state.floatbank8_a_level</th>\n",
       "      <th>primary_cleaner.state.floatbank8_b_air</th>\n",
       "      <th>primary_cleaner.state.floatbank8_b_level</th>\n",
       "      <th>primary_cleaner.state.floatbank8_c_air</th>\n",
       "      <th>primary_cleaner.state.floatbank8_c_level</th>\n",
       "      <th>...</th>\n",
       "      <th>secondary_cleaner.state.floatbank4_a_air</th>\n",
       "      <th>secondary_cleaner.state.floatbank4_a_level</th>\n",
       "      <th>secondary_cleaner.state.floatbank4_b_air</th>\n",
       "      <th>secondary_cleaner.state.floatbank4_b_level</th>\n",
       "      <th>secondary_cleaner.state.floatbank5_a_air</th>\n",
       "      <th>secondary_cleaner.state.floatbank5_a_level</th>\n",
       "      <th>secondary_cleaner.state.floatbank5_b_air</th>\n",
       "      <th>secondary_cleaner.state.floatbank5_b_level</th>\n",
       "      <th>secondary_cleaner.state.floatbank6_a_air</th>\n",
       "      <th>secondary_cleaner.state.floatbank6_a_level</th>\n",
       "    </tr>\n",
       "  </thead>\n",
       "  <tbody>\n",
       "    <tr>\n",
       "      <th>count</th>\n",
       "      <td>5286.000000</td>\n",
       "      <td>5285.000000</td>\n",
       "      <td>5290.000000</td>\n",
       "      <td>5286.000000</td>\n",
       "      <td>5.290000e+03</td>\n",
       "      <td>5290.000000</td>\n",
       "      <td>5.290000e+03</td>\n",
       "      <td>5290.000000</td>\n",
       "      <td>5.290000e+03</td>\n",
       "      <td>5290.000000</td>\n",
       "      <td>...</td>\n",
       "      <td>5.290000e+03</td>\n",
       "      <td>5290.000000</td>\n",
       "      <td>5.290000e+03</td>\n",
       "      <td>5290.000000</td>\n",
       "      <td>5290.000000</td>\n",
       "      <td>5290.000000</td>\n",
       "      <td>5290.000000</td>\n",
       "      <td>5290.000000</td>\n",
       "      <td>5290.000000</td>\n",
       "      <td>5290.000000</td>\n",
       "    </tr>\n",
       "    <tr>\n",
       "      <th>mean</th>\n",
       "      <td>174.839652</td>\n",
       "      <td>8.683596</td>\n",
       "      <td>7.266339</td>\n",
       "      <td>1.383803</td>\n",
       "      <td>1.539494e+03</td>\n",
       "      <td>-497.665883</td>\n",
       "      <td>1.545174e+03</td>\n",
       "      <td>-500.273098</td>\n",
       "      <td>1.527272e+03</td>\n",
       "      <td>-498.330680</td>\n",
       "      <td>...</td>\n",
       "      <td>1.632007e+01</td>\n",
       "      <td>-505.144570</td>\n",
       "      <td>1.373544e+01</td>\n",
       "      <td>-463.349858</td>\n",
       "      <td>12.804186</td>\n",
       "      <td>-501.329122</td>\n",
       "      <td>9.881145</td>\n",
       "      <td>-495.663398</td>\n",
       "      <td>17.304935</td>\n",
       "      <td>-501.793193</td>\n",
       "    </tr>\n",
       "    <tr>\n",
       "      <th>std</th>\n",
       "      <td>43.027080</td>\n",
       "      <td>3.072050</td>\n",
       "      <td>0.610219</td>\n",
       "      <td>0.643474</td>\n",
       "      <td>1.167979e+02</td>\n",
       "      <td>19.952431</td>\n",
       "      <td>1.222246e+02</td>\n",
       "      <td>32.968307</td>\n",
       "      <td>1.225380e+02</td>\n",
       "      <td>21.964876</td>\n",
       "      <td>...</td>\n",
       "      <td>3.493583e+00</td>\n",
       "      <td>31.427337</td>\n",
       "      <td>3.430484e+00</td>\n",
       "      <td>86.189107</td>\n",
       "      <td>3.026591</td>\n",
       "      <td>17.951495</td>\n",
       "      <td>2.868205</td>\n",
       "      <td>34.535007</td>\n",
       "      <td>4.536544</td>\n",
       "      <td>39.044215</td>\n",
       "    </tr>\n",
       "    <tr>\n",
       "      <th>min</th>\n",
       "      <td>2.566156</td>\n",
       "      <td>0.003839</td>\n",
       "      <td>5.650000</td>\n",
       "      <td>0.004984</td>\n",
       "      <td>5.445860e-32</td>\n",
       "      <td>-795.316337</td>\n",
       "      <td>6.647490e-32</td>\n",
       "      <td>-799.997015</td>\n",
       "      <td>4.033736e-32</td>\n",
       "      <td>-799.960571</td>\n",
       "      <td>...</td>\n",
       "      <td>1.079872e-16</td>\n",
       "      <td>-799.798523</td>\n",
       "      <td>2.489718e-17</td>\n",
       "      <td>-800.836914</td>\n",
       "      <td>0.069227</td>\n",
       "      <td>-797.323986</td>\n",
       "      <td>0.528083</td>\n",
       "      <td>-800.220337</td>\n",
       "      <td>-0.079426</td>\n",
       "      <td>-809.741464</td>\n",
       "    </tr>\n",
       "    <tr>\n",
       "      <th>25%</th>\n",
       "      <td>147.121401</td>\n",
       "      <td>6.489555</td>\n",
       "      <td>6.890000</td>\n",
       "      <td>0.907623</td>\n",
       "      <td>1.498936e+03</td>\n",
       "      <td>-500.357298</td>\n",
       "      <td>1.498971e+03</td>\n",
       "      <td>-500.703002</td>\n",
       "      <td>1.473230e+03</td>\n",
       "      <td>-501.018117</td>\n",
       "      <td>...</td>\n",
       "      <td>1.403618e+01</td>\n",
       "      <td>-500.868258</td>\n",
       "      <td>1.202862e+01</td>\n",
       "      <td>-500.323028</td>\n",
       "      <td>10.914838</td>\n",
       "      <td>-500.726841</td>\n",
       "      <td>8.036719</td>\n",
       "      <td>-500.194668</td>\n",
       "      <td>13.997317</td>\n",
       "      <td>-500.690984</td>\n",
       "    </tr>\n",
       "    <tr>\n",
       "      <th>50%</th>\n",
       "      <td>177.828489</td>\n",
       "      <td>8.052207</td>\n",
       "      <td>7.250000</td>\n",
       "      <td>1.197610</td>\n",
       "      <td>1.585129e+03</td>\n",
       "      <td>-499.969164</td>\n",
       "      <td>1.595622e+03</td>\n",
       "      <td>-500.028514</td>\n",
       "      <td>1.549595e+03</td>\n",
       "      <td>-500.017711</td>\n",
       "      <td>...</td>\n",
       "      <td>1.700847e+01</td>\n",
       "      <td>-500.115727</td>\n",
       "      <td>1.496486e+01</td>\n",
       "      <td>-499.576513</td>\n",
       "      <td>12.954182</td>\n",
       "      <td>-499.990332</td>\n",
       "      <td>10.004301</td>\n",
       "      <td>-499.990535</td>\n",
       "      <td>16.014935</td>\n",
       "      <td>-500.007126</td>\n",
       "    </tr>\n",
       "    <tr>\n",
       "      <th>75%</th>\n",
       "      <td>208.125438</td>\n",
       "      <td>10.027764</td>\n",
       "      <td>7.600000</td>\n",
       "      <td>1.797819</td>\n",
       "      <td>1.602077e+03</td>\n",
       "      <td>-499.568951</td>\n",
       "      <td>1.602324e+03</td>\n",
       "      <td>-499.293257</td>\n",
       "      <td>1.601144e+03</td>\n",
       "      <td>-498.994130</td>\n",
       "      <td>...</td>\n",
       "      <td>1.803862e+01</td>\n",
       "      <td>-499.404224</td>\n",
       "      <td>1.596213e+01</td>\n",
       "      <td>-400.933805</td>\n",
       "      <td>15.097528</td>\n",
       "      <td>-499.283191</td>\n",
       "      <td>11.997467</td>\n",
       "      <td>-499.719913</td>\n",
       "      <td>21.020013</td>\n",
       "      <td>-499.373018</td>\n",
       "    </tr>\n",
       "    <tr>\n",
       "      <th>max</th>\n",
       "      <td>265.983123</td>\n",
       "      <td>40.000000</td>\n",
       "      <td>15.500000</td>\n",
       "      <td>4.102454</td>\n",
       "      <td>2.103104e+03</td>\n",
       "      <td>-57.195404</td>\n",
       "      <td>1.813084e+03</td>\n",
       "      <td>-142.527229</td>\n",
       "      <td>1.715054e+03</td>\n",
       "      <td>-150.937035</td>\n",
       "      <td>...</td>\n",
       "      <td>3.005180e+01</td>\n",
       "      <td>-401.565212</td>\n",
       "      <td>3.126971e+01</td>\n",
       "      <td>-6.506986</td>\n",
       "      <td>25.258848</td>\n",
       "      <td>-244.483566</td>\n",
       "      <td>14.086866</td>\n",
       "      <td>-137.740004</td>\n",
       "      <td>26.705889</td>\n",
       "      <td>-123.307487</td>\n",
       "    </tr>\n",
       "  </tbody>\n",
       "</table>\n",
       "<p>8 rows × 52 columns</p>\n",
       "</div>"
      ],
      "text/plain": [
       "       primary_cleaner.input.sulfate  primary_cleaner.input.depressant  \\\n",
       "count                    5286.000000                       5285.000000   \n",
       "mean                      174.839652                          8.683596   \n",
       "std                        43.027080                          3.072050   \n",
       "min                         2.566156                          0.003839   \n",
       "25%                       147.121401                          6.489555   \n",
       "50%                       177.828489                          8.052207   \n",
       "75%                       208.125438                         10.027764   \n",
       "max                       265.983123                         40.000000   \n",
       "\n",
       "       primary_cleaner.input.feed_size  primary_cleaner.input.xanthate  \\\n",
       "count                      5290.000000                     5286.000000   \n",
       "mean                          7.266339                        1.383803   \n",
       "std                           0.610219                        0.643474   \n",
       "min                           5.650000                        0.004984   \n",
       "25%                           6.890000                        0.907623   \n",
       "50%                           7.250000                        1.197610   \n",
       "75%                           7.600000                        1.797819   \n",
       "max                          15.500000                        4.102454   \n",
       "\n",
       "       primary_cleaner.state.floatbank8_a_air  \\\n",
       "count                            5.290000e+03   \n",
       "mean                             1.539494e+03   \n",
       "std                              1.167979e+02   \n",
       "min                              5.445860e-32   \n",
       "25%                              1.498936e+03   \n",
       "50%                              1.585129e+03   \n",
       "75%                              1.602077e+03   \n",
       "max                              2.103104e+03   \n",
       "\n",
       "       primary_cleaner.state.floatbank8_a_level  \\\n",
       "count                               5290.000000   \n",
       "mean                                -497.665883   \n",
       "std                                   19.952431   \n",
       "min                                 -795.316337   \n",
       "25%                                 -500.357298   \n",
       "50%                                 -499.969164   \n",
       "75%                                 -499.568951   \n",
       "max                                  -57.195404   \n",
       "\n",
       "       primary_cleaner.state.floatbank8_b_air  \\\n",
       "count                            5.290000e+03   \n",
       "mean                             1.545174e+03   \n",
       "std                              1.222246e+02   \n",
       "min                              6.647490e-32   \n",
       "25%                              1.498971e+03   \n",
       "50%                              1.595622e+03   \n",
       "75%                              1.602324e+03   \n",
       "max                              1.813084e+03   \n",
       "\n",
       "       primary_cleaner.state.floatbank8_b_level  \\\n",
       "count                               5290.000000   \n",
       "mean                                -500.273098   \n",
       "std                                   32.968307   \n",
       "min                                 -799.997015   \n",
       "25%                                 -500.703002   \n",
       "50%                                 -500.028514   \n",
       "75%                                 -499.293257   \n",
       "max                                 -142.527229   \n",
       "\n",
       "       primary_cleaner.state.floatbank8_c_air  \\\n",
       "count                            5.290000e+03   \n",
       "mean                             1.527272e+03   \n",
       "std                              1.225380e+02   \n",
       "min                              4.033736e-32   \n",
       "25%                              1.473230e+03   \n",
       "50%                              1.549595e+03   \n",
       "75%                              1.601144e+03   \n",
       "max                              1.715054e+03   \n",
       "\n",
       "       primary_cleaner.state.floatbank8_c_level  ...  \\\n",
       "count                               5290.000000  ...   \n",
       "mean                                -498.330680  ...   \n",
       "std                                   21.964876  ...   \n",
       "min                                 -799.960571  ...   \n",
       "25%                                 -501.018117  ...   \n",
       "50%                                 -500.017711  ...   \n",
       "75%                                 -498.994130  ...   \n",
       "max                                 -150.937035  ...   \n",
       "\n",
       "       secondary_cleaner.state.floatbank4_a_air  \\\n",
       "count                              5.290000e+03   \n",
       "mean                               1.632007e+01   \n",
       "std                                3.493583e+00   \n",
       "min                                1.079872e-16   \n",
       "25%                                1.403618e+01   \n",
       "50%                                1.700847e+01   \n",
       "75%                                1.803862e+01   \n",
       "max                                3.005180e+01   \n",
       "\n",
       "       secondary_cleaner.state.floatbank4_a_level  \\\n",
       "count                                 5290.000000   \n",
       "mean                                  -505.144570   \n",
       "std                                     31.427337   \n",
       "min                                   -799.798523   \n",
       "25%                                   -500.868258   \n",
       "50%                                   -500.115727   \n",
       "75%                                   -499.404224   \n",
       "max                                   -401.565212   \n",
       "\n",
       "       secondary_cleaner.state.floatbank4_b_air  \\\n",
       "count                              5.290000e+03   \n",
       "mean                               1.373544e+01   \n",
       "std                                3.430484e+00   \n",
       "min                                2.489718e-17   \n",
       "25%                                1.202862e+01   \n",
       "50%                                1.496486e+01   \n",
       "75%                                1.596213e+01   \n",
       "max                                3.126971e+01   \n",
       "\n",
       "       secondary_cleaner.state.floatbank4_b_level  \\\n",
       "count                                 5290.000000   \n",
       "mean                                  -463.349858   \n",
       "std                                     86.189107   \n",
       "min                                   -800.836914   \n",
       "25%                                   -500.323028   \n",
       "50%                                   -499.576513   \n",
       "75%                                   -400.933805   \n",
       "max                                     -6.506986   \n",
       "\n",
       "       secondary_cleaner.state.floatbank5_a_air  \\\n",
       "count                               5290.000000   \n",
       "mean                                  12.804186   \n",
       "std                                    3.026591   \n",
       "min                                    0.069227   \n",
       "25%                                   10.914838   \n",
       "50%                                   12.954182   \n",
       "75%                                   15.097528   \n",
       "max                                   25.258848   \n",
       "\n",
       "       secondary_cleaner.state.floatbank5_a_level  \\\n",
       "count                                 5290.000000   \n",
       "mean                                  -501.329122   \n",
       "std                                     17.951495   \n",
       "min                                   -797.323986   \n",
       "25%                                   -500.726841   \n",
       "50%                                   -499.990332   \n",
       "75%                                   -499.283191   \n",
       "max                                   -244.483566   \n",
       "\n",
       "       secondary_cleaner.state.floatbank5_b_air  \\\n",
       "count                               5290.000000   \n",
       "mean                                   9.881145   \n",
       "std                                    2.868205   \n",
       "min                                    0.528083   \n",
       "25%                                    8.036719   \n",
       "50%                                   10.004301   \n",
       "75%                                   11.997467   \n",
       "max                                   14.086866   \n",
       "\n",
       "       secondary_cleaner.state.floatbank5_b_level  \\\n",
       "count                                 5290.000000   \n",
       "mean                                  -495.663398   \n",
       "std                                     34.535007   \n",
       "min                                   -800.220337   \n",
       "25%                                   -500.194668   \n",
       "50%                                   -499.990535   \n",
       "75%                                   -499.719913   \n",
       "max                                   -137.740004   \n",
       "\n",
       "       secondary_cleaner.state.floatbank6_a_air  \\\n",
       "count                               5290.000000   \n",
       "mean                                  17.304935   \n",
       "std                                    4.536544   \n",
       "min                                   -0.079426   \n",
       "25%                                   13.997317   \n",
       "50%                                   16.014935   \n",
       "75%                                   21.020013   \n",
       "max                                   26.705889   \n",
       "\n",
       "       secondary_cleaner.state.floatbank6_a_level  \n",
       "count                                 5290.000000  \n",
       "mean                                  -501.793193  \n",
       "std                                     39.044215  \n",
       "min                                   -809.741464  \n",
       "25%                                   -500.690984  \n",
       "50%                                   -500.007126  \n",
       "75%                                   -499.373018  \n",
       "max                                   -123.307487  \n",
       "\n",
       "[8 rows x 52 columns]"
      ]
     },
     "metadata": {},
     "output_type": "display_data"
    }
   ],
   "source": [
    "# ознакомимся с тестовым датасетом\n",
    "get_info(data_test)"
   ]
  },
  {
   "cell_type": "code",
   "execution_count": 6,
   "metadata": {},
   "outputs": [
    {
     "data": {
      "text/html": [
       "<div>\n",
       "<style scoped>\n",
       "    .dataframe tbody tr th:only-of-type {\n",
       "        vertical-align: middle;\n",
       "    }\n",
       "\n",
       "    .dataframe tbody tr th {\n",
       "        vertical-align: top;\n",
       "    }\n",
       "\n",
       "    .dataframe thead th {\n",
       "        text-align: right;\n",
       "    }\n",
       "</style>\n",
       "<table border=\"1\" class=\"dataframe\">\n",
       "  <thead>\n",
       "    <tr style=\"text-align: right;\">\n",
       "      <th></th>\n",
       "      <th>date</th>\n",
       "      <th>final.output.concentrate_ag</th>\n",
       "      <th>final.output.concentrate_pb</th>\n",
       "      <th>final.output.concentrate_sol</th>\n",
       "      <th>final.output.concentrate_au</th>\n",
       "      <th>final.output.recovery</th>\n",
       "      <th>final.output.tail_ag</th>\n",
       "      <th>final.output.tail_pb</th>\n",
       "      <th>final.output.tail_sol</th>\n",
       "      <th>final.output.tail_au</th>\n",
       "      <th>...</th>\n",
       "      <th>secondary_cleaner.state.floatbank4_a_air</th>\n",
       "      <th>secondary_cleaner.state.floatbank4_a_level</th>\n",
       "      <th>secondary_cleaner.state.floatbank4_b_air</th>\n",
       "      <th>secondary_cleaner.state.floatbank4_b_level</th>\n",
       "      <th>secondary_cleaner.state.floatbank5_a_air</th>\n",
       "      <th>secondary_cleaner.state.floatbank5_a_level</th>\n",
       "      <th>secondary_cleaner.state.floatbank5_b_air</th>\n",
       "      <th>secondary_cleaner.state.floatbank5_b_level</th>\n",
       "      <th>secondary_cleaner.state.floatbank6_a_air</th>\n",
       "      <th>secondary_cleaner.state.floatbank6_a_level</th>\n",
       "    </tr>\n",
       "  </thead>\n",
       "  <tbody>\n",
       "    <tr>\n",
       "      <th>0</th>\n",
       "      <td>2016-01-15 00:00:00</td>\n",
       "      <td>6.055403</td>\n",
       "      <td>9.889648</td>\n",
       "      <td>5.507324</td>\n",
       "      <td>42.192020</td>\n",
       "      <td>70.541216</td>\n",
       "      <td>10.411962</td>\n",
       "      <td>0.895447</td>\n",
       "      <td>16.904297</td>\n",
       "      <td>2.143149</td>\n",
       "      <td>...</td>\n",
       "      <td>14.016835</td>\n",
       "      <td>-502.488007</td>\n",
       "      <td>12.099931</td>\n",
       "      <td>-504.715942</td>\n",
       "      <td>9.925633</td>\n",
       "      <td>-498.310211</td>\n",
       "      <td>8.079666</td>\n",
       "      <td>-500.470978</td>\n",
       "      <td>14.151341</td>\n",
       "      <td>-605.841980</td>\n",
       "    </tr>\n",
       "    <tr>\n",
       "      <th>1</th>\n",
       "      <td>2016-01-15 01:00:00</td>\n",
       "      <td>6.029369</td>\n",
       "      <td>9.968944</td>\n",
       "      <td>5.257781</td>\n",
       "      <td>42.701629</td>\n",
       "      <td>69.266198</td>\n",
       "      <td>10.462676</td>\n",
       "      <td>0.927452</td>\n",
       "      <td>16.634514</td>\n",
       "      <td>2.224930</td>\n",
       "      <td>...</td>\n",
       "      <td>13.992281</td>\n",
       "      <td>-505.503262</td>\n",
       "      <td>11.950531</td>\n",
       "      <td>-501.331529</td>\n",
       "      <td>10.039245</td>\n",
       "      <td>-500.169983</td>\n",
       "      <td>7.984757</td>\n",
       "      <td>-500.582168</td>\n",
       "      <td>13.998353</td>\n",
       "      <td>-599.787184</td>\n",
       "    </tr>\n",
       "    <tr>\n",
       "      <th>2</th>\n",
       "      <td>2016-01-15 02:00:00</td>\n",
       "      <td>6.055926</td>\n",
       "      <td>10.213995</td>\n",
       "      <td>5.383759</td>\n",
       "      <td>42.657501</td>\n",
       "      <td>68.116445</td>\n",
       "      <td>10.507046</td>\n",
       "      <td>0.953716</td>\n",
       "      <td>16.208849</td>\n",
       "      <td>2.257889</td>\n",
       "      <td>...</td>\n",
       "      <td>14.015015</td>\n",
       "      <td>-502.520901</td>\n",
       "      <td>11.912783</td>\n",
       "      <td>-501.133383</td>\n",
       "      <td>10.070913</td>\n",
       "      <td>-500.129135</td>\n",
       "      <td>8.013877</td>\n",
       "      <td>-500.517572</td>\n",
       "      <td>14.028663</td>\n",
       "      <td>-601.427363</td>\n",
       "    </tr>\n",
       "    <tr>\n",
       "      <th>3</th>\n",
       "      <td>2016-01-15 03:00:00</td>\n",
       "      <td>6.047977</td>\n",
       "      <td>9.977019</td>\n",
       "      <td>4.858634</td>\n",
       "      <td>42.689819</td>\n",
       "      <td>68.347543</td>\n",
       "      <td>10.422762</td>\n",
       "      <td>0.883763</td>\n",
       "      <td>16.532835</td>\n",
       "      <td>2.146849</td>\n",
       "      <td>...</td>\n",
       "      <td>14.036510</td>\n",
       "      <td>-500.857308</td>\n",
       "      <td>11.999550</td>\n",
       "      <td>-501.193686</td>\n",
       "      <td>9.970366</td>\n",
       "      <td>-499.201640</td>\n",
       "      <td>7.977324</td>\n",
       "      <td>-500.255908</td>\n",
       "      <td>14.005551</td>\n",
       "      <td>-599.996129</td>\n",
       "    </tr>\n",
       "    <tr>\n",
       "      <th>4</th>\n",
       "      <td>2016-01-15 04:00:00</td>\n",
       "      <td>6.148599</td>\n",
       "      <td>10.142511</td>\n",
       "      <td>4.939416</td>\n",
       "      <td>42.774141</td>\n",
       "      <td>66.927016</td>\n",
       "      <td>10.360302</td>\n",
       "      <td>0.792826</td>\n",
       "      <td>16.525686</td>\n",
       "      <td>2.055292</td>\n",
       "      <td>...</td>\n",
       "      <td>14.027298</td>\n",
       "      <td>-499.838632</td>\n",
       "      <td>11.953070</td>\n",
       "      <td>-501.053894</td>\n",
       "      <td>9.925709</td>\n",
       "      <td>-501.686727</td>\n",
       "      <td>7.894242</td>\n",
       "      <td>-500.356035</td>\n",
       "      <td>13.996647</td>\n",
       "      <td>-601.496691</td>\n",
       "    </tr>\n",
       "  </tbody>\n",
       "</table>\n",
       "<p>5 rows × 87 columns</p>\n",
       "</div>"
      ],
      "text/plain": [
       "                  date  final.output.concentrate_ag  \\\n",
       "0  2016-01-15 00:00:00                     6.055403   \n",
       "1  2016-01-15 01:00:00                     6.029369   \n",
       "2  2016-01-15 02:00:00                     6.055926   \n",
       "3  2016-01-15 03:00:00                     6.047977   \n",
       "4  2016-01-15 04:00:00                     6.148599   \n",
       "\n",
       "   final.output.concentrate_pb  final.output.concentrate_sol  \\\n",
       "0                     9.889648                      5.507324   \n",
       "1                     9.968944                      5.257781   \n",
       "2                    10.213995                      5.383759   \n",
       "3                     9.977019                      4.858634   \n",
       "4                    10.142511                      4.939416   \n",
       "\n",
       "   final.output.concentrate_au  final.output.recovery  final.output.tail_ag  \\\n",
       "0                    42.192020              70.541216             10.411962   \n",
       "1                    42.701629              69.266198             10.462676   \n",
       "2                    42.657501              68.116445             10.507046   \n",
       "3                    42.689819              68.347543             10.422762   \n",
       "4                    42.774141              66.927016             10.360302   \n",
       "\n",
       "   final.output.tail_pb  final.output.tail_sol  final.output.tail_au  ...  \\\n",
       "0              0.895447              16.904297              2.143149  ...   \n",
       "1              0.927452              16.634514              2.224930  ...   \n",
       "2              0.953716              16.208849              2.257889  ...   \n",
       "3              0.883763              16.532835              2.146849  ...   \n",
       "4              0.792826              16.525686              2.055292  ...   \n",
       "\n",
       "   secondary_cleaner.state.floatbank4_a_air  \\\n",
       "0                                 14.016835   \n",
       "1                                 13.992281   \n",
       "2                                 14.015015   \n",
       "3                                 14.036510   \n",
       "4                                 14.027298   \n",
       "\n",
       "   secondary_cleaner.state.floatbank4_a_level  \\\n",
       "0                                 -502.488007   \n",
       "1                                 -505.503262   \n",
       "2                                 -502.520901   \n",
       "3                                 -500.857308   \n",
       "4                                 -499.838632   \n",
       "\n",
       "   secondary_cleaner.state.floatbank4_b_air  \\\n",
       "0                                 12.099931   \n",
       "1                                 11.950531   \n",
       "2                                 11.912783   \n",
       "3                                 11.999550   \n",
       "4                                 11.953070   \n",
       "\n",
       "   secondary_cleaner.state.floatbank4_b_level  \\\n",
       "0                                 -504.715942   \n",
       "1                                 -501.331529   \n",
       "2                                 -501.133383   \n",
       "3                                 -501.193686   \n",
       "4                                 -501.053894   \n",
       "\n",
       "   secondary_cleaner.state.floatbank5_a_air  \\\n",
       "0                                  9.925633   \n",
       "1                                 10.039245   \n",
       "2                                 10.070913   \n",
       "3                                  9.970366   \n",
       "4                                  9.925709   \n",
       "\n",
       "   secondary_cleaner.state.floatbank5_a_level  \\\n",
       "0                                 -498.310211   \n",
       "1                                 -500.169983   \n",
       "2                                 -500.129135   \n",
       "3                                 -499.201640   \n",
       "4                                 -501.686727   \n",
       "\n",
       "   secondary_cleaner.state.floatbank5_b_air  \\\n",
       "0                                  8.079666   \n",
       "1                                  7.984757   \n",
       "2                                  8.013877   \n",
       "3                                  7.977324   \n",
       "4                                  7.894242   \n",
       "\n",
       "   secondary_cleaner.state.floatbank5_b_level  \\\n",
       "0                                 -500.470978   \n",
       "1                                 -500.582168   \n",
       "2                                 -500.517572   \n",
       "3                                 -500.255908   \n",
       "4                                 -500.356035   \n",
       "\n",
       "   secondary_cleaner.state.floatbank6_a_air  \\\n",
       "0                                 14.151341   \n",
       "1                                 13.998353   \n",
       "2                                 14.028663   \n",
       "3                                 14.005551   \n",
       "4                                 13.996647   \n",
       "\n",
       "   secondary_cleaner.state.floatbank6_a_level  \n",
       "0                                 -605.841980  \n",
       "1                                 -599.787184  \n",
       "2                                 -601.427363  \n",
       "3                                 -599.996129  \n",
       "4                                 -601.496691  \n",
       "\n",
       "[5 rows x 87 columns]"
      ]
     },
     "metadata": {},
     "output_type": "display_data"
    },
    {
     "name": "stdout",
     "output_type": "stream",
     "text": [
      "<class 'pandas.core.frame.DataFrame'>\n",
      "RangeIndex: 19439 entries, 0 to 19438\n",
      "Data columns (total 87 columns):\n",
      " #   Column                                              Non-Null Count  Dtype  \n",
      "---  ------                                              --------------  -----  \n",
      " 0   date                                                19439 non-null  object \n",
      " 1   final.output.concentrate_ag                         19438 non-null  float64\n",
      " 2   final.output.concentrate_pb                         19438 non-null  float64\n",
      " 3   final.output.concentrate_sol                        19228 non-null  float64\n",
      " 4   final.output.concentrate_au                         19439 non-null  float64\n",
      " 5   final.output.recovery                               19439 non-null  float64\n",
      " 6   final.output.tail_ag                                19438 non-null  float64\n",
      " 7   final.output.tail_pb                                19338 non-null  float64\n",
      " 8   final.output.tail_sol                               19433 non-null  float64\n",
      " 9   final.output.tail_au                                19439 non-null  float64\n",
      " 10  primary_cleaner.input.sulfate                       19415 non-null  float64\n",
      " 11  primary_cleaner.input.depressant                    19402 non-null  float64\n",
      " 12  primary_cleaner.input.feed_size                     19439 non-null  float64\n",
      " 13  primary_cleaner.input.xanthate                      19335 non-null  float64\n",
      " 14  primary_cleaner.output.concentrate_ag               19439 non-null  float64\n",
      " 15  primary_cleaner.output.concentrate_pb               19323 non-null  float64\n",
      " 16  primary_cleaner.output.concentrate_sol              19069 non-null  float64\n",
      " 17  primary_cleaner.output.concentrate_au               19439 non-null  float64\n",
      " 18  primary_cleaner.output.tail_ag                      19435 non-null  float64\n",
      " 19  primary_cleaner.output.tail_pb                      19418 non-null  float64\n",
      " 20  primary_cleaner.output.tail_sol                     19377 non-null  float64\n",
      " 21  primary_cleaner.output.tail_au                      19439 non-null  float64\n",
      " 22  primary_cleaner.state.floatbank8_a_air              19435 non-null  float64\n",
      " 23  primary_cleaner.state.floatbank8_a_level            19438 non-null  float64\n",
      " 24  primary_cleaner.state.floatbank8_b_air              19435 non-null  float64\n",
      " 25  primary_cleaner.state.floatbank8_b_level            19438 non-null  float64\n",
      " 26  primary_cleaner.state.floatbank8_c_air              19437 non-null  float64\n",
      " 27  primary_cleaner.state.floatbank8_c_level            19438 non-null  float64\n",
      " 28  primary_cleaner.state.floatbank8_d_air              19436 non-null  float64\n",
      " 29  primary_cleaner.state.floatbank8_d_level            19438 non-null  float64\n",
      " 30  rougher.calculation.sulfate_to_au_concentrate       19437 non-null  float64\n",
      " 31  rougher.calculation.floatbank10_sulfate_to_au_feed  19437 non-null  float64\n",
      " 32  rougher.calculation.floatbank11_sulfate_to_au_feed  19437 non-null  float64\n",
      " 33  rougher.calculation.au_pb_ratio                     19439 non-null  float64\n",
      " 34  rougher.input.feed_ag                               19439 non-null  float64\n",
      " 35  rougher.input.feed_pb                               19339 non-null  float64\n",
      " 36  rougher.input.feed_rate                             19428 non-null  float64\n",
      " 37  rougher.input.feed_size                             19294 non-null  float64\n",
      " 38  rougher.input.feed_sol                              19340 non-null  float64\n",
      " 39  rougher.input.feed_au                               19439 non-null  float64\n",
      " 40  rougher.input.floatbank10_sulfate                   19405 non-null  float64\n",
      " 41  rougher.input.floatbank10_xanthate                  19431 non-null  float64\n",
      " 42  rougher.input.floatbank11_sulfate                   19395 non-null  float64\n",
      " 43  rougher.input.floatbank11_xanthate                  18986 non-null  float64\n",
      " 44  rougher.output.concentrate_ag                       19439 non-null  float64\n",
      " 45  rougher.output.concentrate_pb                       19439 non-null  float64\n",
      " 46  rougher.output.concentrate_sol                      19416 non-null  float64\n",
      " 47  rougher.output.concentrate_au                       19439 non-null  float64\n",
      " 48  rougher.output.recovery                             19439 non-null  float64\n",
      " 49  rougher.output.tail_ag                              19438 non-null  float64\n",
      " 50  rougher.output.tail_pb                              19439 non-null  float64\n",
      " 51  rougher.output.tail_sol                             19439 non-null  float64\n",
      " 52  rougher.output.tail_au                              19439 non-null  float64\n",
      " 53  rougher.state.floatbank10_a_air                     19438 non-null  float64\n",
      " 54  rougher.state.floatbank10_a_level                   19438 non-null  float64\n",
      " 55  rougher.state.floatbank10_b_air                     19438 non-null  float64\n",
      " 56  rougher.state.floatbank10_b_level                   19438 non-null  float64\n",
      " 57  rougher.state.floatbank10_c_air                     19438 non-null  float64\n",
      " 58  rougher.state.floatbank10_c_level                   19438 non-null  float64\n",
      " 59  rougher.state.floatbank10_d_air                     19439 non-null  float64\n",
      " 60  rougher.state.floatbank10_d_level                   19439 non-null  float64\n",
      " 61  rougher.state.floatbank10_e_air                     19003 non-null  float64\n",
      " 62  rougher.state.floatbank10_e_level                   19439 non-null  float64\n",
      " 63  rougher.state.floatbank10_f_air                     19439 non-null  float64\n",
      " 64  rougher.state.floatbank10_f_level                   19439 non-null  float64\n",
      " 65  secondary_cleaner.output.tail_ag                    19437 non-null  float64\n",
      " 66  secondary_cleaner.output.tail_pb                    19427 non-null  float64\n",
      " 67  secondary_cleaner.output.tail_sol                   17691 non-null  float64\n",
      " 68  secondary_cleaner.output.tail_au                    19439 non-null  float64\n",
      " 69  secondary_cleaner.state.floatbank2_a_air            19219 non-null  float64\n",
      " 70  secondary_cleaner.state.floatbank2_a_level          19438 non-null  float64\n",
      " 71  secondary_cleaner.state.floatbank2_b_air            19416 non-null  float64\n",
      " 72  secondary_cleaner.state.floatbank2_b_level          19438 non-null  float64\n",
      " 73  secondary_cleaner.state.floatbank3_a_air            19426 non-null  float64\n",
      " 74  secondary_cleaner.state.floatbank3_a_level          19438 non-null  float64\n",
      " 75  secondary_cleaner.state.floatbank3_b_air            19438 non-null  float64\n",
      " 76  secondary_cleaner.state.floatbank3_b_level          19438 non-null  float64\n",
      " 77  secondary_cleaner.state.floatbank4_a_air            19433 non-null  float64\n",
      " 78  secondary_cleaner.state.floatbank4_a_level          19438 non-null  float64\n",
      " 79  secondary_cleaner.state.floatbank4_b_air            19438 non-null  float64\n",
      " 80  secondary_cleaner.state.floatbank4_b_level          19438 non-null  float64\n",
      " 81  secondary_cleaner.state.floatbank5_a_air            19438 non-null  float64\n",
      " 82  secondary_cleaner.state.floatbank5_a_level          19438 non-null  float64\n",
      " 83  secondary_cleaner.state.floatbank5_b_air            19438 non-null  float64\n",
      " 84  secondary_cleaner.state.floatbank5_b_level          19438 non-null  float64\n",
      " 85  secondary_cleaner.state.floatbank6_a_air            19437 non-null  float64\n",
      " 86  secondary_cleaner.state.floatbank6_a_level          19438 non-null  float64\n",
      "dtypes: float64(86), object(1)\n",
      "memory usage: 12.9+ MB\n"
     ]
    },
    {
     "data": {
      "text/plain": [
       "None"
      ]
     },
     "metadata": {},
     "output_type": "display_data"
    },
    {
     "data": {
      "text/html": [
       "<div>\n",
       "<style scoped>\n",
       "    .dataframe tbody tr th:only-of-type {\n",
       "        vertical-align: middle;\n",
       "    }\n",
       "\n",
       "    .dataframe tbody tr th {\n",
       "        vertical-align: top;\n",
       "    }\n",
       "\n",
       "    .dataframe thead th {\n",
       "        text-align: right;\n",
       "    }\n",
       "</style>\n",
       "<table border=\"1\" class=\"dataframe\">\n",
       "  <thead>\n",
       "    <tr style=\"text-align: right;\">\n",
       "      <th></th>\n",
       "      <th>final.output.concentrate_ag</th>\n",
       "      <th>final.output.concentrate_pb</th>\n",
       "      <th>final.output.concentrate_sol</th>\n",
       "      <th>final.output.concentrate_au</th>\n",
       "      <th>final.output.recovery</th>\n",
       "      <th>final.output.tail_ag</th>\n",
       "      <th>final.output.tail_pb</th>\n",
       "      <th>final.output.tail_sol</th>\n",
       "      <th>final.output.tail_au</th>\n",
       "      <th>primary_cleaner.input.sulfate</th>\n",
       "      <th>...</th>\n",
       "      <th>secondary_cleaner.state.floatbank4_a_air</th>\n",
       "      <th>secondary_cleaner.state.floatbank4_a_level</th>\n",
       "      <th>secondary_cleaner.state.floatbank4_b_air</th>\n",
       "      <th>secondary_cleaner.state.floatbank4_b_level</th>\n",
       "      <th>secondary_cleaner.state.floatbank5_a_air</th>\n",
       "      <th>secondary_cleaner.state.floatbank5_a_level</th>\n",
       "      <th>secondary_cleaner.state.floatbank5_b_air</th>\n",
       "      <th>secondary_cleaner.state.floatbank5_b_level</th>\n",
       "      <th>secondary_cleaner.state.floatbank6_a_air</th>\n",
       "      <th>secondary_cleaner.state.floatbank6_a_level</th>\n",
       "    </tr>\n",
       "  </thead>\n",
       "  <tbody>\n",
       "    <tr>\n",
       "      <th>count</th>\n",
       "      <td>19438.000000</td>\n",
       "      <td>19438.000000</td>\n",
       "      <td>19228.000000</td>\n",
       "      <td>19439.000000</td>\n",
       "      <td>19439.000000</td>\n",
       "      <td>19438.000000</td>\n",
       "      <td>19338.000000</td>\n",
       "      <td>19433.000000</td>\n",
       "      <td>19439.000000</td>\n",
       "      <td>19415.000000</td>\n",
       "      <td>...</td>\n",
       "      <td>19433.000000</td>\n",
       "      <td>19438.000000</td>\n",
       "      <td>19438.000000</td>\n",
       "      <td>19438.000000</td>\n",
       "      <td>19438.000000</td>\n",
       "      <td>19438.000000</td>\n",
       "      <td>19438.000000</td>\n",
       "      <td>19438.000000</td>\n",
       "      <td>19437.000000</td>\n",
       "      <td>19438.000000</td>\n",
       "    </tr>\n",
       "    <tr>\n",
       "      <th>mean</th>\n",
       "      <td>5.168470</td>\n",
       "      <td>9.978895</td>\n",
       "      <td>9.501224</td>\n",
       "      <td>44.076513</td>\n",
       "      <td>67.050208</td>\n",
       "      <td>9.688589</td>\n",
       "      <td>2.705795</td>\n",
       "      <td>10.583728</td>\n",
       "      <td>3.042467</td>\n",
       "      <td>144.624774</td>\n",
       "      <td>...</td>\n",
       "      <td>18.987674</td>\n",
       "      <td>-485.894516</td>\n",
       "      <td>15.010366</td>\n",
       "      <td>-461.078636</td>\n",
       "      <td>15.694452</td>\n",
       "      <td>-488.684065</td>\n",
       "      <td>12.198224</td>\n",
       "      <td>-487.149827</td>\n",
       "      <td>18.959024</td>\n",
       "      <td>-505.436305</td>\n",
       "    </tr>\n",
       "    <tr>\n",
       "      <th>std</th>\n",
       "      <td>1.372348</td>\n",
       "      <td>1.669240</td>\n",
       "      <td>2.787537</td>\n",
       "      <td>5.129784</td>\n",
       "      <td>10.125840</td>\n",
       "      <td>2.328642</td>\n",
       "      <td>0.949077</td>\n",
       "      <td>2.868782</td>\n",
       "      <td>0.922808</td>\n",
       "      <td>44.464071</td>\n",
       "      <td>...</td>\n",
       "      <td>5.411058</td>\n",
       "      <td>47.758570</td>\n",
       "      <td>4.890228</td>\n",
       "      <td>67.405524</td>\n",
       "      <td>5.510974</td>\n",
       "      <td>34.533396</td>\n",
       "      <td>5.333024</td>\n",
       "      <td>38.347312</td>\n",
       "      <td>5.550498</td>\n",
       "      <td>37.689057</td>\n",
       "    </tr>\n",
       "    <tr>\n",
       "      <th>min</th>\n",
       "      <td>0.000000</td>\n",
       "      <td>0.000000</td>\n",
       "      <td>0.000000</td>\n",
       "      <td>0.000000</td>\n",
       "      <td>0.000000</td>\n",
       "      <td>0.000000</td>\n",
       "      <td>0.000000</td>\n",
       "      <td>0.000000</td>\n",
       "      <td>0.000000</td>\n",
       "      <td>0.003112</td>\n",
       "      <td>...</td>\n",
       "      <td>0.000000</td>\n",
       "      <td>-799.798523</td>\n",
       "      <td>0.000000</td>\n",
       "      <td>-800.836914</td>\n",
       "      <td>-0.372054</td>\n",
       "      <td>-797.323986</td>\n",
       "      <td>0.528083</td>\n",
       "      <td>-800.220337</td>\n",
       "      <td>-0.079426</td>\n",
       "      <td>-809.741464</td>\n",
       "    </tr>\n",
       "    <tr>\n",
       "      <th>25%</th>\n",
       "      <td>4.251240</td>\n",
       "      <td>9.137262</td>\n",
       "      <td>7.722820</td>\n",
       "      <td>43.402215</td>\n",
       "      <td>63.299712</td>\n",
       "      <td>8.062878</td>\n",
       "      <td>2.040119</td>\n",
       "      <td>8.938947</td>\n",
       "      <td>2.461138</td>\n",
       "      <td>114.107029</td>\n",
       "      <td>...</td>\n",
       "      <td>14.975734</td>\n",
       "      <td>-500.704892</td>\n",
       "      <td>11.940294</td>\n",
       "      <td>-500.187742</td>\n",
       "      <td>10.988606</td>\n",
       "      <td>-500.458467</td>\n",
       "      <td>8.971105</td>\n",
       "      <td>-500.129462</td>\n",
       "      <td>14.983037</td>\n",
       "      <td>-500.728067</td>\n",
       "    </tr>\n",
       "    <tr>\n",
       "      <th>50%</th>\n",
       "      <td>5.066094</td>\n",
       "      <td>10.102433</td>\n",
       "      <td>9.218961</td>\n",
       "      <td>45.011244</td>\n",
       "      <td>68.172738</td>\n",
       "      <td>9.743623</td>\n",
       "      <td>2.748730</td>\n",
       "      <td>10.622456</td>\n",
       "      <td>2.984909</td>\n",
       "      <td>143.232103</td>\n",
       "      <td>...</td>\n",
       "      <td>18.017481</td>\n",
       "      <td>-499.837793</td>\n",
       "      <td>14.971014</td>\n",
       "      <td>-499.459786</td>\n",
       "      <td>15.000036</td>\n",
       "      <td>-499.802605</td>\n",
       "      <td>11.019433</td>\n",
       "      <td>-499.935317</td>\n",
       "      <td>19.960541</td>\n",
       "      <td>-500.048400</td>\n",
       "    </tr>\n",
       "    <tr>\n",
       "      <th>75%</th>\n",
       "      <td>5.895527</td>\n",
       "      <td>11.035769</td>\n",
       "      <td>10.947813</td>\n",
       "      <td>46.275313</td>\n",
       "      <td>72.686642</td>\n",
       "      <td>11.134294</td>\n",
       "      <td>3.333216</td>\n",
       "      <td>12.104271</td>\n",
       "      <td>3.571351</td>\n",
       "      <td>175.075656</td>\n",
       "      <td>...</td>\n",
       "      <td>23.012470</td>\n",
       "      <td>-498.249730</td>\n",
       "      <td>19.034162</td>\n",
       "      <td>-400.118106</td>\n",
       "      <td>18.026190</td>\n",
       "      <td>-498.384187</td>\n",
       "      <td>14.019088</td>\n",
       "      <td>-499.436708</td>\n",
       "      <td>24.003170</td>\n",
       "      <td>-499.495378</td>\n",
       "    </tr>\n",
       "    <tr>\n",
       "      <th>max</th>\n",
       "      <td>16.001945</td>\n",
       "      <td>17.031899</td>\n",
       "      <td>19.615720</td>\n",
       "      <td>52.756638</td>\n",
       "      <td>100.000000</td>\n",
       "      <td>19.552149</td>\n",
       "      <td>5.804178</td>\n",
       "      <td>22.317730</td>\n",
       "      <td>8.245022</td>\n",
       "      <td>265.983123</td>\n",
       "      <td>...</td>\n",
       "      <td>30.115735</td>\n",
       "      <td>-245.239184</td>\n",
       "      <td>31.269706</td>\n",
       "      <td>-6.506986</td>\n",
       "      <td>43.709931</td>\n",
       "      <td>-244.483566</td>\n",
       "      <td>27.926001</td>\n",
       "      <td>-137.740004</td>\n",
       "      <td>32.188906</td>\n",
       "      <td>-104.427459</td>\n",
       "    </tr>\n",
       "  </tbody>\n",
       "</table>\n",
       "<p>8 rows × 86 columns</p>\n",
       "</div>"
      ],
      "text/plain": [
       "       final.output.concentrate_ag  final.output.concentrate_pb  \\\n",
       "count                 19438.000000                 19438.000000   \n",
       "mean                      5.168470                     9.978895   \n",
       "std                       1.372348                     1.669240   \n",
       "min                       0.000000                     0.000000   \n",
       "25%                       4.251240                     9.137262   \n",
       "50%                       5.066094                    10.102433   \n",
       "75%                       5.895527                    11.035769   \n",
       "max                      16.001945                    17.031899   \n",
       "\n",
       "       final.output.concentrate_sol  final.output.concentrate_au  \\\n",
       "count                  19228.000000                 19439.000000   \n",
       "mean                       9.501224                    44.076513   \n",
       "std                        2.787537                     5.129784   \n",
       "min                        0.000000                     0.000000   \n",
       "25%                        7.722820                    43.402215   \n",
       "50%                        9.218961                    45.011244   \n",
       "75%                       10.947813                    46.275313   \n",
       "max                       19.615720                    52.756638   \n",
       "\n",
       "       final.output.recovery  final.output.tail_ag  final.output.tail_pb  \\\n",
       "count           19439.000000          19438.000000          19338.000000   \n",
       "mean               67.050208              9.688589              2.705795   \n",
       "std                10.125840              2.328642              0.949077   \n",
       "min                 0.000000              0.000000              0.000000   \n",
       "25%                63.299712              8.062878              2.040119   \n",
       "50%                68.172738              9.743623              2.748730   \n",
       "75%                72.686642             11.134294              3.333216   \n",
       "max               100.000000             19.552149              5.804178   \n",
       "\n",
       "       final.output.tail_sol  final.output.tail_au  \\\n",
       "count           19433.000000          19439.000000   \n",
       "mean               10.583728              3.042467   \n",
       "std                 2.868782              0.922808   \n",
       "min                 0.000000              0.000000   \n",
       "25%                 8.938947              2.461138   \n",
       "50%                10.622456              2.984909   \n",
       "75%                12.104271              3.571351   \n",
       "max                22.317730              8.245022   \n",
       "\n",
       "       primary_cleaner.input.sulfate  ...  \\\n",
       "count                   19415.000000  ...   \n",
       "mean                      144.624774  ...   \n",
       "std                        44.464071  ...   \n",
       "min                         0.003112  ...   \n",
       "25%                       114.107029  ...   \n",
       "50%                       143.232103  ...   \n",
       "75%                       175.075656  ...   \n",
       "max                       265.983123  ...   \n",
       "\n",
       "       secondary_cleaner.state.floatbank4_a_air  \\\n",
       "count                              19433.000000   \n",
       "mean                                  18.987674   \n",
       "std                                    5.411058   \n",
       "min                                    0.000000   \n",
       "25%                                   14.975734   \n",
       "50%                                   18.017481   \n",
       "75%                                   23.012470   \n",
       "max                                   30.115735   \n",
       "\n",
       "       secondary_cleaner.state.floatbank4_a_level  \\\n",
       "count                                19438.000000   \n",
       "mean                                  -485.894516   \n",
       "std                                     47.758570   \n",
       "min                                   -799.798523   \n",
       "25%                                   -500.704892   \n",
       "50%                                   -499.837793   \n",
       "75%                                   -498.249730   \n",
       "max                                   -245.239184   \n",
       "\n",
       "       secondary_cleaner.state.floatbank4_b_air  \\\n",
       "count                              19438.000000   \n",
       "mean                                  15.010366   \n",
       "std                                    4.890228   \n",
       "min                                    0.000000   \n",
       "25%                                   11.940294   \n",
       "50%                                   14.971014   \n",
       "75%                                   19.034162   \n",
       "max                                   31.269706   \n",
       "\n",
       "       secondary_cleaner.state.floatbank4_b_level  \\\n",
       "count                                19438.000000   \n",
       "mean                                  -461.078636   \n",
       "std                                     67.405524   \n",
       "min                                   -800.836914   \n",
       "25%                                   -500.187742   \n",
       "50%                                   -499.459786   \n",
       "75%                                   -400.118106   \n",
       "max                                     -6.506986   \n",
       "\n",
       "       secondary_cleaner.state.floatbank5_a_air  \\\n",
       "count                              19438.000000   \n",
       "mean                                  15.694452   \n",
       "std                                    5.510974   \n",
       "min                                   -0.372054   \n",
       "25%                                   10.988606   \n",
       "50%                                   15.000036   \n",
       "75%                                   18.026190   \n",
       "max                                   43.709931   \n",
       "\n",
       "       secondary_cleaner.state.floatbank5_a_level  \\\n",
       "count                                19438.000000   \n",
       "mean                                  -488.684065   \n",
       "std                                     34.533396   \n",
       "min                                   -797.323986   \n",
       "25%                                   -500.458467   \n",
       "50%                                   -499.802605   \n",
       "75%                                   -498.384187   \n",
       "max                                   -244.483566   \n",
       "\n",
       "       secondary_cleaner.state.floatbank5_b_air  \\\n",
       "count                              19438.000000   \n",
       "mean                                  12.198224   \n",
       "std                                    5.333024   \n",
       "min                                    0.528083   \n",
       "25%                                    8.971105   \n",
       "50%                                   11.019433   \n",
       "75%                                   14.019088   \n",
       "max                                   27.926001   \n",
       "\n",
       "       secondary_cleaner.state.floatbank5_b_level  \\\n",
       "count                                19438.000000   \n",
       "mean                                  -487.149827   \n",
       "std                                     38.347312   \n",
       "min                                   -800.220337   \n",
       "25%                                   -500.129462   \n",
       "50%                                   -499.935317   \n",
       "75%                                   -499.436708   \n",
       "max                                   -137.740004   \n",
       "\n",
       "       secondary_cleaner.state.floatbank6_a_air  \\\n",
       "count                              19437.000000   \n",
       "mean                                  18.959024   \n",
       "std                                    5.550498   \n",
       "min                                   -0.079426   \n",
       "25%                                   14.983037   \n",
       "50%                                   19.960541   \n",
       "75%                                   24.003170   \n",
       "max                                   32.188906   \n",
       "\n",
       "       secondary_cleaner.state.floatbank6_a_level  \n",
       "count                                19438.000000  \n",
       "mean                                  -505.436305  \n",
       "std                                     37.689057  \n",
       "min                                   -809.741464  \n",
       "25%                                   -500.728067  \n",
       "50%                                   -500.048400  \n",
       "75%                                   -499.495378  \n",
       "max                                   -104.427459  \n",
       "\n",
       "[8 rows x 86 columns]"
      ]
     },
     "metadata": {},
     "output_type": "display_data"
    }
   ],
   "source": [
    "# ознакомимся с полным датасетом\n",
    "get_info(data_full)"
   ]
  },
  {
   "cell_type": "markdown",
   "metadata": {},
   "source": [
    "### Дифференциация датасетов"
   ]
  },
  {
   "cell_type": "code",
   "execution_count": 7,
   "metadata": {
    "scrolled": true
   },
   "outputs": [
    {
     "name": "stdout",
     "output_type": "stream",
     "text": [
      "34\n"
     ]
    },
    {
     "data": {
      "text/plain": [
       "{'final.output.concentrate_ag',\n",
       " 'final.output.concentrate_au',\n",
       " 'final.output.concentrate_pb',\n",
       " 'final.output.concentrate_sol',\n",
       " 'final.output.recovery',\n",
       " 'final.output.tail_ag',\n",
       " 'final.output.tail_au',\n",
       " 'final.output.tail_pb',\n",
       " 'final.output.tail_sol',\n",
       " 'primary_cleaner.output.concentrate_ag',\n",
       " 'primary_cleaner.output.concentrate_au',\n",
       " 'primary_cleaner.output.concentrate_pb',\n",
       " 'primary_cleaner.output.concentrate_sol',\n",
       " 'primary_cleaner.output.tail_ag',\n",
       " 'primary_cleaner.output.tail_au',\n",
       " 'primary_cleaner.output.tail_pb',\n",
       " 'primary_cleaner.output.tail_sol',\n",
       " 'rougher.calculation.au_pb_ratio',\n",
       " 'rougher.calculation.floatbank10_sulfate_to_au_feed',\n",
       " 'rougher.calculation.floatbank11_sulfate_to_au_feed',\n",
       " 'rougher.calculation.sulfate_to_au_concentrate',\n",
       " 'rougher.output.concentrate_ag',\n",
       " 'rougher.output.concentrate_au',\n",
       " 'rougher.output.concentrate_pb',\n",
       " 'rougher.output.concentrate_sol',\n",
       " 'rougher.output.recovery',\n",
       " 'rougher.output.tail_ag',\n",
       " 'rougher.output.tail_au',\n",
       " 'rougher.output.tail_pb',\n",
       " 'rougher.output.tail_sol',\n",
       " 'secondary_cleaner.output.tail_ag',\n",
       " 'secondary_cleaner.output.tail_au',\n",
       " 'secondary_cleaner.output.tail_pb',\n",
       " 'secondary_cleaner.output.tail_sol'}"
      ]
     },
     "metadata": {},
     "output_type": "display_data"
    }
   ],
   "source": [
    "# посмотрим количество и содержание столбцов недостающих в тестовом датасете\n",
    "diff_columns = set(data_train.columns) - set(data_test.columns)\n",
    "print(len(diff_columns))\n",
    "display(diff_columns)"
   ]
  },
  {
   "cell_type": "markdown",
   "metadata": {},
   "source": [
    "####  Вывод о недостающих данных в тестовом датафрейме\n",
    "В основном, в тестовой выборке отсутствуют значения типов \"параметры продукта\" и \"расчетные характеристики\". Это объясняется тем, что они рассчитываются или поступают позже, по условиям технологического процесса. \n",
    "\n",
    "Также,в тестовом датафрейме отсутствуют целевые признаки rougher.output.recovery и final.output.recovery, которые vs будем использовать для расчета метрики качества. Добавим их в тестовую выборку, используя метод merge, проиндексируем по столбцу date (все наблюдения фиксируются датой и временем получения информации)."
   ]
  },
  {
   "cell_type": "markdown",
   "metadata": {},
   "source": [
    "### Корректность данных с эффективностью обогащения после флотации"
   ]
  },
  {
   "cell_type": "markdown",
   "metadata": {},
   "source": [
    "Проверим, что эффективность обогащения рассчитана правильно. Она рассчитывается по формуле:\n",
    "\n",
    "Recovery = (C * (F - T)/F(C - T)) * 100%\n",
    "\n",
    "- C — доля золота в концентрате после флотации/очистки (rougher.output.concentrate_au);\n",
    "- F — доля золота в сырье/концентрате до флотации/очистки (rougher.input.feed_au);\n",
    "- T — доля золота в отвальных хвостах после флотации/очистки (rougher.output.tail_au).\n"
   ]
  },
  {
   "cell_type": "code",
   "execution_count": 8,
   "metadata": {},
   "outputs": [],
   "source": [
    "data_train['recovery'] = (data_train['rougher.output.concentrate_au']\\\n",
    "                          *(data_train['rougher.input.feed_au']\\\n",
    "                           -data_train['rougher.output.tail_au']))/\\\n",
    "(data_train['rougher.input.feed_au']*(data_train['rougher.output.concentrate_au']\\\n",
    "                                      -data_train['rougher.output.tail_au']))*100"
   ]
  },
  {
   "cell_type": "code",
   "execution_count": 9,
   "metadata": {},
   "outputs": [
    {
     "data": {
      "text/plain": [
       "82.70450164550293"
      ]
     },
     "metadata": {},
     "output_type": "display_data"
    },
    {
     "data": {
      "text/plain": [
       "82.70450164550293"
      ]
     },
     "metadata": {},
     "output_type": "display_data"
    }
   ],
   "source": [
    "# как видим среднее абсолютно совпадает\n",
    "display(data_train['recovery'].mean())\n",
    "display(data_train['rougher.output.recovery'].mean())"
   ]
  },
  {
   "cell_type": "code",
   "execution_count": 10,
   "metadata": {},
   "outputs": [
    {
     "data": {
      "image/png": "[encoded data removed]",
      "text/plain": [
       "<Figure size 1080x360 with 1 Axes>"
      ]
     },
     "metadata": {
      "needs_background": "light"
     },
     "output_type": "display_data"
    }
   ],
   "source": [
    "# визуально также различий нет\n",
    "recovery = data_train[['recovery', 'rougher.output.recovery']]\n",
    "plt.figure(figsize=(15,5))\n",
    "ax = sns.histplot(data=recovery, alpha=0.2).set(title='Эффективность. Сравнение имеющегося и расчетного показателей.')"
   ]
  },
  {
   "cell_type": "code",
   "execution_count": 11,
   "metadata": {},
   "outputs": [
    {
     "data": {
      "text/plain": [
       "9.73512347450521e-15"
      ]
     },
     "execution_count": 11,
     "metadata": {},
     "output_type": "execute_result"
    }
   ],
   "source": [
    "MAE_recovery = mae(data_train['rougher.output.recovery'], data_train['recovery'])\n",
    "MAE_recovery"
   ]
  },
  {
   "cell_type": "markdown",
   "metadata": {},
   "source": [
    "Как видим, MAE достаточно мало, значит  эффективность обогащения рассчитана правильно."
   ]
  },
  {
   "cell_type": "markdown",
   "metadata": {},
   "source": [
    "### Удалим пропуски в данных\n",
    "Так как наблюдения индексируются датой и временем поступления информации, заполним пропуски предыдущими значениями в следующем ряду методом ffill."
   ]
  },
  {
   "cell_type": "code",
   "execution_count": 12,
   "metadata": {},
   "outputs": [
    {
     "data": {
      "text/plain": [
       "date                                            0\n",
       "final.output.concentrate_ag                     1\n",
       "final.output.concentrate_pb                     1\n",
       "final.output.concentrate_sol                  211\n",
       "final.output.concentrate_au                     0\n",
       "                                             ... \n",
       "secondary_cleaner.state.floatbank5_b_air        1\n",
       "secondary_cleaner.state.floatbank5_b_level      1\n",
       "secondary_cleaner.state.floatbank6_a_air        2\n",
       "secondary_cleaner.state.floatbank6_a_level      1\n",
       "recovery                                        0\n",
       "Length: 88, dtype: int64"
      ]
     },
     "execution_count": 12,
     "metadata": {},
     "output_type": "execute_result"
    }
   ],
   "source": [
    "# определим наличие пропусков обучающего датафрейма\n",
    "data_train.isna().sum()"
   ]
  },
  {
   "cell_type": "code",
   "execution_count": 13,
   "metadata": {
    "scrolled": true
   },
   "outputs": [
    {
     "data": {
      "text/plain": [
       "date                                           0\n",
       "primary_cleaner.input.sulfate                  4\n",
       "primary_cleaner.input.depressant               5\n",
       "primary_cleaner.input.feed_size                0\n",
       "primary_cleaner.input.xanthate                 4\n",
       "primary_cleaner.state.floatbank8_a_air         0\n",
       "primary_cleaner.state.floatbank8_a_level       0\n",
       "primary_cleaner.state.floatbank8_b_air         0\n",
       "primary_cleaner.state.floatbank8_b_level       0\n",
       "primary_cleaner.state.floatbank8_c_air         0\n",
       "primary_cleaner.state.floatbank8_c_level       0\n",
       "primary_cleaner.state.floatbank8_d_air         0\n",
       "primary_cleaner.state.floatbank8_d_level       0\n",
       "rougher.input.feed_ag                          0\n",
       "rougher.input.feed_pb                          0\n",
       "rougher.input.feed_rate                        3\n",
       "rougher.input.feed_size                        1\n",
       "rougher.input.feed_sol                        21\n",
       "rougher.input.feed_au                          0\n",
       "rougher.input.floatbank10_sulfate              5\n",
       "rougher.input.floatbank10_xanthate             0\n",
       "rougher.input.floatbank11_sulfate              8\n",
       "rougher.input.floatbank11_xanthate            25\n",
       "rougher.state.floatbank10_a_air                0\n",
       "rougher.state.floatbank10_a_level              0\n",
       "rougher.state.floatbank10_b_air                0\n",
       "rougher.state.floatbank10_b_level              0\n",
       "rougher.state.floatbank10_c_air                0\n",
       "rougher.state.floatbank10_c_level              0\n",
       "rougher.state.floatbank10_d_air                0\n",
       "rougher.state.floatbank10_d_level              0\n",
       "rougher.state.floatbank10_e_air                0\n",
       "rougher.state.floatbank10_e_level              0\n",
       "rougher.state.floatbank10_f_air                0\n",
       "rougher.state.floatbank10_f_level              0\n",
       "secondary_cleaner.state.floatbank2_a_air       3\n",
       "secondary_cleaner.state.floatbank2_a_level     0\n",
       "secondary_cleaner.state.floatbank2_b_air       2\n",
       "secondary_cleaner.state.floatbank2_b_level     0\n",
       "secondary_cleaner.state.floatbank3_a_air       9\n",
       "secondary_cleaner.state.floatbank3_a_level     0\n",
       "secondary_cleaner.state.floatbank3_b_air       0\n",
       "secondary_cleaner.state.floatbank3_b_level     0\n",
       "secondary_cleaner.state.floatbank4_a_air       0\n",
       "secondary_cleaner.state.floatbank4_a_level     0\n",
       "secondary_cleaner.state.floatbank4_b_air       0\n",
       "secondary_cleaner.state.floatbank4_b_level     0\n",
       "secondary_cleaner.state.floatbank5_a_air       0\n",
       "secondary_cleaner.state.floatbank5_a_level     0\n",
       "secondary_cleaner.state.floatbank5_b_air       0\n",
       "secondary_cleaner.state.floatbank5_b_level     0\n",
       "secondary_cleaner.state.floatbank6_a_air       0\n",
       "secondary_cleaner.state.floatbank6_a_level     0\n",
       "dtype: int64"
      ]
     },
     "execution_count": 13,
     "metadata": {},
     "output_type": "execute_result"
    }
   ],
   "source": [
    "# определим наличие пропусков обучающего датафрейма\n",
    "data_test.isna().sum()"
   ]
  },
  {
   "cell_type": "code",
   "execution_count": 14,
   "metadata": {},
   "outputs": [
    {
     "data": {
      "text/plain": [
       "0"
      ]
     },
     "execution_count": 14,
     "metadata": {},
     "output_type": "execute_result"
    }
   ],
   "source": [
    "data_train.ffill(axis = None, inplace = True, limit = None, downcast = None)\n",
    "data_train.isna().sum().sum()"
   ]
  },
  {
   "cell_type": "code",
   "execution_count": 15,
   "metadata": {},
   "outputs": [
    {
     "data": {
      "text/plain": [
       "0"
      ]
     },
     "execution_count": 15,
     "metadata": {},
     "output_type": "execute_result"
    }
   ],
   "source": [
    "data_test.ffill(axis = None, inplace = True, limit = None, downcast = None)\n",
    "data_test.isna().sum().sum()"
   ]
  },
  {
   "cell_type": "markdown",
   "metadata": {},
   "source": [
    "### Предварительный вывод о подготовке данных\n",
    "- Обнаружены и удалены пропуски в тестовом и тренировочном датасетах\n",
    "- эффективность обогощения на этапе флотации проверена - расчеты верны\n",
    "- в тестовом датафрейме не достает более 30 столбцов, это признаки которые относящиеся ко вторичным стадиям очистки руды."
   ]
  },
  {
   "cell_type": "markdown",
   "metadata": {},
   "source": [
    "## Анализ данных"
   ]
  },
  {
   "cell_type": "markdown",
   "metadata": {},
   "source": [
    "### Посмотрим, как меняется концентрация металлов (Au, Ag, Pb) на различных этапах очистки.\n"
   ]
  },
  {
   "cell_type": "code",
   "execution_count": 16,
   "metadata": {
    "scrolled": false
   },
   "outputs": [
    {
     "data": {
      "image/png": "[encoded data removed]",
      "text/plain": [
       "<Figure size 1080x360 with 1 Axes>"
      ]
     },
     "metadata": {
      "needs_background": "light"
     },
     "output_type": "display_data"
    }
   ],
   "source": [
    "aurum = data_full[['rougher.input.feed_au', 'rougher.output.concentrate_au', 'primary_cleaner.output.concentrate_au',\\\n",
    "                   'final.output.concentrate_au']]\n",
    "plt.figure(figsize=(15,5))\n",
    "ax = sns.histplot(data=aurum).set(title='Изменение концентрации ЗОЛОТА на разных этапах очистки')"
   ]
  },
  {
   "cell_type": "code",
   "execution_count": 17,
   "metadata": {
    "scrolled": false
   },
   "outputs": [
    {
     "data": {
      "image/png": "[encoded data removed]",
      "text/plain": [
       "<Figure size 1080x360 with 1 Axes>"
      ]
     },
     "metadata": {
      "needs_background": "light"
     },
     "output_type": "display_data"
    }
   ],
   "source": [
    "argentum = data_full[['rougher.input.feed_ag', 'rougher.output.concentrate_ag',\\\n",
    "                      'primary_cleaner.output.concentrate_ag', 'final.output.concentrate_ag']]\n",
    "plt.figure(figsize=(15,5))\n",
    "ax = sns.histplot(data=argentum).set(title='Изменение концентрации СЕРЕБРА на разных этапах очистки')"
   ]
  },
  {
   "cell_type": "code",
   "execution_count": 18,
   "metadata": {},
   "outputs": [
    {
     "data": {
      "image/png": "[encoded data removed]",
      "text/plain": [
       "<Figure size 1080x360 with 1 Axes>"
      ]
     },
     "metadata": {
      "needs_background": "light"
     },
     "output_type": "display_data"
    }
   ],
   "source": [
    "plumbum = data_full[['rougher.input.feed_pb', 'rougher.output.concentrate_pb',\\\n",
    "                     'primary_cleaner.output.concentrate_pb', 'final.output.concentrate_pb']]\n",
    "plt.figure(figsize=(15,5))\n",
    "ax = sns.histplot(data=plumbum).set(title='Изменение концентрации СВИНЦА на разных этапах очистки')"
   ]
  },
  {
   "cell_type": "markdown",
   "metadata": {},
   "source": [
    "### Сравним распределения размеров гранул сырья на обучающей и тестовой выборках. \n",
    "Если распределения сильно отличаются друг от друга, оценка модели будет неправильной."
   ]
  },
  {
   "cell_type": "code",
   "execution_count": 57,
   "metadata": {},
   "outputs": [
    {
     "data": {
      "text/plain": [
       "(0.0, 180.0)"
      ]
     },
     "execution_count": 57,
     "metadata": {},
     "output_type": "execute_result"
    },
    {
     "data": {
      "image/png": "[encoded data removed]",
      "text/plain": [
       "<Figure size 1080x360 with 1 Axes>"
      ]
     },
     "metadata": {
      "needs_background": "light"
     },
     "output_type": "display_data"
    }
   ],
   "source": [
    "# используем для оценки метод определения плотности ядра (kernel density estimation или сокращенно kde)\n",
    "# он дает больше информации о характере распределения\n",
    "plt.figure(figsize=(15,5))\n",
    "sns.kdeplot(data_train['rougher.input.feed_size'])\n",
    "sns.kdeplot(data_test['rougher.input.feed_size'])\n",
    "plt.xlim([0 ,180])\n"
   ]
  },
  {
   "cell_type": "code",
   "execution_count": 20,
   "metadata": {},
   "outputs": [
    {
     "data": {
      "text/plain": [
       "count    14149.000000\n",
       "mean        60.239856\n",
       "std         23.005310\n",
       "min          9.659576\n",
       "25%         48.966751\n",
       "50%         55.269784\n",
       "75%         66.007526\n",
       "max        484.967466\n",
       "Name: rougher.input.feed_size, dtype: float64"
      ]
     },
     "metadata": {},
     "output_type": "display_data"
    },
    {
     "data": {
      "text/plain": [
       "count    5290.000000\n",
       "mean       55.952754\n",
       "std        19.080334\n",
       "min         0.046369\n",
       "25%        43.906504\n",
       "50%        50.846843\n",
       "75%        62.451165\n",
       "max       392.494040\n",
       "Name: rougher.input.feed_size, dtype: float64"
      ]
     },
     "metadata": {},
     "output_type": "display_data"
    }
   ],
   "source": [
    "display(data_train['rougher.input.feed_size'].describe())\n",
    "display(data_test['rougher.input.feed_size'].describe())"
   ]
  },
  {
   "cell_type": "markdown",
   "metadata": {},
   "source": [
    "Обратим внимание, что средний размер гранул сырья на обучающей выборке 55 микрон, а на тестовой - 50, можно считать, что распределения почти равны. График распределения плотности подтверждает наше предположение о сравнительно небольшом отклонении в распределении гранул сырья. "
   ]
  },
  {
   "cell_type": "markdown",
   "metadata": {},
   "source": [
    "### Исследуем суммарную концентрацию всех веществ на разных стадиях: в сырье, в черновом и финальном концентратах. "
   ]
  },
  {
   "cell_type": "code",
   "execution_count": 21,
   "metadata": {},
   "outputs": [
    {
     "data": {
      "image/png": "[encoded data removed]",
      "text/plain": [
       "<Figure size 1080x360 with 1 Axes>"
      ]
     },
     "metadata": {
      "needs_background": "light"
     },
     "output_type": "display_data"
    }
   ],
   "source": [
    "data_full['feed_sum'] = data_full['rougher.input.feed_au'] + data_full['rougher.input.feed_ag'] +\\\n",
    "data_full['rougher.input.feed_pb']\n",
    "data_full['rougher_sum'] = data_full['rougher.output.concentrate_au'] + data_full['rougher.output.concentrate_ag']\\\n",
    "+ data_full['rougher.output.concentrate_pb']\n",
    "data_full['final_sum'] = data_full['final.output.concentrate_au'] + data_full['final.output.concentrate_ag']\\\n",
    "+ data_full['final.output.concentrate_pb']\n",
    "sum_au_ag_pb = data_full[['feed_sum', 'rougher_sum', 'final_sum']]\n",
    "plt.figure(figsize=(15,5))\n",
    "ax = sns.histplot(data=sum_au_ag_pb).set(title='Суммарная концентрации  всех веществ на разных этапах очистки')"
   ]
  },
  {
   "cell_type": "code",
   "execution_count": 22,
   "metadata": {},
   "outputs": [
    {
     "data": {
      "text/plain": [
       "(18949, 90)"
      ]
     },
     "execution_count": 22,
     "metadata": {},
     "output_type": "execute_result"
    }
   ],
   "source": [
    " # подготовим новую выборку без выбросов для файла \n",
    "data_full_no_zero = data_full[(data_full['feed_sum'] != 0) & (data_full['rougher_sum'] != 0)  &(data_full['final_sum'] != 0)]\n",
    "data_full_no_zero.shape"
   ]
  },
  {
   "cell_type": "code",
   "execution_count": 23,
   "metadata": {},
   "outputs": [
    {
     "data": {
      "image/png": "[encoded data removed]",
      "text/plain": [
       "<Figure size 1080x360 with 1 Axes>"
      ]
     },
     "metadata": {
      "needs_background": "light"
     },
     "output_type": "display_data"
    }
   ],
   "source": [
    "sum_au_ag_pb = data_full_no_zero[['feed_sum', 'rougher_sum', 'final_sum']]\n",
    "plt.figure(figsize=(15,5))\n",
    "ax = sns.histplot(data=sum_au_ag_pb).set(title='Суммарная концентрации  всех веществ на разных этапах очистки')"
   ]
  },
  {
   "cell_type": "code",
   "execution_count": 24,
   "metadata": {},
   "outputs": [
    {
     "data": {
      "image/png": "[encoded data removed]",
      "text/plain": [
       "<Figure size 1080x360 with 1 Axes>"
      ]
     },
     "metadata": {
      "needs_background": "light"
     },
     "output_type": "display_data"
    }
   ],
   "source": [
    "data_train['feed_sum'] = data_train['rougher.input.feed_au'] + data_train['rougher.input.feed_ag']\\\n",
    "+ data_train['rougher.input.feed_pb']\n",
    "data_train['rougher_sum'] = data_train['rougher.output.concentrate_au'] + data_train['rougher.output.concentrate_ag']\\\n",
    "+ data_train['rougher.output.concentrate_pb']\n",
    "data_train['final_sum'] = data_train['final.output.concentrate_au']\\\n",
    "+ data_train['final.output.concentrate_ag'] + data_train['final.output.concentrate_pb']\n",
    "sum_au_ag_pb_train = data_train[['feed_sum', 'rougher_sum', 'final_sum']]\n",
    "plt.figure(figsize=(15,5))\n",
    "ax = sns.histplot(data=sum_au_ag_pb_train).\\\n",
    "set(title='Суммарная концентрации  всех веществ на разных этапах очистки тренировочной выборки')"
   ]
  },
  {
   "cell_type": "markdown",
   "metadata": {},
   "source": [
    "Выявлены нулевые суммарные показатели, вероятнее всего ошибочные. Удалим эти данные, для улучшения качества моделей."
   ]
  },
  {
   "cell_type": "code",
   "execution_count": 25,
   "metadata": {},
   "outputs": [
    {
     "data": {
      "text/plain": [
       "(13795, 91)"
      ]
     },
     "execution_count": 25,
     "metadata": {},
     "output_type": "execute_result"
    }
   ],
   "source": [
    "data_train_no_zero = data_train[(data_train['feed_sum'] != 0) & (data_train['rougher_sum'] != 0)  &(data_train['final_sum'] != 0)]\n",
    "data_train_no_zero.shape"
   ]
  },
  {
   "cell_type": "markdown",
   "metadata": {},
   "source": [
    "### Добавим в тестовый датафрейм таргетные столбцы 'final.output.recovery' и 'rougher.output.recovery'"
   ]
  },
  {
   "cell_type": "markdown",
   "metadata": {},
   "source": [
    "Добавим в тестовую выборку столбцы - таргеты. Присоединим их индексирую по дате из полного датафрейма."
   ]
  },
  {
   "cell_type": "code",
   "execution_count": 26,
   "metadata": {},
   "outputs": [
    {
     "data": {
      "text/html": [
       "<div>\n",
       "<style scoped>\n",
       "    .dataframe tbody tr th:only-of-type {\n",
       "        vertical-align: middle;\n",
       "    }\n",
       "\n",
       "    .dataframe tbody tr th {\n",
       "        vertical-align: top;\n",
       "    }\n",
       "\n",
       "    .dataframe thead th {\n",
       "        text-align: right;\n",
       "    }\n",
       "</style>\n",
       "<table border=\"1\" class=\"dataframe\">\n",
       "  <thead>\n",
       "    <tr style=\"text-align: right;\">\n",
       "      <th></th>\n",
       "      <th>date</th>\n",
       "      <th>primary_cleaner.input.sulfate</th>\n",
       "      <th>primary_cleaner.input.depressant</th>\n",
       "      <th>primary_cleaner.input.feed_size</th>\n",
       "      <th>primary_cleaner.input.xanthate</th>\n",
       "      <th>primary_cleaner.state.floatbank8_a_air</th>\n",
       "      <th>primary_cleaner.state.floatbank8_a_level</th>\n",
       "      <th>primary_cleaner.state.floatbank8_b_air</th>\n",
       "      <th>primary_cleaner.state.floatbank8_b_level</th>\n",
       "      <th>primary_cleaner.state.floatbank8_c_air</th>\n",
       "      <th>...</th>\n",
       "      <th>secondary_cleaner.state.floatbank4_b_air</th>\n",
       "      <th>secondary_cleaner.state.floatbank4_b_level</th>\n",
       "      <th>secondary_cleaner.state.floatbank5_a_air</th>\n",
       "      <th>secondary_cleaner.state.floatbank5_a_level</th>\n",
       "      <th>secondary_cleaner.state.floatbank5_b_air</th>\n",
       "      <th>secondary_cleaner.state.floatbank5_b_level</th>\n",
       "      <th>secondary_cleaner.state.floatbank6_a_air</th>\n",
       "      <th>secondary_cleaner.state.floatbank6_a_level</th>\n",
       "      <th>final.output.recovery</th>\n",
       "      <th>rougher.output.recovery</th>\n",
       "    </tr>\n",
       "  </thead>\n",
       "  <tbody>\n",
       "    <tr>\n",
       "      <th>0</th>\n",
       "      <td>2016-09-01 00:59:59</td>\n",
       "      <td>210.800909</td>\n",
       "      <td>14.993118</td>\n",
       "      <td>8.080000</td>\n",
       "      <td>1.005021</td>\n",
       "      <td>1398.981301</td>\n",
       "      <td>-500.225577</td>\n",
       "      <td>1399.144926</td>\n",
       "      <td>-499.919735</td>\n",
       "      <td>1400.102998</td>\n",
       "      <td>...</td>\n",
       "      <td>8.016656</td>\n",
       "      <td>-501.289139</td>\n",
       "      <td>7.946562</td>\n",
       "      <td>-432.317850</td>\n",
       "      <td>4.872511</td>\n",
       "      <td>-500.037437</td>\n",
       "      <td>26.705889</td>\n",
       "      <td>-499.709414</td>\n",
       "      <td>70.273583</td>\n",
       "      <td>89.993421</td>\n",
       "    </tr>\n",
       "    <tr>\n",
       "      <th>1</th>\n",
       "      <td>2016-09-01 01:59:59</td>\n",
       "      <td>215.392455</td>\n",
       "      <td>14.987471</td>\n",
       "      <td>8.080000</td>\n",
       "      <td>0.990469</td>\n",
       "      <td>1398.777912</td>\n",
       "      <td>-500.057435</td>\n",
       "      <td>1398.055362</td>\n",
       "      <td>-499.778182</td>\n",
       "      <td>1396.151033</td>\n",
       "      <td>...</td>\n",
       "      <td>8.130979</td>\n",
       "      <td>-499.634209</td>\n",
       "      <td>7.958270</td>\n",
       "      <td>-525.839648</td>\n",
       "      <td>4.878850</td>\n",
       "      <td>-500.162375</td>\n",
       "      <td>25.019940</td>\n",
       "      <td>-499.819438</td>\n",
       "      <td>68.910432</td>\n",
       "      <td>88.089657</td>\n",
       "    </tr>\n",
       "    <tr>\n",
       "      <th>2</th>\n",
       "      <td>2016-09-01 02:59:59</td>\n",
       "      <td>215.259946</td>\n",
       "      <td>12.884934</td>\n",
       "      <td>7.786667</td>\n",
       "      <td>0.996043</td>\n",
       "      <td>1398.493666</td>\n",
       "      <td>-500.868360</td>\n",
       "      <td>1398.860436</td>\n",
       "      <td>-499.764529</td>\n",
       "      <td>1398.075709</td>\n",
       "      <td>...</td>\n",
       "      <td>8.096893</td>\n",
       "      <td>-500.827423</td>\n",
       "      <td>8.071056</td>\n",
       "      <td>-500.801673</td>\n",
       "      <td>4.905125</td>\n",
       "      <td>-499.828510</td>\n",
       "      <td>24.994862</td>\n",
       "      <td>-500.622559</td>\n",
       "      <td>68.143213</td>\n",
       "      <td>88.412756</td>\n",
       "    </tr>\n",
       "    <tr>\n",
       "      <th>3</th>\n",
       "      <td>2016-09-01 03:59:59</td>\n",
       "      <td>215.336236</td>\n",
       "      <td>12.006805</td>\n",
       "      <td>7.640000</td>\n",
       "      <td>0.863514</td>\n",
       "      <td>1399.618111</td>\n",
       "      <td>-498.863574</td>\n",
       "      <td>1397.440120</td>\n",
       "      <td>-499.211024</td>\n",
       "      <td>1400.129303</td>\n",
       "      <td>...</td>\n",
       "      <td>8.074946</td>\n",
       "      <td>-499.474407</td>\n",
       "      <td>7.897085</td>\n",
       "      <td>-500.868509</td>\n",
       "      <td>4.931400</td>\n",
       "      <td>-499.963623</td>\n",
       "      <td>24.948919</td>\n",
       "      <td>-498.709987</td>\n",
       "      <td>67.776393</td>\n",
       "      <td>87.360133</td>\n",
       "    </tr>\n",
       "    <tr>\n",
       "      <th>4</th>\n",
       "      <td>2016-09-01 04:59:59</td>\n",
       "      <td>199.099327</td>\n",
       "      <td>10.682530</td>\n",
       "      <td>7.530000</td>\n",
       "      <td>0.805575</td>\n",
       "      <td>1401.268123</td>\n",
       "      <td>-500.808305</td>\n",
       "      <td>1398.128818</td>\n",
       "      <td>-499.504543</td>\n",
       "      <td>1402.172226</td>\n",
       "      <td>...</td>\n",
       "      <td>8.054678</td>\n",
       "      <td>-500.397500</td>\n",
       "      <td>8.107890</td>\n",
       "      <td>-509.526725</td>\n",
       "      <td>4.957674</td>\n",
       "      <td>-500.360026</td>\n",
       "      <td>25.003331</td>\n",
       "      <td>-500.856333</td>\n",
       "      <td>61.467078</td>\n",
       "      <td>83.236367</td>\n",
       "    </tr>\n",
       "  </tbody>\n",
       "</table>\n",
       "<p>5 rows × 55 columns</p>\n",
       "</div>"
      ],
      "text/plain": [
       "                  date  primary_cleaner.input.sulfate  \\\n",
       "0  2016-09-01 00:59:59                     210.800909   \n",
       "1  2016-09-01 01:59:59                     215.392455   \n",
       "2  2016-09-01 02:59:59                     215.259946   \n",
       "3  2016-09-01 03:59:59                     215.336236   \n",
       "4  2016-09-01 04:59:59                     199.099327   \n",
       "\n",
       "   primary_cleaner.input.depressant  primary_cleaner.input.feed_size  \\\n",
       "0                         14.993118                         8.080000   \n",
       "1                         14.987471                         8.080000   \n",
       "2                         12.884934                         7.786667   \n",
       "3                         12.006805                         7.640000   \n",
       "4                         10.682530                         7.530000   \n",
       "\n",
       "   primary_cleaner.input.xanthate  primary_cleaner.state.floatbank8_a_air  \\\n",
       "0                        1.005021                             1398.981301   \n",
       "1                        0.990469                             1398.777912   \n",
       "2                        0.996043                             1398.493666   \n",
       "3                        0.863514                             1399.618111   \n",
       "4                        0.805575                             1401.268123   \n",
       "\n",
       "   primary_cleaner.state.floatbank8_a_level  \\\n",
       "0                               -500.225577   \n",
       "1                               -500.057435   \n",
       "2                               -500.868360   \n",
       "3                               -498.863574   \n",
       "4                               -500.808305   \n",
       "\n",
       "   primary_cleaner.state.floatbank8_b_air  \\\n",
       "0                             1399.144926   \n",
       "1                             1398.055362   \n",
       "2                             1398.860436   \n",
       "3                             1397.440120   \n",
       "4                             1398.128818   \n",
       "\n",
       "   primary_cleaner.state.floatbank8_b_level  \\\n",
       "0                               -499.919735   \n",
       "1                               -499.778182   \n",
       "2                               -499.764529   \n",
       "3                               -499.211024   \n",
       "4                               -499.504543   \n",
       "\n",
       "   primary_cleaner.state.floatbank8_c_air  ...  \\\n",
       "0                             1400.102998  ...   \n",
       "1                             1396.151033  ...   \n",
       "2                             1398.075709  ...   \n",
       "3                             1400.129303  ...   \n",
       "4                             1402.172226  ...   \n",
       "\n",
       "   secondary_cleaner.state.floatbank4_b_air  \\\n",
       "0                                  8.016656   \n",
       "1                                  8.130979   \n",
       "2                                  8.096893   \n",
       "3                                  8.074946   \n",
       "4                                  8.054678   \n",
       "\n",
       "   secondary_cleaner.state.floatbank4_b_level  \\\n",
       "0                                 -501.289139   \n",
       "1                                 -499.634209   \n",
       "2                                 -500.827423   \n",
       "3                                 -499.474407   \n",
       "4                                 -500.397500   \n",
       "\n",
       "   secondary_cleaner.state.floatbank5_a_air  \\\n",
       "0                                  7.946562   \n",
       "1                                  7.958270   \n",
       "2                                  8.071056   \n",
       "3                                  7.897085   \n",
       "4                                  8.107890   \n",
       "\n",
       "   secondary_cleaner.state.floatbank5_a_level  \\\n",
       "0                                 -432.317850   \n",
       "1                                 -525.839648   \n",
       "2                                 -500.801673   \n",
       "3                                 -500.868509   \n",
       "4                                 -509.526725   \n",
       "\n",
       "   secondary_cleaner.state.floatbank5_b_air  \\\n",
       "0                                  4.872511   \n",
       "1                                  4.878850   \n",
       "2                                  4.905125   \n",
       "3                                  4.931400   \n",
       "4                                  4.957674   \n",
       "\n",
       "   secondary_cleaner.state.floatbank5_b_level  \\\n",
       "0                                 -500.037437   \n",
       "1                                 -500.162375   \n",
       "2                                 -499.828510   \n",
       "3                                 -499.963623   \n",
       "4                                 -500.360026   \n",
       "\n",
       "   secondary_cleaner.state.floatbank6_a_air  \\\n",
       "0                                 26.705889   \n",
       "1                                 25.019940   \n",
       "2                                 24.994862   \n",
       "3                                 24.948919   \n",
       "4                                 25.003331   \n",
       "\n",
       "   secondary_cleaner.state.floatbank6_a_level  final.output.recovery  \\\n",
       "0                                 -499.709414              70.273583   \n",
       "1                                 -499.819438              68.910432   \n",
       "2                                 -500.622559              68.143213   \n",
       "3                                 -498.709987              67.776393   \n",
       "4                                 -500.856333              61.467078   \n",
       "\n",
       "   rougher.output.recovery  \n",
       "0                89.993421  \n",
       "1                88.089657  \n",
       "2                88.412756  \n",
       "3                87.360133  \n",
       "4                83.236367  \n",
       "\n",
       "[5 rows x 55 columns]"
      ]
     },
     "execution_count": 26,
     "metadata": {},
     "output_type": "execute_result"
    }
   ],
   "source": [
    "data_test = data_test.merge(data_full[['date', 'final.output.recovery', 'rougher.output.recovery']],\\\n",
    "                            how='left', on='date')\n",
    "data_test.head()"
   ]
  },
  {
   "cell_type": "markdown",
   "metadata": {},
   "source": [
    "Удалили из обучающей выборки, столбцы которых нет в тестовой."
   ]
  },
  {
   "cell_type": "code",
   "execution_count": 27,
   "metadata": {
    "scrolled": true
   },
   "outputs": [
    {
     "data": {
      "text/plain": [
       "['date',\n",
       " 'primary_cleaner.input.sulfate',\n",
       " 'primary_cleaner.input.depressant',\n",
       " 'primary_cleaner.input.feed_size',\n",
       " 'primary_cleaner.input.xanthate',\n",
       " 'primary_cleaner.state.floatbank8_a_air',\n",
       " 'primary_cleaner.state.floatbank8_a_level',\n",
       " 'primary_cleaner.state.floatbank8_b_air',\n",
       " 'primary_cleaner.state.floatbank8_b_level',\n",
       " 'primary_cleaner.state.floatbank8_c_air',\n",
       " 'primary_cleaner.state.floatbank8_c_level',\n",
       " 'primary_cleaner.state.floatbank8_d_air',\n",
       " 'primary_cleaner.state.floatbank8_d_level',\n",
       " 'rougher.input.feed_ag',\n",
       " 'rougher.input.feed_pb',\n",
       " 'rougher.input.feed_rate',\n",
       " 'rougher.input.feed_size',\n",
       " 'rougher.input.feed_sol',\n",
       " 'rougher.input.feed_au',\n",
       " 'rougher.input.floatbank10_sulfate',\n",
       " 'rougher.input.floatbank10_xanthate',\n",
       " 'rougher.input.floatbank11_sulfate',\n",
       " 'rougher.input.floatbank11_xanthate',\n",
       " 'rougher.state.floatbank10_a_air',\n",
       " 'rougher.state.floatbank10_a_level',\n",
       " 'rougher.state.floatbank10_b_air',\n",
       " 'rougher.state.floatbank10_b_level',\n",
       " 'rougher.state.floatbank10_c_air',\n",
       " 'rougher.state.floatbank10_c_level',\n",
       " 'rougher.state.floatbank10_d_air',\n",
       " 'rougher.state.floatbank10_d_level',\n",
       " 'rougher.state.floatbank10_e_air',\n",
       " 'rougher.state.floatbank10_e_level',\n",
       " 'rougher.state.floatbank10_f_air',\n",
       " 'rougher.state.floatbank10_f_level',\n",
       " 'secondary_cleaner.state.floatbank2_a_air',\n",
       " 'secondary_cleaner.state.floatbank2_a_level',\n",
       " 'secondary_cleaner.state.floatbank2_b_air',\n",
       " 'secondary_cleaner.state.floatbank2_b_level',\n",
       " 'secondary_cleaner.state.floatbank3_a_air',\n",
       " 'secondary_cleaner.state.floatbank3_a_level',\n",
       " 'secondary_cleaner.state.floatbank3_b_air',\n",
       " 'secondary_cleaner.state.floatbank3_b_level',\n",
       " 'secondary_cleaner.state.floatbank4_a_air',\n",
       " 'secondary_cleaner.state.floatbank4_a_level',\n",
       " 'secondary_cleaner.state.floatbank4_b_air',\n",
       " 'secondary_cleaner.state.floatbank4_b_level',\n",
       " 'secondary_cleaner.state.floatbank5_a_air',\n",
       " 'secondary_cleaner.state.floatbank5_a_level',\n",
       " 'secondary_cleaner.state.floatbank5_b_air',\n",
       " 'secondary_cleaner.state.floatbank5_b_level',\n",
       " 'secondary_cleaner.state.floatbank6_a_air',\n",
       " 'secondary_cleaner.state.floatbank6_a_level',\n",
       " 'final.output.recovery',\n",
       " 'rougher.output.recovery']"
      ]
     },
     "execution_count": 27,
     "metadata": {},
     "output_type": "execute_result"
    }
   ],
   "source": [
    "#определим столбцы тестового датафрейма\n",
    "data_test.columns.tolist()"
   ]
  },
  {
   "cell_type": "code",
   "execution_count": 28,
   "metadata": {},
   "outputs": [],
   "source": [
    "# оставим идентичные столбцы в обучающем датафрейме\n",
    "data_to_learn = data_train_no_zero[['date',\n",
    " 'primary_cleaner.input.sulfate',\n",
    " 'primary_cleaner.input.depressant',\n",
    " 'primary_cleaner.input.feed_size',\n",
    " 'primary_cleaner.input.xanthate',\n",
    " 'primary_cleaner.state.floatbank8_a_air',\n",
    " 'primary_cleaner.state.floatbank8_a_level',\n",
    " 'primary_cleaner.state.floatbank8_b_air',\n",
    " 'primary_cleaner.state.floatbank8_b_level',\n",
    " 'primary_cleaner.state.floatbank8_c_air',\n",
    " 'primary_cleaner.state.floatbank8_c_level',\n",
    " 'primary_cleaner.state.floatbank8_d_air',\n",
    " 'primary_cleaner.state.floatbank8_d_level',\n",
    " 'rougher.input.feed_ag',\n",
    " 'rougher.input.feed_pb',\n",
    " 'rougher.input.feed_rate',\n",
    " 'rougher.input.feed_size',\n",
    " 'rougher.input.feed_sol',\n",
    " 'rougher.input.feed_au',\n",
    " 'rougher.input.floatbank10_sulfate',\n",
    " 'rougher.input.floatbank10_xanthate',\n",
    " 'rougher.input.floatbank11_sulfate',\n",
    " 'rougher.input.floatbank11_xanthate',\n",
    " 'rougher.state.floatbank10_a_air',\n",
    " 'rougher.state.floatbank10_a_level',\n",
    " 'rougher.state.floatbank10_b_air',\n",
    " 'rougher.state.floatbank10_b_level',\n",
    " 'rougher.state.floatbank10_c_air',\n",
    " 'rougher.state.floatbank10_c_level',\n",
    " 'rougher.state.floatbank10_d_air',\n",
    " 'rougher.state.floatbank10_d_level',\n",
    " 'rougher.state.floatbank10_e_air',\n",
    " 'rougher.state.floatbank10_e_level',\n",
    " 'rougher.state.floatbank10_f_air',\n",
    " 'rougher.state.floatbank10_f_level',\n",
    " 'secondary_cleaner.state.floatbank2_a_air',\n",
    " 'secondary_cleaner.state.floatbank2_a_level',\n",
    " 'secondary_cleaner.state.floatbank2_b_air',\n",
    " 'secondary_cleaner.state.floatbank2_b_level',\n",
    " 'secondary_cleaner.state.floatbank3_a_air',\n",
    " 'secondary_cleaner.state.floatbank3_a_level',\n",
    " 'secondary_cleaner.state.floatbank3_b_air',\n",
    " 'secondary_cleaner.state.floatbank3_b_level',\n",
    " 'secondary_cleaner.state.floatbank4_a_air',\n",
    " 'secondary_cleaner.state.floatbank4_a_level',\n",
    " 'secondary_cleaner.state.floatbank4_b_air',\n",
    " 'secondary_cleaner.state.floatbank4_b_level',\n",
    " 'secondary_cleaner.state.floatbank5_a_air',\n",
    " 'secondary_cleaner.state.floatbank5_a_level',\n",
    " 'secondary_cleaner.state.floatbank5_b_air',\n",
    " 'secondary_cleaner.state.floatbank5_b_level',\n",
    " 'secondary_cleaner.state.floatbank6_a_air',\n",
    " 'secondary_cleaner.state.floatbank6_a_level',\n",
    " 'final.output.recovery',\n",
    " 'rougher.output.recovery']]"
   ]
  },
  {
   "cell_type": "code",
   "execution_count": 29,
   "metadata": {},
   "outputs": [
    {
     "data": {
      "text/plain": [
       "(13795, 55)"
      ]
     },
     "metadata": {},
     "output_type": "display_data"
    },
    {
     "data": {
      "text/plain": [
       "(5290, 55)"
      ]
     },
     "metadata": {},
     "output_type": "display_data"
    }
   ],
   "source": [
    "display(data_to_learn.shape)\n",
    "display(data_test.shape)"
   ]
  },
  {
   "cell_type": "code",
   "execution_count": 30,
   "metadata": {},
   "outputs": [
    {
     "data": {
      "text/html": [
       "<div>\n",
       "<style scoped>\n",
       "    .dataframe tbody tr th:only-of-type {\n",
       "        vertical-align: middle;\n",
       "    }\n",
       "\n",
       "    .dataframe tbody tr th {\n",
       "        vertical-align: top;\n",
       "    }\n",
       "\n",
       "    .dataframe thead th {\n",
       "        text-align: right;\n",
       "    }\n",
       "</style>\n",
       "<table border=\"1\" class=\"dataframe\">\n",
       "  <thead>\n",
       "    <tr style=\"text-align: right;\">\n",
       "      <th></th>\n",
       "      <th>date</th>\n",
       "      <th>primary_cleaner.input.sulfate</th>\n",
       "      <th>primary_cleaner.input.depressant</th>\n",
       "      <th>primary_cleaner.input.feed_size</th>\n",
       "      <th>primary_cleaner.input.xanthate</th>\n",
       "      <th>primary_cleaner.state.floatbank8_a_air</th>\n",
       "      <th>primary_cleaner.state.floatbank8_a_level</th>\n",
       "      <th>primary_cleaner.state.floatbank8_b_air</th>\n",
       "      <th>primary_cleaner.state.floatbank8_b_level</th>\n",
       "      <th>primary_cleaner.state.floatbank8_c_air</th>\n",
       "      <th>...</th>\n",
       "      <th>secondary_cleaner.state.floatbank4_b_air</th>\n",
       "      <th>secondary_cleaner.state.floatbank4_b_level</th>\n",
       "      <th>secondary_cleaner.state.floatbank5_a_air</th>\n",
       "      <th>secondary_cleaner.state.floatbank5_a_level</th>\n",
       "      <th>secondary_cleaner.state.floatbank5_b_air</th>\n",
       "      <th>secondary_cleaner.state.floatbank5_b_level</th>\n",
       "      <th>secondary_cleaner.state.floatbank6_a_air</th>\n",
       "      <th>secondary_cleaner.state.floatbank6_a_level</th>\n",
       "      <th>final.output.recovery</th>\n",
       "      <th>rougher.output.recovery</th>\n",
       "    </tr>\n",
       "  </thead>\n",
       "  <tbody>\n",
       "    <tr>\n",
       "      <th>0</th>\n",
       "      <td>2016-01-15 00:00:00</td>\n",
       "      <td>127.092003</td>\n",
       "      <td>10.128295</td>\n",
       "      <td>7.25</td>\n",
       "      <td>0.988759</td>\n",
       "      <td>1549.775757</td>\n",
       "      <td>-498.912140</td>\n",
       "      <td>1551.434204</td>\n",
       "      <td>-516.403442</td>\n",
       "      <td>1549.873901</td>\n",
       "      <td>...</td>\n",
       "      <td>12.099931</td>\n",
       "      <td>-504.715942</td>\n",
       "      <td>9.925633</td>\n",
       "      <td>-498.310211</td>\n",
       "      <td>8.079666</td>\n",
       "      <td>-500.470978</td>\n",
       "      <td>14.151341</td>\n",
       "      <td>-605.841980</td>\n",
       "      <td>70.541216</td>\n",
       "      <td>87.107763</td>\n",
       "    </tr>\n",
       "    <tr>\n",
       "      <th>1</th>\n",
       "      <td>2016-01-15 01:00:00</td>\n",
       "      <td>125.629232</td>\n",
       "      <td>10.296251</td>\n",
       "      <td>7.25</td>\n",
       "      <td>1.002663</td>\n",
       "      <td>1576.166671</td>\n",
       "      <td>-500.904965</td>\n",
       "      <td>1575.950626</td>\n",
       "      <td>-499.865889</td>\n",
       "      <td>1575.994189</td>\n",
       "      <td>...</td>\n",
       "      <td>11.950531</td>\n",
       "      <td>-501.331529</td>\n",
       "      <td>10.039245</td>\n",
       "      <td>-500.169983</td>\n",
       "      <td>7.984757</td>\n",
       "      <td>-500.582168</td>\n",
       "      <td>13.998353</td>\n",
       "      <td>-599.787184</td>\n",
       "      <td>69.266198</td>\n",
       "      <td>86.843261</td>\n",
       "    </tr>\n",
       "    <tr>\n",
       "      <th>2</th>\n",
       "      <td>2016-01-15 02:00:00</td>\n",
       "      <td>123.819808</td>\n",
       "      <td>11.316280</td>\n",
       "      <td>7.25</td>\n",
       "      <td>0.991265</td>\n",
       "      <td>1601.556163</td>\n",
       "      <td>-499.997791</td>\n",
       "      <td>1600.386685</td>\n",
       "      <td>-500.607762</td>\n",
       "      <td>1602.003542</td>\n",
       "      <td>...</td>\n",
       "      <td>11.912783</td>\n",
       "      <td>-501.133383</td>\n",
       "      <td>10.070913</td>\n",
       "      <td>-500.129135</td>\n",
       "      <td>8.013877</td>\n",
       "      <td>-500.517572</td>\n",
       "      <td>14.028663</td>\n",
       "      <td>-601.427363</td>\n",
       "      <td>68.116445</td>\n",
       "      <td>86.842308</td>\n",
       "    </tr>\n",
       "    <tr>\n",
       "      <th>3</th>\n",
       "      <td>2016-01-15 03:00:00</td>\n",
       "      <td>122.270188</td>\n",
       "      <td>11.322140</td>\n",
       "      <td>7.25</td>\n",
       "      <td>0.996739</td>\n",
       "      <td>1599.968720</td>\n",
       "      <td>-500.951778</td>\n",
       "      <td>1600.659236</td>\n",
       "      <td>-499.677094</td>\n",
       "      <td>1600.304144</td>\n",
       "      <td>...</td>\n",
       "      <td>11.999550</td>\n",
       "      <td>-501.193686</td>\n",
       "      <td>9.970366</td>\n",
       "      <td>-499.201640</td>\n",
       "      <td>7.977324</td>\n",
       "      <td>-500.255908</td>\n",
       "      <td>14.005551</td>\n",
       "      <td>-599.996129</td>\n",
       "      <td>68.347543</td>\n",
       "      <td>87.226430</td>\n",
       "    </tr>\n",
       "    <tr>\n",
       "      <th>4</th>\n",
       "      <td>2016-01-15 04:00:00</td>\n",
       "      <td>117.988169</td>\n",
       "      <td>11.913613</td>\n",
       "      <td>7.25</td>\n",
       "      <td>1.009869</td>\n",
       "      <td>1601.339707</td>\n",
       "      <td>-498.975456</td>\n",
       "      <td>1601.437854</td>\n",
       "      <td>-500.323246</td>\n",
       "      <td>1599.581894</td>\n",
       "      <td>...</td>\n",
       "      <td>11.953070</td>\n",
       "      <td>-501.053894</td>\n",
       "      <td>9.925709</td>\n",
       "      <td>-501.686727</td>\n",
       "      <td>7.894242</td>\n",
       "      <td>-500.356035</td>\n",
       "      <td>13.996647</td>\n",
       "      <td>-601.496691</td>\n",
       "      <td>66.927016</td>\n",
       "      <td>86.688794</td>\n",
       "    </tr>\n",
       "  </tbody>\n",
       "</table>\n",
       "<p>5 rows × 55 columns</p>\n",
       "</div>"
      ],
      "text/plain": [
       "                  date  primary_cleaner.input.sulfate  \\\n",
       "0  2016-01-15 00:00:00                     127.092003   \n",
       "1  2016-01-15 01:00:00                     125.629232   \n",
       "2  2016-01-15 02:00:00                     123.819808   \n",
       "3  2016-01-15 03:00:00                     122.270188   \n",
       "4  2016-01-15 04:00:00                     117.988169   \n",
       "\n",
       "   primary_cleaner.input.depressant  primary_cleaner.input.feed_size  \\\n",
       "0                         10.128295                             7.25   \n",
       "1                         10.296251                             7.25   \n",
       "2                         11.316280                             7.25   \n",
       "3                         11.322140                             7.25   \n",
       "4                         11.913613                             7.25   \n",
       "\n",
       "   primary_cleaner.input.xanthate  primary_cleaner.state.floatbank8_a_air  \\\n",
       "0                        0.988759                             1549.775757   \n",
       "1                        1.002663                             1576.166671   \n",
       "2                        0.991265                             1601.556163   \n",
       "3                        0.996739                             1599.968720   \n",
       "4                        1.009869                             1601.339707   \n",
       "\n",
       "   primary_cleaner.state.floatbank8_a_level  \\\n",
       "0                               -498.912140   \n",
       "1                               -500.904965   \n",
       "2                               -499.997791   \n",
       "3                               -500.951778   \n",
       "4                               -498.975456   \n",
       "\n",
       "   primary_cleaner.state.floatbank8_b_air  \\\n",
       "0                             1551.434204   \n",
       "1                             1575.950626   \n",
       "2                             1600.386685   \n",
       "3                             1600.659236   \n",
       "4                             1601.437854   \n",
       "\n",
       "   primary_cleaner.state.floatbank8_b_level  \\\n",
       "0                               -516.403442   \n",
       "1                               -499.865889   \n",
       "2                               -500.607762   \n",
       "3                               -499.677094   \n",
       "4                               -500.323246   \n",
       "\n",
       "   primary_cleaner.state.floatbank8_c_air  ...  \\\n",
       "0                             1549.873901  ...   \n",
       "1                             1575.994189  ...   \n",
       "2                             1602.003542  ...   \n",
       "3                             1600.304144  ...   \n",
       "4                             1599.581894  ...   \n",
       "\n",
       "   secondary_cleaner.state.floatbank4_b_air  \\\n",
       "0                                 12.099931   \n",
       "1                                 11.950531   \n",
       "2                                 11.912783   \n",
       "3                                 11.999550   \n",
       "4                                 11.953070   \n",
       "\n",
       "   secondary_cleaner.state.floatbank4_b_level  \\\n",
       "0                                 -504.715942   \n",
       "1                                 -501.331529   \n",
       "2                                 -501.133383   \n",
       "3                                 -501.193686   \n",
       "4                                 -501.053894   \n",
       "\n",
       "   secondary_cleaner.state.floatbank5_a_air  \\\n",
       "0                                  9.925633   \n",
       "1                                 10.039245   \n",
       "2                                 10.070913   \n",
       "3                                  9.970366   \n",
       "4                                  9.925709   \n",
       "\n",
       "   secondary_cleaner.state.floatbank5_a_level  \\\n",
       "0                                 -498.310211   \n",
       "1                                 -500.169983   \n",
       "2                                 -500.129135   \n",
       "3                                 -499.201640   \n",
       "4                                 -501.686727   \n",
       "\n",
       "   secondary_cleaner.state.floatbank5_b_air  \\\n",
       "0                                  8.079666   \n",
       "1                                  7.984757   \n",
       "2                                  8.013877   \n",
       "3                                  7.977324   \n",
       "4                                  7.894242   \n",
       "\n",
       "   secondary_cleaner.state.floatbank5_b_level  \\\n",
       "0                                 -500.470978   \n",
       "1                                 -500.582168   \n",
       "2                                 -500.517572   \n",
       "3                                 -500.255908   \n",
       "4                                 -500.356035   \n",
       "\n",
       "   secondary_cleaner.state.floatbank6_a_air  \\\n",
       "0                                 14.151341   \n",
       "1                                 13.998353   \n",
       "2                                 14.028663   \n",
       "3                                 14.005551   \n",
       "4                                 13.996647   \n",
       "\n",
       "   secondary_cleaner.state.floatbank6_a_level  final.output.recovery  \\\n",
       "0                                 -605.841980              70.541216   \n",
       "1                                 -599.787184              69.266198   \n",
       "2                                 -601.427363              68.116445   \n",
       "3                                 -599.996129              68.347543   \n",
       "4                                 -601.496691              66.927016   \n",
       "\n",
       "   rougher.output.recovery  \n",
       "0                87.107763  \n",
       "1                86.843261  \n",
       "2                86.842308  \n",
       "3                87.226430  \n",
       "4                86.688794  \n",
       "\n",
       "[5 rows x 55 columns]"
      ]
     },
     "execution_count": 30,
     "metadata": {},
     "output_type": "execute_result"
    }
   ],
   "source": [
    "data_to_learn.head()"
   ]
  },
  {
   "cell_type": "code",
   "execution_count": 31,
   "metadata": {},
   "outputs": [
    {
     "data": {
      "text/plain": [
       "(13795, 54)"
      ]
     },
     "execution_count": 31,
     "metadata": {},
     "output_type": "execute_result"
    }
   ],
   "source": [
    "# удалим дату из обучающего датафрейма\n",
    "data_to_learn = data_to_learn.drop(data_to_learn.columns[0], axis=1)\n",
    "data_to_learn.shape"
   ]
  },
  {
   "cell_type": "code",
   "execution_count": 32,
   "metadata": {},
   "outputs": [
    {
     "data": {
      "text/plain": [
       "(5290, 54)"
      ]
     },
     "execution_count": 32,
     "metadata": {},
     "output_type": "execute_result"
    }
   ],
   "source": [
    "# удалим дату из тест датафрейма\n",
    "data_test = data_test.drop(data_test.columns[0], axis=1)\n",
    "data_test.shape"
   ]
  },
  {
   "cell_type": "markdown",
   "metadata": {},
   "source": [
    "### Предварительный вывод об анализе данных\n",
    "Визуализация распределения гранул сырья на обучающей и тестовой выборках показала, что значительных различий нет.\n",
    "Доля золота увеличивается на каждом  этапе очистки. В процессе иследования  суммарной концентрации веществ на разных стадиях были выявлены нулевые суммарные показатели, вероятнее всего ошибочные. Они были удалены для улучшения качества моделей. Также мы удалили из обучающей выборки, столбцы которых нет в тестовой. В тестовую были добавлены столбцы-таргеты из полного датасета."
   ]
  },
  {
   "cell_type": "markdown",
   "metadata": {},
   "source": [
    "## Моделирование"
   ]
  },
  {
   "cell_type": "markdown",
   "metadata": {},
   "source": [
    "### Разделение данных на признаки и таргеты"
   ]
  },
  {
   "cell_type": "code",
   "execution_count": 33,
   "metadata": {},
   "outputs": [],
   "source": [
    "# отделим таргеты и признаки \n",
    "features_train = data_to_learn.drop(['final.output.recovery','rougher.output.recovery'], axis=1)\n",
    "target_train_rougher = data_to_learn['rougher.output.recovery']\n",
    "target_train_final = data_to_learn['final.output.recovery']"
   ]
  },
  {
   "cell_type": "code",
   "execution_count": 34,
   "metadata": {},
   "outputs": [
    {
     "data": {
      "text/plain": [
       "(13795, 52)"
      ]
     },
     "metadata": {},
     "output_type": "display_data"
    },
    {
     "data": {
      "text/plain": [
       "(13795,)"
      ]
     },
     "metadata": {},
     "output_type": "display_data"
    },
    {
     "data": {
      "text/plain": [
       "(13795,)"
      ]
     },
     "metadata": {},
     "output_type": "display_data"
    }
   ],
   "source": [
    "display(features_train.shape) \n",
    "display(target_train_rougher.shape)\n",
    "display(target_train_final.shape)"
   ]
  },
  {
   "cell_type": "code",
   "execution_count": 35,
   "metadata": {},
   "outputs": [],
   "source": [
    "# напишем функцию для посчета sMAPE\n",
    "def sMAPE(target, pred):\n",
    "    smape = 1/len(target) * np.sum(2 * np.abs(target - pred) / (np.abs(target) + np.abs(pred))*100)\n",
    "    return smape"
   ]
  },
  {
   "cell_type": "code",
   "execution_count": 36,
   "metadata": {},
   "outputs": [],
   "source": [
    "# сделаем sMAPE главной оценкой наших моделей\n",
    "smape_scorer = make_scorer(sMAPE, greater_is_better = False)"
   ]
  },
  {
   "cell_type": "code",
   "execution_count": 37,
   "metadata": {},
   "outputs": [],
   "source": [
    "# Напишем функцию для посчета итогового sMAPE (она распределит оценки между двумя таргетами по степени весомости)\n",
    "def sMAPE_final(rougher, final):\n",
    "    smape_final = 0.25*rougher+0.75*final\n",
    "    return smape_final"
   ]
  },
  {
   "cell_type": "markdown",
   "metadata": {},
   "source": [
    "### ***Модель Linear Regression (Линейная регрессия)***"
   ]
  },
  {
   "cell_type": "code",
   "execution_count": 38,
   "metadata": {},
   "outputs": [
    {
     "name": "stdout",
     "output_type": "stream",
     "text": [
      "Итоговое значение sMAPE модели Линейная регрессия:  10.1\n"
     ]
    }
   ],
   "source": [
    "# построим модель и подберем лучшие параметры, применим функции и скоререр для получения sMAPE\n",
    "model_LR_rougher = LinearRegression()\n",
    "smape_rougher = cross_val_score(model_LR_rougher, features_train, target_train_rougher, scoring=smape_scorer, cv=5)\n",
    "final_smape_rougher = smape_rougher.mean()\n",
    "\n",
    "model_LR_final = LinearRegression()\n",
    "smape_final = cross_val_score(model_LR_final, features_train, target_train_final, scoring=smape_scorer, cv=5)\n",
    "final_smape_final = smape_final.mean()\n",
    "\n",
    "result_smape = abs(round(sMAPE_final(final_smape_rougher, final_smape_final), 1))\n",
    "print('Итоговое значение sMAPE модели Линейная регрессия: ', result_smape)"
   ]
  },
  {
   "cell_type": "markdown",
   "metadata": {},
   "source": [
    "### ***Модель DecisionTreeRegressor(Решающее дерево)***"
   ]
  },
  {
   "cell_type": "code",
   "execution_count": 39,
   "metadata": {},
   "outputs": [
    {
     "name": "stdout",
     "output_type": "stream",
     "text": [
      "Лучшие гиперпараметры для DecisionTreeRegressor :  {'max_depth': 3}\n",
      "Лучшее значение sMAPE этап флотации:  7.1\n",
      "CPU times: user 12.7 s, sys: 92.3 ms, total: 12.7 s\n",
      "Wall time: 12.8 s\n"
     ]
    }
   ],
   "source": [
    "%%time\n",
    "# построим модель и подберем лучшие параметры, применим функции и скоререр для получения sMAPE\n",
    "model_DT_roughe = DecisionTreeRegressor(random_state=RANDOM_STATE)\n",
    "# подберем оптимальные параметры глубины дерева\n",
    "parameters = {'max_depth': range(2,10)}\n",
    "\n",
    "grid_DT_rougher = GridSearchCV(model_DT_roughe,\n",
    "                               parameters, \n",
    "                               cv=5, \n",
    "                               scoring=smape_scorer)\n",
    "grid_DT_rougher.fit(features_train, target_train_rougher)\n",
    "\n",
    "best_sMAPE_rougher = abs(round(grid_DT_rougher.best_score_, 1))\n",
    "\n",
    "print('Лучшие гиперпараметры для DecisionTreeRegressor : ', (grid_DT_rougher.best_params_))\n",
    "print('Лучшее значение sMAPE этап флотации: ', best_sMAPE_rougher)\n",
    "      "
   ]
  },
  {
   "cell_type": "code",
   "execution_count": 40,
   "metadata": {},
   "outputs": [
    {
     "name": "stdout",
     "output_type": "stream",
     "text": [
      "Лучшие гиперпараметры для DecisionTreeRegressor :  {'max_depth': 2}\n",
      "Лучшее значение sMAPE финальный этап очистки: 9.4\n",
      "CPU times: user 12.6 s, sys: 25.2 ms, total: 12.7 s\n",
      "Wall time: 12.7 s\n"
     ]
    }
   ],
   "source": [
    "%%time\n",
    "model_DT_final = DecisionTreeRegressor(random_state=RANDOM_STATE)\n",
    "# подберем оптимальные параметры глубины дерева\n",
    "parameters = {'max_depth': range(2,10)}\n",
    "\n",
    "grid_DT_final = GridSearchCV(model_DT_final,\n",
    "                               parameters, \n",
    "                               cv=5, \n",
    "                               scoring=smape_scorer)\n",
    "grid_DT_final.fit(features_train, target_train_final)\n",
    "\n",
    "best_sMAPE_final = abs(round(grid_DT_final.best_score_, 1))\n",
    "print('Лучшие гиперпараметры для DecisionTreeRegressor : ', (grid_DT_final.best_params_))\n",
    "print('Лучшее значение sMAPE финальный этап очистки:', best_sMAPE_final)"
   ]
  },
  {
   "cell_type": "code",
   "execution_count": 41,
   "metadata": {},
   "outputs": [
    {
     "name": "stdout",
     "output_type": "stream",
     "text": [
      "Итоговое значение sMAPE модели Решаюшее дерево:  8.8\n"
     ]
    }
   ],
   "source": [
    "print('Итоговое значение sMAPE модели Решаюшее дерево: ', round(sMAPE_final(best_sMAPE_rougher, best_sMAPE_final), 1))"
   ]
  },
  {
   "cell_type": "markdown",
   "metadata": {},
   "source": [
    "### ***Модель RandomForestRegressor (Cлучайный лес)***"
   ]
  },
  {
   "cell_type": "code",
   "execution_count": 42,
   "metadata": {},
   "outputs": [
    {
     "name": "stdout",
     "output_type": "stream",
     "text": [
      "Лучшие гиперпараметры для RandomForestRegressor: {'max_depth': 4, 'n_estimators': 150}\n",
      "Лучшее значение sMAPE этап флотации: 6.7\n",
      "CPU times: user 11min 55s, sys: 2.47 s, total: 11min 57s\n",
      "Wall time: 11min 59s\n"
     ]
    }
   ],
   "source": [
    "%%time\n",
    "# построим модель и подберем лучшие параметры, применим функции и скоререр для получения sMAPE\n",
    "model_RF_roughe = RandomForestRegressor(random_state=RANDOM_STATE)\n",
    "parameters ={'max_depth':range(2,8,2),\n",
    "            'n_estimators':[50,100,150]}\n",
    "grid_RF_roughe = GridSearchCV(model_RF_roughe, param_grid=parameters, cv=5, scoring=smape_scorer)\n",
    "model_grid_roughe = grid_RF_roughe.fit(features_train, target_train_rougher)\n",
    "\n",
    "best_sMAPE_roughers_RF = abs(round(grid_RF_roughe.best_score_, 1))\n",
    "print('Лучшие гиперпараметры для RandomForestRegressor: '+str(grid_RF_roughe.best_params_))\n",
    "print('Лучшее значение sMAPE этап флотации:', best_sMAPE_roughers_RF)"
   ]
  },
  {
   "cell_type": "code",
   "execution_count": 43,
   "metadata": {},
   "outputs": [
    {
     "name": "stdout",
     "output_type": "stream",
     "text": [
      "Лучшие гиперпараметры для RandomForestRegressor: {'max_depth': 4, 'n_estimators': 150}\n",
      "Лучшее значение sMAPE этап финальной очистки: 9.0\n",
      "CPU times: user 11min 53s, sys: 1.89 s, total: 11min 55s\n",
      "Wall time: 11min 57s\n"
     ]
    }
   ],
   "source": [
    "%%time\n",
    "model_RF_final = RandomForestRegressor(random_state=RANDOM_STATE)\n",
    "parameters ={'max_depth':range(2,8,2),\n",
    "            'n_estimators':[50,100,150]}\n",
    "grid_RF_final = GridSearchCV(model_RF_final, param_grid=parameters, cv=5, scoring=smape_scorer)\n",
    "model_grid_final_RF = grid_RF_final.fit(features_train, target_train_final)\n",
    "\n",
    "best_sMAPE_final_RF = abs(round(grid_RF_final.best_score_, 1))\n",
    "print('Лучшие гиперпараметры для RandomForestRegressor: '+str(grid_RF_final.best_params_))\n",
    "print('Лучшее значение sMAPE этап финальной очистки:', best_sMAPE_final_RF)"
   ]
  },
  {
   "cell_type": "code",
   "execution_count": 44,
   "metadata": {},
   "outputs": [
    {
     "name": "stdout",
     "output_type": "stream",
     "text": [
      "Итоговое значение sMAPE модели Случайный лес:  8.4\n"
     ]
    }
   ],
   "source": [
    "print('Итоговое значение sMAPE модели Случайный лес: ',\\\n",
    "      round(sMAPE_final(best_sMAPE_roughers_RF, best_sMAPE_final_RF),1))"
   ]
  },
  {
   "attachments": {},
   "cell_type": "markdown",
   "metadata": {},
   "source": [
    "###  Лучшая модель. Проверка на тестовой выборке. \n",
    "Лучшей  стала модель \"Случайный лес\", показав sMAPE - 8,4%. Проверим ее на тестовой выборке. "
   ]
  },
  {
   "cell_type": "code",
   "execution_count": 46,
   "metadata": {},
   "outputs": [
    {
     "name": "stdout",
     "output_type": "stream",
     "text": [
      "(5290, 52)\n",
      "(5290,)\n",
      "(5290,)\n"
     ]
    }
   ],
   "source": [
    "#Подготовим данные для тестирования\n",
    "features_test = data_test.drop(['rougher.output.recovery', 'final.output.recovery'], axis=1)\n",
    "target_test_rougher = data_test['rougher.output.recovery']\n",
    "target_test_final = data_test['final.output.recovery']\n",
    "print(features_test.shape)\n",
    "print(target_test_rougher.shape)\n",
    "print(target_test_final.shape)"
   ]
  },
  {
   "cell_type": "code",
   "execution_count": 47,
   "metadata": {},
   "outputs": [],
   "source": [
    "# Проверим лучшую модель на тестовой выборке.\n",
    "model_test_rougher = RandomForestRegressor(max_depth = 4, n_estimators=150, random_state=RANDOM_STATE)\n",
    "model_test_rougher.fit(features_train, target_train_rougher)\n",
    "pred_test_rougher = model_test_rougher.predict(features_test)"
   ]
  },
  {
   "cell_type": "code",
   "execution_count": 48,
   "metadata": {},
   "outputs": [
    {
     "data": {
      "text/plain": [
       "8.466244458387585"
      ]
     },
     "execution_count": 48,
     "metadata": {},
     "output_type": "execute_result"
    }
   ],
   "source": [
    "# рассчитаем smape на тестовых данных\n",
    "sMAPE_test_rougher = sMAPE(target_test_rougher, pred_test_rougher)\n",
    "sMAPE_test_rougher"
   ]
  },
  {
   "cell_type": "code",
   "execution_count": 49,
   "metadata": {},
   "outputs": [],
   "source": [
    "model_test_final = RandomForestRegressor(max_depth = 4, n_estimators=50, random_state=RANDOM_STATE)\n",
    "model_test_final.fit(features_train, target_train_final)\n",
    "pred_test_final = model_test_final.predict(features_test)"
   ]
  },
  {
   "cell_type": "code",
   "execution_count": 50,
   "metadata": {},
   "outputs": [
    {
     "data": {
      "text/plain": [
       "9.627264064909854"
      ]
     },
     "execution_count": 50,
     "metadata": {},
     "output_type": "execute_result"
    }
   ],
   "source": [
    "# рассчитаем smape на тестовых данных\n",
    "sMAPE_test_final = sMAPE(target_test_final, pred_test_final)\n",
    "sMAPE_test_final"
   ]
  },
  {
   "cell_type": "code",
   "execution_count": 53,
   "metadata": {},
   "outputs": [
    {
     "name": "stdout",
     "output_type": "stream",
     "text": [
      "Итоговое значение sMAPE модели Случайный лес:  9.3\n"
     ]
    }
   ],
   "source": [
    "print('Итоговое значение sMAPE  модели Случайный лес: ', round(sMAPE_final(sMAPE_test_rougher, sMAPE_test_final), 1))"
   ]
  },
  {
   "cell_type": "markdown",
   "metadata": {},
   "source": [
    "### Проверка константной моделью"
   ]
  },
  {
   "cell_type": "code",
   "execution_count": 52,
   "metadata": {},
   "outputs": [
    {
     "name": "stdout",
     "output_type": "stream",
     "text": [
      "Итоговое sMAPE для DummyRegressor: 9.82279305388574\n"
     ]
    }
   ],
   "source": [
    "# используем для проверки на адыкватность DummyRegressor\n",
    "dummy_model_rougher = DummyRegressor(strategy=\"mean\")\n",
    "dummy_model_final = DummyRegressor(strategy=\"mean\")\n",
    " \n",
    "dummy_model_rougher.fit(features_train, target_train_rougher)\n",
    "dummy_model_final.fit(features_train, target_train_final)\n",
    "\n",
    "test_predictions_rougher = dummy_model_rougher.predict(features_test)\n",
    "test_predictions_final = dummy_model_final.predict(features_test)\n",
    "\n",
    "print('Итоговое sMAPE для DummyRegressor:', (sMAPE(target_test_rougher, test_predictions_rougher))*0.25\\\n",
    "                                                       + (sMAPE(target_test_final, test_predictions_final))*0.75)"
   ]
  },
  {
   "cell_type": "markdown",
   "metadata": {},
   "source": [
    "## Итоговый вывод\n",
    "Цель проекта достигнута! Мы построили модель машинного обучения, которая может предсказать коэффициент восстановления золота из золотосодержащей руды, используя предоставленные данные с параметрами добычи и очистки. Данные с которыми мы работали были изучены и подготовлены для качественного обучения. \n",
    " \n",
    "Мы протестировали несколко моделей и рекомендуем модель с лучшим показателем sMAPE. Это модель из библиотеки sklearn - RandomForestRegressor.\n",
    "\n",
    "Модель прошла проверку на адыкватность, что подтверждает ее эффективность."
   ]
  }
 ],
 "metadata": {
  "ExecuteTimeLog": [
   {
    "duration": 388,
    "start_time": "2023-03-18T12:22:56.095Z"
   },
   {
    "duration": 2425,
    "start_time": "2023-03-18T12:54:03.000Z"
   },
   {
    "duration": 1153,
    "start_time": "2023-03-18T12:58:11.531Z"
   },
   {
    "duration": 39,
    "start_time": "2023-03-18T12:59:59.241Z"
   },
   {
    "duration": 27,
    "start_time": "2023-03-18T13:00:22.701Z"
   },
   {
    "duration": 111,
    "start_time": "2023-03-18T13:03:27.391Z"
   },
   {
    "duration": 1594,
    "start_time": "2023-03-18T13:03:39.256Z"
   },
   {
    "duration": 822,
    "start_time": "2023-03-18T13:03:40.852Z"
   },
   {
    "duration": 4,
    "start_time": "2023-03-18T13:03:41.679Z"
   },
   {
    "duration": 5496,
    "start_time": "2023-03-18T13:03:41.685Z"
   },
   {
    "duration": 4,
    "start_time": "2023-03-18T13:04:30.682Z"
   },
   {
    "duration": 193,
    "start_time": "2023-03-18T13:04:40.791Z"
   },
   {
    "duration": 708,
    "start_time": "2023-03-18T13:06:17.485Z"
   },
   {
    "duration": 173,
    "start_time": "2023-03-18T13:07:17.124Z"
   },
   {
    "duration": 407,
    "start_time": "2023-03-18T13:07:25.661Z"
   },
   {
    "duration": 42,
    "start_time": "2023-03-18T13:22:21.689Z"
   },
   {
    "duration": 112,
    "start_time": "2023-03-18T13:22:42.813Z"
   },
   {
    "duration": 50,
    "start_time": "2023-03-19T17:04:40.643Z"
   },
   {
    "duration": 49,
    "start_time": "2023-03-19T17:05:01.458Z"
   },
   {
    "duration": 1695,
    "start_time": "2023-03-19T17:05:09.110Z"
   },
   {
    "duration": 2157,
    "start_time": "2023-03-19T17:05:10.808Z"
   },
   {
    "duration": 3,
    "start_time": "2023-03-19T17:05:12.967Z"
   },
   {
    "duration": 294,
    "start_time": "2023-03-19T17:05:12.972Z"
   },
   {
    "duration": 181,
    "start_time": "2023-03-19T17:05:13.268Z"
   },
   {
    "duration": 314,
    "start_time": "2023-03-19T17:05:13.451Z"
   },
   {
    "duration": 126,
    "start_time": "2023-03-19T17:05:13.767Z"
   },
   {
    "duration": 7,
    "start_time": "2023-03-19T17:09:04.309Z"
   },
   {
    "duration": 6,
    "start_time": "2023-03-19T17:09:28.839Z"
   },
   {
    "duration": 7,
    "start_time": "2023-03-19T17:10:41.628Z"
   },
   {
    "duration": 157,
    "start_time": "2023-03-19T17:11:42.378Z"
   },
   {
    "duration": 141,
    "start_time": "2023-03-19T17:11:51.139Z"
   },
   {
    "duration": 1638,
    "start_time": "2023-03-19T17:12:05.608Z"
   },
   {
    "duration": 357,
    "start_time": "2023-03-19T17:12:13.021Z"
   },
   {
    "duration": 204,
    "start_time": "2023-03-19T17:12:48.391Z"
   },
   {
    "duration": 5,
    "start_time": "2023-03-19T17:16:37.108Z"
   },
   {
    "duration": 6,
    "start_time": "2023-03-19T17:16:38.239Z"
   },
   {
    "duration": 184,
    "start_time": "2023-03-19T17:16:40.120Z"
   },
   {
    "duration": 7,
    "start_time": "2023-03-19T17:54:33.612Z"
   },
   {
    "duration": 58,
    "start_time": "2023-03-19T17:55:44.673Z"
   },
   {
    "duration": 11,
    "start_time": "2023-03-19T17:56:02.208Z"
   },
   {
    "duration": 7,
    "start_time": "2023-03-19T17:57:15.373Z"
   },
   {
    "duration": 6,
    "start_time": "2023-03-19T17:58:10.653Z"
   },
   {
    "duration": 1301,
    "start_time": "2023-03-19T19:16:21.035Z"
   },
   {
    "duration": 712,
    "start_time": "2023-03-19T19:16:22.338Z"
   },
   {
    "duration": 3,
    "start_time": "2023-03-19T19:16:23.051Z"
   },
   {
    "duration": 291,
    "start_time": "2023-03-19T19:16:23.056Z"
   },
   {
    "duration": 166,
    "start_time": "2023-03-19T19:16:23.349Z"
   },
   {
    "duration": 305,
    "start_time": "2023-03-19T19:16:23.517Z"
   },
   {
    "duration": 5,
    "start_time": "2023-03-19T19:16:23.824Z"
   },
   {
    "duration": 18,
    "start_time": "2023-03-19T19:16:23.831Z"
   },
   {
    "duration": 182,
    "start_time": "2023-03-19T19:16:23.850Z"
   },
   {
    "duration": 200,
    "start_time": "2023-03-19T19:16:24.033Z"
   },
   {
    "duration": 8,
    "start_time": "2023-03-19T19:16:24.235Z"
   },
   {
    "duration": 46,
    "start_time": "2023-03-19T19:20:58.415Z"
   },
   {
    "duration": 5,
    "start_time": "2023-03-19T19:21:09.096Z"
   },
   {
    "duration": 5,
    "start_time": "2023-03-19T19:22:38.183Z"
   },
   {
    "duration": 6,
    "start_time": "2023-03-19T19:22:39.836Z"
   },
   {
    "duration": 172,
    "start_time": "2023-03-19T19:22:39.945Z"
   },
   {
    "duration": 246,
    "start_time": "2023-03-19T19:22:43.765Z"
   },
   {
    "duration": 7,
    "start_time": "2023-03-19T19:27:06.476Z"
   },
   {
    "duration": 7,
    "start_time": "2023-03-19T19:27:46.167Z"
   },
   {
    "duration": 6,
    "start_time": "2023-03-19T19:28:14.916Z"
   },
   {
    "duration": 6,
    "start_time": "2023-03-19T19:31:23.022Z"
   },
   {
    "duration": 6,
    "start_time": "2023-03-19T19:31:24.479Z"
   },
   {
    "duration": 164,
    "start_time": "2023-03-19T19:31:25.451Z"
   },
   {
    "duration": 182,
    "start_time": "2023-03-19T19:31:26.702Z"
   },
   {
    "duration": 175,
    "start_time": "2023-03-19T19:32:16.692Z"
   },
   {
    "duration": 201,
    "start_time": "2023-03-19T19:32:22.676Z"
   },
   {
    "duration": 218,
    "start_time": "2023-03-19T19:32:37.212Z"
   },
   {
    "duration": 1780,
    "start_time": "2023-03-20T06:23:43.269Z"
   },
   {
    "duration": 41,
    "start_time": "2023-03-20T06:23:56.772Z"
   },
   {
    "duration": 67,
    "start_time": "2023-03-20T06:24:03.782Z"
   },
   {
    "duration": 124,
    "start_time": "2023-03-20T06:24:51.612Z"
   },
   {
    "duration": 1590,
    "start_time": "2023-03-20T06:24:59.393Z"
   },
   {
    "duration": 2698,
    "start_time": "2023-03-20T06:25:00.985Z"
   },
   {
    "duration": 3,
    "start_time": "2023-03-20T06:25:03.685Z"
   },
   {
    "duration": 301,
    "start_time": "2023-03-20T06:25:03.690Z"
   },
   {
    "duration": 190,
    "start_time": "2023-03-20T06:25:03.993Z"
   },
   {
    "duration": 336,
    "start_time": "2023-03-20T06:25:04.184Z"
   },
   {
    "duration": 7,
    "start_time": "2023-03-20T06:25:04.522Z"
   },
   {
    "duration": 12,
    "start_time": "2023-03-20T06:25:04.531Z"
   },
   {
    "duration": 221,
    "start_time": "2023-03-20T06:25:04.544Z"
   },
   {
    "duration": 214,
    "start_time": "2023-03-20T06:25:04.768Z"
   },
   {
    "duration": 6,
    "start_time": "2023-03-20T06:25:04.983Z"
   },
   {
    "duration": 6,
    "start_time": "2023-03-20T06:25:22.593Z"
   },
   {
    "duration": 7,
    "start_time": "2023-03-20T06:25:23.182Z"
   },
   {
    "duration": 200,
    "start_time": "2023-03-20T06:25:23.432Z"
   },
   {
    "duration": 319,
    "start_time": "2023-03-20T06:25:23.662Z"
   },
   {
    "duration": 7,
    "start_time": "2023-03-20T06:25:23.983Z"
   },
   {
    "duration": 6,
    "start_time": "2023-03-20T06:29:32.413Z"
   },
   {
    "duration": 7,
    "start_time": "2023-03-20T06:29:35.882Z"
   },
   {
    "duration": 116,
    "start_time": "2023-03-20T06:32:12.922Z"
   },
   {
    "duration": 12,
    "start_time": "2023-03-20T06:32:42.513Z"
   },
   {
    "duration": 12,
    "start_time": "2023-03-20T06:33:56.903Z"
   },
   {
    "duration": 69,
    "start_time": "2023-03-20T06:34:25.883Z"
   },
   {
    "duration": 135,
    "start_time": "2023-03-20T06:35:18.175Z"
   },
   {
    "duration": 98,
    "start_time": "2023-03-20T06:35:28.943Z"
   },
   {
    "duration": 77,
    "start_time": "2023-03-20T06:37:54.573Z"
   },
   {
    "duration": 5,
    "start_time": "2023-03-20T06:41:09.264Z"
   },
   {
    "duration": 5,
    "start_time": "2023-03-20T06:41:30.764Z"
   },
   {
    "duration": 6,
    "start_time": "2023-03-20T06:41:31.665Z"
   },
   {
    "duration": 8,
    "start_time": "2023-03-20T06:41:41.134Z"
   },
   {
    "duration": 8,
    "start_time": "2023-03-20T06:41:41.924Z"
   },
   {
    "duration": 226,
    "start_time": "2023-03-20T06:41:48.835Z"
   },
   {
    "duration": 240,
    "start_time": "2023-03-20T06:41:50.603Z"
   },
   {
    "duration": 7,
    "start_time": "2023-03-20T06:42:02.537Z"
   },
   {
    "duration": 1518,
    "start_time": "2023-03-20T06:43:35.184Z"
   },
   {
    "duration": 785,
    "start_time": "2023-03-20T06:43:36.704Z"
   },
   {
    "duration": 4,
    "start_time": "2023-03-20T06:43:37.490Z"
   },
   {
    "duration": 304,
    "start_time": "2023-03-20T06:43:37.496Z"
   },
   {
    "duration": 188,
    "start_time": "2023-03-20T06:43:37.803Z"
   },
   {
    "duration": 324,
    "start_time": "2023-03-20T06:43:37.993Z"
   },
   {
    "duration": 7,
    "start_time": "2023-03-20T06:43:38.320Z"
   },
   {
    "duration": 9,
    "start_time": "2023-03-20T06:43:38.329Z"
   },
   {
    "duration": 234,
    "start_time": "2023-03-20T06:43:38.340Z"
   },
   {
    "duration": 210,
    "start_time": "2023-03-20T06:43:38.576Z"
   },
   {
    "duration": 7,
    "start_time": "2023-03-20T06:43:38.788Z"
   },
   {
    "duration": 81,
    "start_time": "2023-03-20T06:55:14.934Z"
   },
   {
    "duration": 84,
    "start_time": "2023-03-20T06:56:30.975Z"
   },
   {
    "duration": 86,
    "start_time": "2023-03-20T06:59:18.624Z"
   },
   {
    "duration": 84,
    "start_time": "2023-03-20T06:59:36.484Z"
   },
   {
    "duration": 78,
    "start_time": "2023-03-20T06:59:43.276Z"
   },
   {
    "duration": 3,
    "start_time": "2023-03-20T06:59:59.526Z"
   },
   {
    "duration": 82,
    "start_time": "2023-03-20T07:00:09.345Z"
   },
   {
    "duration": 79,
    "start_time": "2023-03-20T07:00:18.244Z"
   },
   {
    "duration": 6,
    "start_time": "2023-03-20T07:06:24.404Z"
   },
   {
    "duration": 5,
    "start_time": "2023-03-20T07:07:13.415Z"
   },
   {
    "duration": 19,
    "start_time": "2023-03-20T07:08:50.315Z"
   },
   {
    "duration": 17,
    "start_time": "2023-03-20T07:09:06.476Z"
   },
   {
    "duration": 32,
    "start_time": "2023-03-20T07:09:29.060Z"
   },
   {
    "duration": 119,
    "start_time": "2023-03-20T07:09:49.696Z"
   },
   {
    "duration": 10,
    "start_time": "2023-03-20T07:10:15.975Z"
   },
   {
    "duration": 172,
    "start_time": "2023-03-20T07:10:38.925Z"
   },
   {
    "duration": 13,
    "start_time": "2023-03-20T07:11:03.465Z"
   },
   {
    "duration": 11,
    "start_time": "2023-03-20T08:07:23.832Z"
   },
   {
    "duration": 10,
    "start_time": "2023-03-20T08:07:29.723Z"
   },
   {
    "duration": 10,
    "start_time": "2023-03-20T08:07:42.301Z"
   },
   {
    "duration": 7,
    "start_time": "2023-03-20T08:07:49.821Z"
   },
   {
    "duration": 15,
    "start_time": "2023-03-20T08:15:28.857Z"
   },
   {
    "duration": 9,
    "start_time": "2023-03-20T08:16:00.101Z"
   },
   {
    "duration": 1611,
    "start_time": "2023-03-20T08:16:29.132Z"
   },
   {
    "duration": 802,
    "start_time": "2023-03-20T08:16:30.745Z"
   },
   {
    "duration": 3,
    "start_time": "2023-03-20T08:16:31.549Z"
   },
   {
    "duration": 348,
    "start_time": "2023-03-20T08:16:31.556Z"
   },
   {
    "duration": 185,
    "start_time": "2023-03-20T08:16:31.906Z"
   },
   {
    "duration": 321,
    "start_time": "2023-03-20T08:16:32.093Z"
   },
   {
    "duration": 7,
    "start_time": "2023-03-20T08:16:32.415Z"
   },
   {
    "duration": 20,
    "start_time": "2023-03-20T08:16:32.424Z"
   },
   {
    "duration": 231,
    "start_time": "2023-03-20T08:16:32.447Z"
   },
   {
    "duration": 212,
    "start_time": "2023-03-20T08:16:32.681Z"
   },
   {
    "duration": 7,
    "start_time": "2023-03-20T08:16:32.896Z"
   },
   {
    "duration": 9,
    "start_time": "2023-03-20T08:16:32.905Z"
   },
   {
    "duration": 21,
    "start_time": "2023-03-20T08:16:32.916Z"
   },
   {
    "duration": 38,
    "start_time": "2023-03-20T08:16:32.939Z"
   },
   {
    "duration": 8,
    "start_time": "2023-03-20T08:16:32.979Z"
   },
   {
    "duration": 12,
    "start_time": "2023-03-20T08:16:32.990Z"
   },
   {
    "duration": 10,
    "start_time": "2023-03-20T08:16:33.004Z"
   },
   {
    "duration": 12,
    "start_time": "2023-03-20T08:17:21.872Z"
   },
   {
    "duration": 8,
    "start_time": "2023-03-20T08:17:58.893Z"
   },
   {
    "duration": 124,
    "start_time": "2023-03-20T08:45:17.075Z"
   },
   {
    "duration": 1538,
    "start_time": "2023-03-20T08:45:51.695Z"
   },
   {
    "duration": 789,
    "start_time": "2023-03-20T08:45:53.236Z"
   },
   {
    "duration": 3,
    "start_time": "2023-03-20T08:45:54.027Z"
   },
   {
    "duration": 317,
    "start_time": "2023-03-20T08:45:54.032Z"
   },
   {
    "duration": 186,
    "start_time": "2023-03-20T08:45:54.350Z"
   },
   {
    "duration": 317,
    "start_time": "2023-03-20T08:45:54.539Z"
   },
   {
    "duration": 14,
    "start_time": "2023-03-20T08:45:54.859Z"
   },
   {
    "duration": 6,
    "start_time": "2023-03-20T08:45:54.874Z"
   },
   {
    "duration": 234,
    "start_time": "2023-03-20T08:45:54.882Z"
   },
   {
    "duration": 237,
    "start_time": "2023-03-20T08:45:55.120Z"
   },
   {
    "duration": 15,
    "start_time": "2023-03-20T08:45:55.359Z"
   },
   {
    "duration": 8,
    "start_time": "2023-03-20T08:45:55.376Z"
   },
   {
    "duration": 30,
    "start_time": "2023-03-20T08:45:55.386Z"
   },
   {
    "duration": 15,
    "start_time": "2023-03-20T08:45:55.418Z"
   },
   {
    "duration": 8,
    "start_time": "2023-03-20T08:45:55.434Z"
   },
   {
    "duration": 8,
    "start_time": "2023-03-20T08:45:55.444Z"
   },
   {
    "duration": 33,
    "start_time": "2023-03-20T08:45:55.454Z"
   },
   {
    "duration": 18,
    "start_time": "2023-03-20T08:45:55.489Z"
   },
   {
    "duration": 530,
    "start_time": "2023-03-20T08:45:55.509Z"
   },
   {
    "duration": 416,
    "start_time": "2023-03-20T08:46:45.113Z"
   },
   {
    "duration": 501,
    "start_time": "2023-03-20T08:47:30.313Z"
   },
   {
    "duration": 98,
    "start_time": "2023-03-20T08:53:09.954Z"
   },
   {
    "duration": 744,
    "start_time": "2023-03-20T08:53:17.312Z"
   },
   {
    "duration": 1045,
    "start_time": "2023-03-20T08:55:39.098Z"
   },
   {
    "duration": 930,
    "start_time": "2023-03-20T08:56:38.244Z"
   },
   {
    "duration": 830,
    "start_time": "2023-03-20T08:57:23.515Z"
   },
   {
    "duration": 1109,
    "start_time": "2023-03-20T08:58:04.290Z"
   },
   {
    "duration": 827,
    "start_time": "2023-03-20T08:58:13.834Z"
   },
   {
    "duration": 894,
    "start_time": "2023-03-20T08:58:20.207Z"
   },
   {
    "duration": 936,
    "start_time": "2023-03-20T08:58:27.229Z"
   },
   {
    "duration": 1712,
    "start_time": "2023-03-20T09:02:41.710Z"
   },
   {
    "duration": 864,
    "start_time": "2023-03-20T09:02:43.425Z"
   },
   {
    "duration": 4,
    "start_time": "2023-03-20T09:02:44.294Z"
   },
   {
    "duration": 342,
    "start_time": "2023-03-20T09:02:44.300Z"
   },
   {
    "duration": 179,
    "start_time": "2023-03-20T09:02:44.644Z"
   },
   {
    "duration": 338,
    "start_time": "2023-03-20T09:02:44.825Z"
   },
   {
    "duration": 12,
    "start_time": "2023-03-20T09:02:45.165Z"
   },
   {
    "duration": 19,
    "start_time": "2023-03-20T09:02:45.179Z"
   },
   {
    "duration": 255,
    "start_time": "2023-03-20T09:02:45.200Z"
   },
   {
    "duration": 230,
    "start_time": "2023-03-20T09:02:45.457Z"
   },
   {
    "duration": 6,
    "start_time": "2023-03-20T09:02:45.689Z"
   },
   {
    "duration": 35,
    "start_time": "2023-03-20T09:02:45.697Z"
   },
   {
    "duration": 21,
    "start_time": "2023-03-20T09:02:45.736Z"
   },
   {
    "duration": 104,
    "start_time": "2023-03-20T09:02:45.759Z"
   },
   {
    "duration": 9,
    "start_time": "2023-03-20T09:02:45.872Z"
   },
   {
    "duration": 39,
    "start_time": "2023-03-20T09:02:45.883Z"
   },
   {
    "duration": 21,
    "start_time": "2023-03-20T09:02:45.924Z"
   },
   {
    "duration": 12,
    "start_time": "2023-03-20T09:02:45.947Z"
   },
   {
    "duration": 682,
    "start_time": "2023-03-20T09:02:45.961Z"
   },
   {
    "duration": 1144,
    "start_time": "2023-03-20T09:02:46.645Z"
   },
   {
    "duration": 951,
    "start_time": "2023-03-20T09:02:47.791Z"
   },
   {
    "duration": 80,
    "start_time": "2023-03-20T09:26:02.508Z"
   },
   {
    "duration": 262,
    "start_time": "2023-03-20T09:26:38.504Z"
   },
   {
    "duration": 1820,
    "start_time": "2023-03-20T09:28:46.305Z"
   },
   {
    "duration": 439,
    "start_time": "2023-03-20T09:30:39.367Z"
   },
   {
    "duration": 440,
    "start_time": "2023-03-20T09:33:29.885Z"
   },
   {
    "duration": 676,
    "start_time": "2023-03-20T11:21:00.908Z"
   },
   {
    "duration": 522,
    "start_time": "2023-03-20T11:21:18.488Z"
   },
   {
    "duration": 216,
    "start_time": "2023-03-20T11:25:08.518Z"
   },
   {
    "duration": 206,
    "start_time": "2023-03-20T11:25:22.818Z"
   },
   {
    "duration": 114,
    "start_time": "2023-03-20T11:26:08.768Z"
   },
   {
    "duration": 147,
    "start_time": "2023-03-20T11:26:23.092Z"
   },
   {
    "duration": 134,
    "start_time": "2023-03-20T11:26:43.628Z"
   },
   {
    "duration": 134,
    "start_time": "2023-03-20T11:26:50.808Z"
   },
   {
    "duration": 182,
    "start_time": "2023-03-20T11:26:56.387Z"
   },
   {
    "duration": 374,
    "start_time": "2023-03-20T11:27:03.919Z"
   },
   {
    "duration": 94,
    "start_time": "2023-03-20T11:32:34.048Z"
   },
   {
    "duration": 117,
    "start_time": "2023-03-20T11:32:43.417Z"
   },
   {
    "duration": 260,
    "start_time": "2023-03-20T12:31:18.813Z"
   },
   {
    "duration": 1411,
    "start_time": "2023-03-20T12:31:25.094Z"
   },
   {
    "duration": 325,
    "start_time": "2023-03-20T12:31:36.303Z"
   },
   {
    "duration": 185,
    "start_time": "2023-03-20T12:31:52.697Z"
   },
   {
    "duration": 209,
    "start_time": "2023-03-20T12:39:10.004Z"
   },
   {
    "duration": 255,
    "start_time": "2023-03-20T12:39:16.704Z"
   },
   {
    "duration": 988,
    "start_time": "2023-03-20T12:39:39.954Z"
   },
   {
    "duration": 856,
    "start_time": "2023-03-20T12:39:51.394Z"
   },
   {
    "duration": 889,
    "start_time": "2023-03-20T12:41:07.714Z"
   },
   {
    "duration": 900,
    "start_time": "2023-03-20T12:41:18.274Z"
   },
   {
    "duration": 9,
    "start_time": "2023-03-20T12:42:13.574Z"
   },
   {
    "duration": 14,
    "start_time": "2023-03-20T12:42:42.984Z"
   },
   {
    "duration": 14,
    "start_time": "2023-03-20T12:43:11.195Z"
   },
   {
    "duration": 14,
    "start_time": "2023-03-20T12:43:20.124Z"
   },
   {
    "duration": 18,
    "start_time": "2023-03-20T12:53:53.506Z"
   },
   {
    "duration": 42,
    "start_time": "2023-03-20T12:54:15.375Z"
   },
   {
    "duration": 53,
    "start_time": "2023-03-20T12:54:47.315Z"
   },
   {
    "duration": 1574,
    "start_time": "2023-03-20T12:57:23.636Z"
   },
   {
    "duration": 778,
    "start_time": "2023-03-20T12:57:25.212Z"
   },
   {
    "duration": 3,
    "start_time": "2023-03-20T12:57:25.991Z"
   },
   {
    "duration": 304,
    "start_time": "2023-03-20T12:57:25.996Z"
   },
   {
    "duration": 196,
    "start_time": "2023-03-20T12:57:26.301Z"
   },
   {
    "duration": 356,
    "start_time": "2023-03-20T12:57:26.499Z"
   },
   {
    "duration": 7,
    "start_time": "2023-03-20T12:57:26.857Z"
   },
   {
    "duration": 18,
    "start_time": "2023-03-20T12:57:26.865Z"
   },
   {
    "duration": 223,
    "start_time": "2023-03-20T12:57:26.884Z"
   },
   {
    "duration": 216,
    "start_time": "2023-03-20T12:57:27.110Z"
   },
   {
    "duration": 6,
    "start_time": "2023-03-20T12:57:27.328Z"
   },
   {
    "duration": 16,
    "start_time": "2023-03-20T12:57:27.335Z"
   },
   {
    "duration": 31,
    "start_time": "2023-03-20T12:57:27.352Z"
   },
   {
    "duration": 111,
    "start_time": "2023-03-20T12:57:27.385Z"
   },
   {
    "duration": 9,
    "start_time": "2023-03-20T12:57:27.497Z"
   },
   {
    "duration": 8,
    "start_time": "2023-03-20T12:57:27.507Z"
   },
   {
    "duration": 14,
    "start_time": "2023-03-20T12:57:27.517Z"
   },
   {
    "duration": 9,
    "start_time": "2023-03-20T12:57:27.532Z"
   },
   {
    "duration": 42,
    "start_time": "2023-03-20T12:57:27.573Z"
   },
   {
    "duration": 630,
    "start_time": "2023-03-20T12:57:27.618Z"
   },
   {
    "duration": 1126,
    "start_time": "2023-03-20T12:57:28.250Z"
   },
   {
    "duration": 986,
    "start_time": "2023-03-20T12:57:29.378Z"
   },
   {
    "duration": 963,
    "start_time": "2023-03-20T12:57:30.366Z"
   },
   {
    "duration": 13,
    "start_time": "2023-03-20T12:57:31.331Z"
   },
   {
    "duration": 676,
    "start_time": "2023-03-20T12:57:31.347Z"
   },
   {
    "duration": 90,
    "start_time": "2023-03-20T12:57:32.025Z"
   },
   {
    "duration": 66,
    "start_time": "2023-03-21T06:56:35.117Z"
   },
   {
    "duration": 2090,
    "start_time": "2023-03-21T06:56:46.696Z"
   },
   {
    "duration": 2803,
    "start_time": "2023-03-21T06:56:48.789Z"
   },
   {
    "duration": 5,
    "start_time": "2023-03-21T06:56:51.595Z"
   },
   {
    "duration": 373,
    "start_time": "2023-03-21T06:56:51.602Z"
   },
   {
    "duration": 212,
    "start_time": "2023-03-21T06:56:51.978Z"
   },
   {
    "duration": 365,
    "start_time": "2023-03-21T06:56:52.193Z"
   },
   {
    "duration": 9,
    "start_time": "2023-03-21T06:56:52.560Z"
   },
   {
    "duration": 28,
    "start_time": "2023-03-21T06:56:52.571Z"
   },
   {
    "duration": 252,
    "start_time": "2023-03-21T06:56:52.601Z"
   },
   {
    "duration": 331,
    "start_time": "2023-03-21T06:56:52.857Z"
   },
   {
    "duration": 20,
    "start_time": "2023-03-21T06:56:53.191Z"
   },
   {
    "duration": 75,
    "start_time": "2023-03-21T06:56:53.213Z"
   },
   {
    "duration": 38,
    "start_time": "2023-03-21T06:56:53.290Z"
   },
   {
    "duration": 29,
    "start_time": "2023-03-21T06:56:53.329Z"
   },
   {
    "duration": 10,
    "start_time": "2023-03-21T06:56:53.360Z"
   },
   {
    "duration": 18,
    "start_time": "2023-03-21T06:56:53.372Z"
   },
   {
    "duration": 24,
    "start_time": "2023-03-21T06:56:53.391Z"
   },
   {
    "duration": 26,
    "start_time": "2023-03-21T06:56:53.417Z"
   },
   {
    "duration": 50,
    "start_time": "2023-03-21T06:56:53.445Z"
   },
   {
    "duration": 664,
    "start_time": "2023-03-21T06:56:53.497Z"
   },
   {
    "duration": 1135,
    "start_time": "2023-03-21T06:56:54.164Z"
   },
   {
    "duration": 992,
    "start_time": "2023-03-21T06:56:55.300Z"
   },
   {
    "duration": 870,
    "start_time": "2023-03-21T06:56:56.294Z"
   },
   {
    "duration": 14,
    "start_time": "2023-03-21T06:56:57.166Z"
   },
   {
    "duration": 679,
    "start_time": "2023-03-21T06:56:57.182Z"
   },
   {
    "duration": 114,
    "start_time": "2023-03-21T06:56:57.863Z"
   },
   {
    "duration": 916,
    "start_time": "2023-03-21T07:00:56.788Z"
   },
   {
    "duration": 1165,
    "start_time": "2023-03-21T07:01:23.885Z"
   },
   {
    "duration": 159,
    "start_time": "2023-03-21T07:02:39.917Z"
   },
   {
    "duration": 788,
    "start_time": "2023-03-21T07:04:07.106Z"
   },
   {
    "duration": 746,
    "start_time": "2023-03-21T07:04:42.699Z"
   },
   {
    "duration": 9,
    "start_time": "2023-03-21T07:05:41.610Z"
   },
   {
    "duration": 9,
    "start_time": "2023-03-21T07:05:51.796Z"
   },
   {
    "duration": 12,
    "start_time": "2023-03-21T07:08:12.457Z"
   },
   {
    "duration": 1840,
    "start_time": "2023-03-21T07:08:20.511Z"
   },
   {
    "duration": 745,
    "start_time": "2023-03-21T07:08:22.354Z"
   },
   {
    "duration": 4,
    "start_time": "2023-03-21T07:08:23.101Z"
   },
   {
    "duration": 336,
    "start_time": "2023-03-21T07:08:23.108Z"
   },
   {
    "duration": 198,
    "start_time": "2023-03-21T07:08:23.447Z"
   },
   {
    "duration": 348,
    "start_time": "2023-03-21T07:08:23.647Z"
   },
   {
    "duration": 8,
    "start_time": "2023-03-21T07:08:23.997Z"
   },
   {
    "duration": 11,
    "start_time": "2023-03-21T07:08:24.007Z"
   },
   {
    "duration": 873,
    "start_time": "2023-03-21T07:08:24.020Z"
   },
   {
    "duration": 7,
    "start_time": "2023-03-21T07:08:24.896Z"
   },
   {
    "duration": 12,
    "start_time": "2023-03-21T07:08:24.905Z"
   },
   {
    "duration": 27,
    "start_time": "2023-03-21T07:08:24.919Z"
   },
   {
    "duration": 25,
    "start_time": "2023-03-21T07:08:24.948Z"
   },
   {
    "duration": 8,
    "start_time": "2023-03-21T07:08:24.976Z"
   },
   {
    "duration": 11,
    "start_time": "2023-03-21T07:08:24.986Z"
   },
   {
    "duration": 44,
    "start_time": "2023-03-21T07:08:24.999Z"
   },
   {
    "duration": 13,
    "start_time": "2023-03-21T07:08:25.046Z"
   },
   {
    "duration": 54,
    "start_time": "2023-03-21T07:08:25.061Z"
   },
   {
    "duration": 716,
    "start_time": "2023-03-21T07:08:25.142Z"
   },
   {
    "duration": 1375,
    "start_time": "2023-03-21T07:08:25.860Z"
   },
   {
    "duration": 816,
    "start_time": "2023-03-21T07:08:27.241Z"
   },
   {
    "duration": 1033,
    "start_time": "2023-03-21T07:08:28.059Z"
   },
   {
    "duration": 22,
    "start_time": "2023-03-21T07:08:29.095Z"
   },
   {
    "duration": 516,
    "start_time": "2023-03-21T07:08:29.120Z"
   },
   {
    "duration": 207,
    "start_time": "2023-03-21T07:08:29.640Z"
   },
   {
    "duration": 8,
    "start_time": "2023-03-21T07:18:18.713Z"
   },
   {
    "duration": 9,
    "start_time": "2023-03-21T07:18:19.827Z"
   },
   {
    "duration": 792,
    "start_time": "2023-03-21T07:18:21.195Z"
   },
   {
    "duration": 12,
    "start_time": "2023-03-21T07:20:56.125Z"
   },
   {
    "duration": 16,
    "start_time": "2023-03-21T07:21:03.113Z"
   },
   {
    "duration": 12,
    "start_time": "2023-03-21T07:21:13.325Z"
   },
   {
    "duration": 473,
    "start_time": "2023-03-21T07:23:41.719Z"
   },
   {
    "duration": 28,
    "start_time": "2023-03-21T07:23:58.614Z"
   },
   {
    "duration": 577,
    "start_time": "2023-03-21T07:28:52.239Z"
   },
   {
    "duration": 155,
    "start_time": "2023-03-21T07:29:08.192Z"
   },
   {
    "duration": 1398,
    "start_time": "2023-03-21T07:29:34.989Z"
   },
   {
    "duration": 1041,
    "start_time": "2023-03-21T07:31:36.002Z"
   },
   {
    "duration": 1275,
    "start_time": "2023-03-21T07:31:58.704Z"
   },
   {
    "duration": 3,
    "start_time": "2023-03-21T07:51:40.264Z"
   },
   {
    "duration": 1636,
    "start_time": "2023-03-21T08:50:40.137Z"
   },
   {
    "duration": 2180,
    "start_time": "2023-03-21T08:50:54.616Z"
   },
   {
    "duration": 3938,
    "start_time": "2023-03-21T08:50:56.801Z"
   },
   {
    "duration": 8,
    "start_time": "2023-03-21T08:51:00.752Z"
   },
   {
    "duration": 539,
    "start_time": "2023-03-21T08:51:00.770Z"
   },
   {
    "duration": 303,
    "start_time": "2023-03-21T08:51:01.313Z"
   },
   {
    "duration": 455,
    "start_time": "2023-03-21T08:51:01.618Z"
   },
   {
    "duration": 16,
    "start_time": "2023-03-21T08:51:02.076Z"
   },
   {
    "duration": 115,
    "start_time": "2023-03-21T08:51:02.094Z"
   },
   {
    "duration": 1465,
    "start_time": "2023-03-21T08:51:02.212Z"
   },
   {
    "duration": 8,
    "start_time": "2023-03-21T08:51:03.680Z"
   },
   {
    "duration": 102,
    "start_time": "2023-03-21T08:51:03.691Z"
   },
   {
    "duration": 29,
    "start_time": "2023-03-21T08:51:03.795Z"
   },
   {
    "duration": 84,
    "start_time": "2023-03-21T08:51:03.826Z"
   },
   {
    "duration": 18,
    "start_time": "2023-03-21T08:51:03.914Z"
   },
   {
    "duration": 51,
    "start_time": "2023-03-21T08:51:03.935Z"
   },
   {
    "duration": 70,
    "start_time": "2023-03-21T08:51:03.988Z"
   },
   {
    "duration": 33,
    "start_time": "2023-03-21T08:51:04.061Z"
   },
   {
    "duration": 84,
    "start_time": "2023-03-21T08:51:04.097Z"
   },
   {
    "duration": 984,
    "start_time": "2023-03-21T08:51:04.183Z"
   },
   {
    "duration": 1733,
    "start_time": "2023-03-21T08:51:05.174Z"
   },
   {
    "duration": 1224,
    "start_time": "2023-03-21T08:51:06.910Z"
   },
   {
    "duration": 1577,
    "start_time": "2023-03-21T08:51:08.137Z"
   },
   {
    "duration": 45,
    "start_time": "2023-03-21T08:51:09.717Z"
   },
   {
    "duration": 693,
    "start_time": "2023-03-21T08:51:09.764Z"
   },
   {
    "duration": 1962,
    "start_time": "2023-03-21T08:51:10.459Z"
   },
   {
    "duration": 0,
    "start_time": "2023-03-21T08:51:12.424Z"
   },
   {
    "duration": 2216,
    "start_time": "2023-03-21T08:52:15.398Z"
   },
   {
    "duration": 1538,
    "start_time": "2023-03-21T08:54:19.857Z"
   },
   {
    "duration": 27,
    "start_time": "2023-03-21T08:56:50.247Z"
   },
   {
    "duration": 11,
    "start_time": "2023-03-21T08:57:06.636Z"
   },
   {
    "duration": 17,
    "start_time": "2023-03-21T09:06:04.497Z"
   },
   {
    "duration": 532,
    "start_time": "2023-03-21T09:12:13.638Z"
   },
   {
    "duration": 14,
    "start_time": "2023-03-21T09:26:49.958Z"
   },
   {
    "duration": 16,
    "start_time": "2023-03-21T09:30:20.088Z"
   },
   {
    "duration": 15,
    "start_time": "2023-03-21T09:30:50.776Z"
   },
   {
    "duration": 26,
    "start_time": "2023-03-21T09:32:12.481Z"
   },
   {
    "duration": 22,
    "start_time": "2023-03-21T09:32:23.328Z"
   },
   {
    "duration": 199,
    "start_time": "2023-03-21T09:58:38.462Z"
   },
   {
    "duration": 388,
    "start_time": "2023-03-21T09:58:47.916Z"
   },
   {
    "duration": 212,
    "start_time": "2023-03-21T09:59:25.269Z"
   },
   {
    "duration": 157,
    "start_time": "2023-03-21T10:01:55.263Z"
   },
   {
    "duration": 200,
    "start_time": "2023-03-21T10:02:35.830Z"
   },
   {
    "duration": 344,
    "start_time": "2023-03-21T10:02:46.220Z"
   },
   {
    "duration": 18,
    "start_time": "2023-03-21T10:03:09.890Z"
   },
   {
    "duration": 13,
    "start_time": "2023-03-21T10:03:19.780Z"
   },
   {
    "duration": 21,
    "start_time": "2023-03-21T10:05:02.856Z"
   },
   {
    "duration": 14,
    "start_time": "2023-03-21T10:06:19.012Z"
   },
   {
    "duration": 8,
    "start_time": "2023-03-21T10:07:12.920Z"
   },
   {
    "duration": 11,
    "start_time": "2023-03-21T10:07:32.162Z"
   },
   {
    "duration": 209,
    "start_time": "2023-03-21T10:09:13.470Z"
   },
   {
    "duration": 11,
    "start_time": "2023-03-21T10:10:05.717Z"
   },
   {
    "duration": 7,
    "start_time": "2023-03-21T10:11:33.710Z"
   },
   {
    "duration": 1895,
    "start_time": "2023-03-21T10:11:50.621Z"
   },
   {
    "duration": 893,
    "start_time": "2023-03-21T10:11:52.519Z"
   },
   {
    "duration": 3,
    "start_time": "2023-03-21T10:11:53.414Z"
   },
   {
    "duration": 413,
    "start_time": "2023-03-21T10:11:53.419Z"
   },
   {
    "duration": 216,
    "start_time": "2023-03-21T10:11:53.835Z"
   },
   {
    "duration": 358,
    "start_time": "2023-03-21T10:11:54.054Z"
   },
   {
    "duration": 8,
    "start_time": "2023-03-21T10:11:54.413Z"
   },
   {
    "duration": 26,
    "start_time": "2023-03-21T10:11:54.423Z"
   },
   {
    "duration": 1081,
    "start_time": "2023-03-21T10:11:54.452Z"
   },
   {
    "duration": 15,
    "start_time": "2023-03-21T10:11:55.540Z"
   },
   {
    "duration": 19,
    "start_time": "2023-03-21T10:11:55.558Z"
   },
   {
    "duration": 13,
    "start_time": "2023-03-21T10:11:55.579Z"
   },
   {
    "duration": 29,
    "start_time": "2023-03-21T10:11:55.595Z"
   },
   {
    "duration": 19,
    "start_time": "2023-03-21T10:11:55.641Z"
   },
   {
    "duration": 20,
    "start_time": "2023-03-21T10:11:55.662Z"
   },
   {
    "duration": 26,
    "start_time": "2023-03-21T10:11:55.684Z"
   },
   {
    "duration": 32,
    "start_time": "2023-03-21T10:11:55.713Z"
   },
   {
    "duration": 54,
    "start_time": "2023-03-21T10:11:55.748Z"
   },
   {
    "duration": 841,
    "start_time": "2023-03-21T10:11:55.804Z"
   },
   {
    "duration": 1414,
    "start_time": "2023-03-21T10:11:56.648Z"
   },
   {
    "duration": 922,
    "start_time": "2023-03-21T10:11:58.064Z"
   },
   {
    "duration": 1144,
    "start_time": "2023-03-21T10:11:58.988Z"
   },
   {
    "duration": 25,
    "start_time": "2023-03-21T10:12:00.140Z"
   },
   {
    "duration": 561,
    "start_time": "2023-03-21T10:12:00.167Z"
   },
   {
    "duration": 25,
    "start_time": "2023-03-21T10:12:00.730Z"
   },
   {
    "duration": 612,
    "start_time": "2023-03-21T10:12:00.757Z"
   },
   {
    "duration": 232,
    "start_time": "2023-03-21T10:12:01.371Z"
   },
   {
    "duration": 13,
    "start_time": "2023-03-21T10:12:01.606Z"
   },
   {
    "duration": 62,
    "start_time": "2023-03-21T10:12:01.642Z"
   },
   {
    "duration": 2070,
    "start_time": "2023-03-21T10:16:14.289Z"
   },
   {
    "duration": 789,
    "start_time": "2023-03-21T10:16:16.361Z"
   },
   {
    "duration": 4,
    "start_time": "2023-03-21T10:16:17.152Z"
   },
   {
    "duration": 344,
    "start_time": "2023-03-21T10:16:17.157Z"
   },
   {
    "duration": 231,
    "start_time": "2023-03-21T10:16:17.503Z"
   },
   {
    "duration": 369,
    "start_time": "2023-03-21T10:16:17.736Z"
   },
   {
    "duration": 9,
    "start_time": "2023-03-21T10:16:18.108Z"
   },
   {
    "duration": 26,
    "start_time": "2023-03-21T10:16:18.120Z"
   },
   {
    "duration": 893,
    "start_time": "2023-03-21T10:16:18.148Z"
   },
   {
    "duration": 6,
    "start_time": "2023-03-21T10:16:19.043Z"
   },
   {
    "duration": 38,
    "start_time": "2023-03-21T10:16:19.052Z"
   },
   {
    "duration": 6,
    "start_time": "2023-03-21T10:16:19.092Z"
   },
   {
    "duration": 46,
    "start_time": "2023-03-21T10:16:19.100Z"
   },
   {
    "duration": 26,
    "start_time": "2023-03-21T10:16:19.150Z"
   },
   {
    "duration": 8,
    "start_time": "2023-03-21T10:16:19.178Z"
   },
   {
    "duration": 11,
    "start_time": "2023-03-21T10:16:19.188Z"
   },
   {
    "duration": 56,
    "start_time": "2023-03-21T10:16:19.201Z"
   },
   {
    "duration": 12,
    "start_time": "2023-03-21T10:16:19.259Z"
   },
   {
    "duration": 681,
    "start_time": "2023-03-21T10:16:19.273Z"
   },
   {
    "duration": 1330,
    "start_time": "2023-03-21T10:16:19.956Z"
   },
   {
    "duration": 884,
    "start_time": "2023-03-21T10:16:21.288Z"
   },
   {
    "duration": 1085,
    "start_time": "2023-03-21T10:16:22.175Z"
   },
   {
    "duration": 18,
    "start_time": "2023-03-21T10:16:23.263Z"
   },
   {
    "duration": 505,
    "start_time": "2023-03-21T10:16:23.283Z"
   },
   {
    "duration": 17,
    "start_time": "2023-03-21T10:16:23.790Z"
   },
   {
    "duration": 544,
    "start_time": "2023-03-21T10:16:23.809Z"
   },
   {
    "duration": 3,
    "start_time": "2023-03-21T10:16:24.355Z"
   },
   {
    "duration": 11,
    "start_time": "2023-03-21T10:19:21.962Z"
   },
   {
    "duration": 5,
    "start_time": "2023-03-21T10:27:56.973Z"
   },
   {
    "duration": 5,
    "start_time": "2023-03-21T10:28:29.943Z"
   },
   {
    "duration": 8,
    "start_time": "2023-03-21T10:28:39.554Z"
   },
   {
    "duration": 5,
    "start_time": "2023-03-21T10:29:50.806Z"
   },
   {
    "duration": 132,
    "start_time": "2023-03-21T10:30:03.880Z"
   },
   {
    "duration": 12,
    "start_time": "2023-03-21T10:30:14.184Z"
   },
   {
    "duration": 1794,
    "start_time": "2023-03-21T10:30:27.715Z"
   },
   {
    "duration": 812,
    "start_time": "2023-03-21T10:30:29.511Z"
   },
   {
    "duration": 4,
    "start_time": "2023-03-21T10:30:30.325Z"
   },
   {
    "duration": 381,
    "start_time": "2023-03-21T10:30:30.331Z"
   },
   {
    "duration": 215,
    "start_time": "2023-03-21T10:30:30.715Z"
   },
   {
    "duration": 427,
    "start_time": "2023-03-21T10:30:30.932Z"
   },
   {
    "duration": 10,
    "start_time": "2023-03-21T10:30:31.362Z"
   },
   {
    "duration": 42,
    "start_time": "2023-03-21T10:30:31.375Z"
   },
   {
    "duration": 980,
    "start_time": "2023-03-21T10:30:31.420Z"
   },
   {
    "duration": 7,
    "start_time": "2023-03-21T10:30:32.402Z"
   },
   {
    "duration": 69,
    "start_time": "2023-03-21T10:30:32.411Z"
   },
   {
    "duration": 5,
    "start_time": "2023-03-21T10:30:32.482Z"
   },
   {
    "duration": 36,
    "start_time": "2023-03-21T10:30:32.488Z"
   },
   {
    "duration": 54,
    "start_time": "2023-03-21T10:30:32.527Z"
   },
   {
    "duration": 25,
    "start_time": "2023-03-21T10:30:32.584Z"
   },
   {
    "duration": 20,
    "start_time": "2023-03-21T10:30:32.611Z"
   },
   {
    "duration": 8,
    "start_time": "2023-03-21T10:30:32.633Z"
   },
   {
    "duration": 71,
    "start_time": "2023-03-21T10:30:32.643Z"
   },
   {
    "duration": 17,
    "start_time": "2023-03-21T10:30:32.717Z"
   },
   {
    "duration": 699,
    "start_time": "2023-03-21T10:30:32.737Z"
   },
   {
    "duration": 1309,
    "start_time": "2023-03-21T10:30:33.441Z"
   },
   {
    "duration": 952,
    "start_time": "2023-03-21T10:30:34.754Z"
   },
   {
    "duration": 1272,
    "start_time": "2023-03-21T10:30:35.709Z"
   },
   {
    "duration": 16,
    "start_time": "2023-03-21T10:30:36.984Z"
   },
   {
    "duration": 530,
    "start_time": "2023-03-21T10:30:37.002Z"
   },
   {
    "duration": 23,
    "start_time": "2023-03-21T10:30:37.534Z"
   },
   {
    "duration": 495,
    "start_time": "2023-03-21T10:30:37.559Z"
   },
   {
    "duration": 4,
    "start_time": "2023-03-21T10:30:38.056Z"
   },
   {
    "duration": 11,
    "start_time": "2023-03-21T12:03:52.081Z"
   },
   {
    "duration": 10,
    "start_time": "2023-03-21T12:04:05.461Z"
   },
   {
    "duration": 133,
    "start_time": "2023-03-21T12:04:20.811Z"
   },
   {
    "duration": 18,
    "start_time": "2023-03-21T12:04:25.872Z"
   },
   {
    "duration": 10,
    "start_time": "2023-03-21T12:04:28.211Z"
   },
   {
    "duration": 1592,
    "start_time": "2023-03-21T12:04:37.281Z"
   },
   {
    "duration": 747,
    "start_time": "2023-03-21T12:04:38.875Z"
   },
   {
    "duration": 3,
    "start_time": "2023-03-21T12:04:39.624Z"
   },
   {
    "duration": 314,
    "start_time": "2023-03-21T12:04:39.631Z"
   },
   {
    "duration": 203,
    "start_time": "2023-03-21T12:04:39.947Z"
   },
   {
    "duration": 335,
    "start_time": "2023-03-21T12:04:40.153Z"
   },
   {
    "duration": 8,
    "start_time": "2023-03-21T12:04:40.490Z"
   },
   {
    "duration": 50,
    "start_time": "2023-03-21T12:04:40.500Z"
   },
   {
    "duration": 868,
    "start_time": "2023-03-21T12:04:40.552Z"
   },
   {
    "duration": 7,
    "start_time": "2023-03-21T12:04:41.424Z"
   },
   {
    "duration": 73,
    "start_time": "2023-03-21T12:04:41.433Z"
   },
   {
    "duration": 5,
    "start_time": "2023-03-21T12:04:41.508Z"
   },
   {
    "duration": 16,
    "start_time": "2023-03-21T12:04:41.515Z"
   },
   {
    "duration": 9,
    "start_time": "2023-03-21T12:04:41.540Z"
   },
   {
    "duration": 19,
    "start_time": "2023-03-21T12:04:41.551Z"
   },
   {
    "duration": 11,
    "start_time": "2023-03-21T12:04:41.572Z"
   },
   {
    "duration": 679,
    "start_time": "2023-03-21T12:04:41.584Z"
   },
   {
    "duration": 1277,
    "start_time": "2023-03-21T12:04:42.265Z"
   },
   {
    "duration": 860,
    "start_time": "2023-03-21T12:04:43.545Z"
   },
   {
    "duration": 1134,
    "start_time": "2023-03-21T12:04:44.407Z"
   },
   {
    "duration": 138,
    "start_time": "2023-03-21T12:04:45.543Z"
   },
   {
    "duration": 0,
    "start_time": "2023-03-21T12:04:45.683Z"
   },
   {
    "duration": 0,
    "start_time": "2023-03-21T12:04:45.684Z"
   },
   {
    "duration": 0,
    "start_time": "2023-03-21T12:04:45.686Z"
   },
   {
    "duration": 0,
    "start_time": "2023-03-21T12:04:45.687Z"
   },
   {
    "duration": 0,
    "start_time": "2023-03-21T12:04:45.689Z"
   },
   {
    "duration": 0,
    "start_time": "2023-03-21T12:04:45.690Z"
   },
   {
    "duration": 20,
    "start_time": "2023-03-21T12:05:11.380Z"
   },
   {
    "duration": 574,
    "start_time": "2023-03-21T12:59:55.619Z"
   },
   {
    "duration": 21,
    "start_time": "2023-03-21T12:59:59.319Z"
   },
   {
    "duration": 506,
    "start_time": "2023-03-21T13:00:00.760Z"
   },
   {
    "duration": 6,
    "start_time": "2023-03-21T13:00:11.252Z"
   },
   {
    "duration": 272,
    "start_time": "2023-03-21T13:00:58.235Z"
   },
   {
    "duration": 530,
    "start_time": "2023-03-21T13:06:06.406Z"
   },
   {
    "duration": 12,
    "start_time": "2023-03-21T13:09:33.118Z"
   },
   {
    "duration": 14,
    "start_time": "2023-03-21T13:12:22.371Z"
   },
   {
    "duration": 5,
    "start_time": "2023-03-21T13:13:37.981Z"
   },
   {
    "duration": 35,
    "start_time": "2023-03-21T13:15:13.519Z"
   },
   {
    "duration": 36,
    "start_time": "2023-03-21T13:15:53.741Z"
   },
   {
    "duration": 54,
    "start_time": "2023-03-21T15:46:47.964Z"
   },
   {
    "duration": 5,
    "start_time": "2023-03-21T15:46:49.099Z"
   },
   {
    "duration": 1405,
    "start_time": "2023-03-21T15:46:57.516Z"
   },
   {
    "duration": 3261,
    "start_time": "2023-03-21T15:46:58.922Z"
   },
   {
    "duration": 3,
    "start_time": "2023-03-21T15:47:02.184Z"
   },
   {
    "duration": 228,
    "start_time": "2023-03-21T15:47:02.188Z"
   },
   {
    "duration": 125,
    "start_time": "2023-03-21T15:47:02.418Z"
   },
   {
    "duration": 230,
    "start_time": "2023-03-21T15:47:02.545Z"
   },
   {
    "duration": 5,
    "start_time": "2023-03-21T15:47:02.777Z"
   },
   {
    "duration": 29,
    "start_time": "2023-03-21T15:47:02.783Z"
   },
   {
    "duration": 613,
    "start_time": "2023-03-21T15:47:02.813Z"
   },
   {
    "duration": 5,
    "start_time": "2023-03-21T15:47:03.427Z"
   },
   {
    "duration": 33,
    "start_time": "2023-03-21T15:47:03.433Z"
   },
   {
    "duration": 4,
    "start_time": "2023-03-21T15:47:03.467Z"
   },
   {
    "duration": 10,
    "start_time": "2023-03-21T15:47:03.472Z"
   },
   {
    "duration": 6,
    "start_time": "2023-03-21T15:47:03.484Z"
   },
   {
    "duration": 11,
    "start_time": "2023-03-21T15:47:03.491Z"
   },
   {
    "duration": 7,
    "start_time": "2023-03-21T15:47:03.503Z"
   },
   {
    "duration": 521,
    "start_time": "2023-03-21T15:47:03.511Z"
   },
   {
    "duration": 1056,
    "start_time": "2023-03-21T15:47:04.034Z"
   },
   {
    "duration": 719,
    "start_time": "2023-03-21T15:47:05.091Z"
   },
   {
    "duration": 789,
    "start_time": "2023-03-21T15:47:05.812Z"
   },
   {
    "duration": 12,
    "start_time": "2023-03-21T15:47:06.602Z"
   },
   {
    "duration": 356,
    "start_time": "2023-03-21T15:47:06.615Z"
   },
   {
    "duration": 11,
    "start_time": "2023-03-21T15:47:06.972Z"
   },
   {
    "duration": 349,
    "start_time": "2023-03-21T15:47:06.984Z"
   },
   {
    "duration": 330,
    "start_time": "2023-03-21T15:47:07.334Z"
   },
   {
    "duration": 8,
    "start_time": "2023-03-21T15:47:07.665Z"
   },
   {
    "duration": 11,
    "start_time": "2023-03-21T15:47:07.674Z"
   },
   {
    "duration": 8,
    "start_time": "2023-03-21T15:47:07.687Z"
   },
   {
    "duration": 7,
    "start_time": "2023-03-21T15:47:07.697Z"
   },
   {
    "duration": 20,
    "start_time": "2023-03-21T15:47:07.706Z"
   },
   {
    "duration": 19,
    "start_time": "2023-03-21T15:47:07.728Z"
   },
   {
    "duration": 109,
    "start_time": "2023-03-21T15:47:07.759Z"
   },
   {
    "duration": 0,
    "start_time": "2023-03-21T15:47:07.869Z"
   },
   {
    "duration": 24,
    "start_time": "2023-03-21T15:47:33.805Z"
   },
   {
    "duration": 16,
    "start_time": "2023-03-21T15:47:56.748Z"
   },
   {
    "duration": 34,
    "start_time": "2023-03-21T15:48:39.881Z"
   },
   {
    "duration": 18,
    "start_time": "2023-03-21T15:48:57.698Z"
   },
   {
    "duration": 6,
    "start_time": "2023-03-21T15:49:37.976Z"
   },
   {
    "duration": 6,
    "start_time": "2023-03-21T15:49:53.537Z"
   },
   {
    "duration": 6,
    "start_time": "2023-03-21T15:51:29.488Z"
   },
   {
    "duration": 14,
    "start_time": "2023-03-21T16:00:41.382Z"
   },
   {
    "duration": 1501,
    "start_time": "2023-03-21T16:00:53.114Z"
   },
   {
    "duration": 5,
    "start_time": "2023-03-21T16:01:23.320Z"
   },
   {
    "duration": 5,
    "start_time": "2023-03-21T16:02:20.322Z"
   },
   {
    "duration": 20,
    "start_time": "2023-03-21T16:08:49.030Z"
   },
   {
    "duration": 24,
    "start_time": "2023-03-21T16:09:07.592Z"
   },
   {
    "duration": 18,
    "start_time": "2023-03-21T16:09:36.980Z"
   },
   {
    "duration": 17,
    "start_time": "2023-03-21T16:10:01.338Z"
   },
   {
    "duration": 3,
    "start_time": "2023-03-21T16:32:08.582Z"
   },
   {
    "duration": 57,
    "start_time": "2023-03-22T06:30:27.954Z"
   },
   {
    "duration": 6,
    "start_time": "2023-03-22T06:30:28.534Z"
   },
   {
    "duration": 1732,
    "start_time": "2023-03-22T06:30:33.770Z"
   },
   {
    "duration": 2732,
    "start_time": "2023-03-22T06:30:35.505Z"
   },
   {
    "duration": 3,
    "start_time": "2023-03-22T06:30:38.239Z"
   },
   {
    "duration": 298,
    "start_time": "2023-03-22T06:30:38.243Z"
   },
   {
    "duration": 163,
    "start_time": "2023-03-22T06:30:38.543Z"
   },
   {
    "duration": 325,
    "start_time": "2023-03-22T06:30:38.708Z"
   },
   {
    "duration": 6,
    "start_time": "2023-03-22T06:30:39.034Z"
   },
   {
    "duration": 13,
    "start_time": "2023-03-22T06:30:39.042Z"
   },
   {
    "duration": 831,
    "start_time": "2023-03-22T06:30:39.059Z"
   },
   {
    "duration": 5,
    "start_time": "2023-03-22T06:30:39.892Z"
   },
   {
    "duration": 34,
    "start_time": "2023-03-22T06:30:39.898Z"
   },
   {
    "duration": 4,
    "start_time": "2023-03-22T06:30:39.933Z"
   },
   {
    "duration": 30,
    "start_time": "2023-03-22T06:30:39.939Z"
   },
   {
    "duration": 20,
    "start_time": "2023-03-22T06:30:39.975Z"
   },
   {
    "duration": 26,
    "start_time": "2023-03-22T06:30:39.997Z"
   },
   {
    "duration": 50,
    "start_time": "2023-03-22T06:30:40.025Z"
   },
   {
    "duration": 623,
    "start_time": "2023-03-22T06:30:40.077Z"
   },
   {
    "duration": 1124,
    "start_time": "2023-03-22T06:30:40.702Z"
   },
   {
    "duration": 765,
    "start_time": "2023-03-22T06:30:41.828Z"
   },
   {
    "duration": 960,
    "start_time": "2023-03-22T06:30:42.594Z"
   },
   {
    "duration": 20,
    "start_time": "2023-03-22T06:30:43.555Z"
   },
   {
    "duration": 448,
    "start_time": "2023-03-22T06:30:43.577Z"
   },
   {
    "duration": 12,
    "start_time": "2023-03-22T06:30:44.027Z"
   },
   {
    "duration": 428,
    "start_time": "2023-03-22T06:30:44.041Z"
   },
   {
    "duration": 419,
    "start_time": "2023-03-22T06:30:44.473Z"
   },
   {
    "duration": 9,
    "start_time": "2023-03-22T06:30:44.894Z"
   },
   {
    "duration": 10,
    "start_time": "2023-03-22T06:30:44.905Z"
   },
   {
    "duration": 12,
    "start_time": "2023-03-22T06:30:44.917Z"
   },
   {
    "duration": 14,
    "start_time": "2023-03-22T06:30:44.931Z"
   },
   {
    "duration": 34,
    "start_time": "2023-03-22T06:30:44.947Z"
   },
   {
    "duration": 102,
    "start_time": "2023-03-22T06:30:44.983Z"
   },
   {
    "duration": 1,
    "start_time": "2023-03-22T06:30:45.086Z"
   },
   {
    "duration": 0,
    "start_time": "2023-03-22T06:30:45.088Z"
   },
   {
    "duration": 0,
    "start_time": "2023-03-22T06:30:45.088Z"
   },
   {
    "duration": 0,
    "start_time": "2023-03-22T06:30:45.089Z"
   },
   {
    "duration": 0,
    "start_time": "2023-03-22T06:30:45.091Z"
   },
   {
    "duration": 0,
    "start_time": "2023-03-22T06:30:45.092Z"
   },
   {
    "duration": 0,
    "start_time": "2023-03-22T06:30:45.093Z"
   },
   {
    "duration": 0,
    "start_time": "2023-03-22T06:30:45.094Z"
   },
   {
    "duration": 8,
    "start_time": "2023-03-22T06:31:30.375Z"
   },
   {
    "duration": 7,
    "start_time": "2023-03-22T06:31:31.201Z"
   },
   {
    "duration": 7,
    "start_time": "2023-03-22T06:31:33.571Z"
   },
   {
    "duration": 120,
    "start_time": "2023-03-22T06:31:34.242Z"
   },
   {
    "duration": 6,
    "start_time": "2023-03-22T06:31:55.523Z"
   },
   {
    "duration": 200,
    "start_time": "2023-03-22T06:52:06.728Z"
   },
   {
    "duration": 41,
    "start_time": "2023-03-22T06:54:27.805Z"
   },
   {
    "duration": 81,
    "start_time": "2023-03-22T06:54:34.425Z"
   },
   {
    "duration": 10,
    "start_time": "2023-03-22T06:55:01.575Z"
   },
   {
    "duration": 388,
    "start_time": "2023-03-22T06:55:02.385Z"
   },
   {
    "duration": 1128,
    "start_time": "2023-03-22T06:55:04.595Z"
   },
   {
    "duration": 3,
    "start_time": "2023-03-22T06:55:14.775Z"
   },
   {
    "duration": 191,
    "start_time": "2023-03-22T06:55:17.015Z"
   },
   {
    "duration": 3,
    "start_time": "2023-03-22T06:55:27.615Z"
   },
   {
    "duration": 3,
    "start_time": "2023-03-22T06:55:28.636Z"
   },
   {
    "duration": 4,
    "start_time": "2023-03-22T06:55:29.595Z"
   },
   {
    "duration": 4540,
    "start_time": "2023-03-22T06:55:30.936Z"
   },
   {
    "duration": 123,
    "start_time": "2023-03-22T08:00:28.580Z"
   },
   {
    "duration": 1567,
    "start_time": "2023-03-22T08:00:34.940Z"
   },
   {
    "duration": 803,
    "start_time": "2023-03-22T08:00:36.510Z"
   },
   {
    "duration": 4,
    "start_time": "2023-03-22T08:00:37.315Z"
   },
   {
    "duration": 298,
    "start_time": "2023-03-22T08:00:37.321Z"
   },
   {
    "duration": 174,
    "start_time": "2023-03-22T08:00:37.621Z"
   },
   {
    "duration": 316,
    "start_time": "2023-03-22T08:00:37.797Z"
   },
   {
    "duration": 7,
    "start_time": "2023-03-22T08:00:38.115Z"
   },
   {
    "duration": 18,
    "start_time": "2023-03-22T08:00:38.125Z"
   },
   {
    "duration": 843,
    "start_time": "2023-03-22T08:00:38.145Z"
   },
   {
    "duration": 6,
    "start_time": "2023-03-22T08:00:38.990Z"
   },
   {
    "duration": 57,
    "start_time": "2023-03-22T08:00:38.998Z"
   },
   {
    "duration": 18,
    "start_time": "2023-03-22T08:00:39.056Z"
   },
   {
    "duration": 20,
    "start_time": "2023-03-22T08:00:39.075Z"
   },
   {
    "duration": 8,
    "start_time": "2023-03-22T08:00:39.099Z"
   },
   {
    "duration": 13,
    "start_time": "2023-03-22T08:00:39.109Z"
   },
   {
    "duration": 8,
    "start_time": "2023-03-22T08:00:39.123Z"
   },
   {
    "duration": 688,
    "start_time": "2023-03-22T08:00:39.133Z"
   },
   {
    "duration": 1159,
    "start_time": "2023-03-22T08:00:39.823Z"
   },
   {
    "duration": 809,
    "start_time": "2023-03-22T08:00:40.985Z"
   },
   {
    "duration": 1063,
    "start_time": "2023-03-22T08:00:41.796Z"
   },
   {
    "duration": 19,
    "start_time": "2023-03-22T08:00:42.865Z"
   },
   {
    "duration": 494,
    "start_time": "2023-03-22T08:00:42.886Z"
   },
   {
    "duration": 14,
    "start_time": "2023-03-22T08:00:43.384Z"
   },
   {
    "duration": 449,
    "start_time": "2023-03-22T08:00:43.399Z"
   },
   {
    "duration": 404,
    "start_time": "2023-03-22T08:00:43.850Z"
   },
   {
    "duration": 23,
    "start_time": "2023-03-22T08:00:44.256Z"
   },
   {
    "duration": 13,
    "start_time": "2023-03-22T08:00:44.281Z"
   },
   {
    "duration": 8,
    "start_time": "2023-03-22T08:00:44.296Z"
   },
   {
    "duration": 13,
    "start_time": "2023-03-22T08:00:44.306Z"
   },
   {
    "duration": 29,
    "start_time": "2023-03-22T08:00:44.321Z"
   },
   {
    "duration": 19,
    "start_time": "2023-03-22T08:00:44.352Z"
   },
   {
    "duration": 23,
    "start_time": "2023-03-22T08:00:44.373Z"
   },
   {
    "duration": 12,
    "start_time": "2023-03-22T08:00:44.398Z"
   },
   {
    "duration": 10,
    "start_time": "2023-03-22T08:00:44.411Z"
   },
   {
    "duration": 9,
    "start_time": "2023-03-22T08:00:44.422Z"
   },
   {
    "duration": 33,
    "start_time": "2023-03-22T08:00:44.433Z"
   },
   {
    "duration": 28,
    "start_time": "2023-03-22T08:00:44.470Z"
   },
   {
    "duration": 4371,
    "start_time": "2023-03-22T08:00:44.500Z"
   },
   {
    "duration": 8,
    "start_time": "2023-03-22T08:00:48.874Z"
   },
   {
    "duration": 610,
    "start_time": "2023-03-22T08:00:48.885Z"
   },
   {
    "duration": 10,
    "start_time": "2023-03-22T08:00:49.498Z"
   },
   {
    "duration": 0,
    "start_time": "2023-03-22T08:00:49.509Z"
   },
   {
    "duration": 62,
    "start_time": "2023-03-22T08:02:43.133Z"
   },
   {
    "duration": 1519,
    "start_time": "2023-03-22T10:09:53.381Z"
   },
   {
    "duration": 778,
    "start_time": "2023-03-22T10:09:54.901Z"
   },
   {
    "duration": 4,
    "start_time": "2023-03-22T10:09:55.681Z"
   },
   {
    "duration": 302,
    "start_time": "2023-03-22T10:09:55.688Z"
   },
   {
    "duration": 176,
    "start_time": "2023-03-22T10:09:55.992Z"
   },
   {
    "duration": 342,
    "start_time": "2023-03-22T10:09:56.170Z"
   },
   {
    "duration": 8,
    "start_time": "2023-03-22T10:09:56.514Z"
   },
   {
    "duration": 14,
    "start_time": "2023-03-22T10:09:56.524Z"
   },
   {
    "duration": 898,
    "start_time": "2023-03-22T10:09:56.539Z"
   },
   {
    "duration": 5,
    "start_time": "2023-03-22T10:09:57.440Z"
   },
   {
    "duration": 41,
    "start_time": "2023-03-22T10:09:57.447Z"
   },
   {
    "duration": 5,
    "start_time": "2023-03-22T10:09:57.490Z"
   },
   {
    "duration": 14,
    "start_time": "2023-03-22T10:09:57.497Z"
   },
   {
    "duration": 20,
    "start_time": "2023-03-22T10:09:57.513Z"
   },
   {
    "duration": 29,
    "start_time": "2023-03-22T10:09:57.534Z"
   },
   {
    "duration": 10,
    "start_time": "2023-03-22T10:09:57.565Z"
   },
   {
    "duration": 620,
    "start_time": "2023-03-22T10:09:57.577Z"
   },
   {
    "duration": 1167,
    "start_time": "2023-03-22T10:09:58.199Z"
   },
   {
    "duration": 808,
    "start_time": "2023-03-22T10:09:59.368Z"
   },
   {
    "duration": 1071,
    "start_time": "2023-03-22T10:10:00.178Z"
   },
   {
    "duration": 19,
    "start_time": "2023-03-22T10:10:01.251Z"
   },
   {
    "duration": 492,
    "start_time": "2023-03-22T10:10:01.273Z"
   },
   {
    "duration": 15,
    "start_time": "2023-03-22T10:10:01.768Z"
   },
   {
    "duration": 507,
    "start_time": "2023-03-22T10:10:01.785Z"
   },
   {
    "duration": 430,
    "start_time": "2023-03-22T10:10:02.296Z"
   },
   {
    "duration": 10,
    "start_time": "2023-03-22T10:10:02.728Z"
   },
   {
    "duration": 48,
    "start_time": "2023-03-22T10:10:02.740Z"
   },
   {
    "duration": 32,
    "start_time": "2023-03-22T10:10:02.794Z"
   },
   {
    "duration": 47,
    "start_time": "2023-03-22T10:10:02.828Z"
   },
   {
    "duration": 57,
    "start_time": "2023-03-22T10:10:02.877Z"
   },
   {
    "duration": 72,
    "start_time": "2023-03-22T10:10:02.936Z"
   },
   {
    "duration": 43,
    "start_time": "2023-03-22T10:10:03.010Z"
   },
   {
    "duration": 59,
    "start_time": "2023-03-22T10:10:03.055Z"
   },
   {
    "duration": 34,
    "start_time": "2023-03-22T10:10:03.115Z"
   },
   {
    "duration": 30,
    "start_time": "2023-03-22T10:10:03.151Z"
   },
   {
    "duration": 27,
    "start_time": "2023-03-22T10:10:03.183Z"
   },
   {
    "duration": 28,
    "start_time": "2023-03-22T10:10:03.212Z"
   },
   {
    "duration": 3130,
    "start_time": "2023-03-22T10:10:03.241Z"
   },
   {
    "duration": 416,
    "start_time": "2023-03-22T10:10:06.373Z"
   },
   {
    "duration": 5,
    "start_time": "2023-03-22T10:10:06.792Z"
   },
   {
    "duration": 22,
    "start_time": "2023-03-22T10:10:06.799Z"
   },
   {
    "duration": 28,
    "start_time": "2023-03-22T10:10:06.823Z"
   },
   {
    "duration": 4496,
    "start_time": "2023-03-22T10:11:56.111Z"
   },
   {
    "duration": 4374,
    "start_time": "2023-03-22T10:12:55.301Z"
   },
   {
    "duration": 169,
    "start_time": "2023-03-22T10:15:02.242Z"
   },
   {
    "duration": 272,
    "start_time": "2023-03-22T10:15:09.342Z"
   },
   {
    "duration": 204,
    "start_time": "2023-03-22T10:15:22.176Z"
   },
   {
    "duration": 74,
    "start_time": "2023-03-22T10:15:47.581Z"
   },
   {
    "duration": 82,
    "start_time": "2023-03-22T10:17:06.101Z"
   },
   {
    "duration": 44,
    "start_time": "2023-03-22T10:17:49.722Z"
   },
   {
    "duration": 41,
    "start_time": "2023-03-22T10:18:09.522Z"
   },
   {
    "duration": 46,
    "start_time": "2023-03-22T10:18:26.622Z"
   },
   {
    "duration": 5023,
    "start_time": "2023-03-22T10:20:16.191Z"
   },
   {
    "duration": 5009,
    "start_time": "2023-03-22T10:21:34.892Z"
   },
   {
    "duration": 5014,
    "start_time": "2023-03-22T10:22:07.402Z"
   },
   {
    "duration": 24350,
    "start_time": "2023-03-22T10:22:26.012Z"
   },
   {
    "duration": 5712,
    "start_time": "2023-03-22T10:30:58.543Z"
   },
   {
    "duration": 11404,
    "start_time": "2023-03-22T10:32:05.003Z"
   },
   {
    "duration": 11465,
    "start_time": "2023-03-22T10:33:17.783Z"
   },
   {
    "duration": 3184,
    "start_time": "2023-03-22T10:40:32.283Z"
   },
   {
    "duration": 3017,
    "start_time": "2023-03-22T10:41:31.443Z"
   },
   {
    "duration": 12174,
    "start_time": "2023-03-22T10:43:23.273Z"
   },
   {
    "duration": 11785,
    "start_time": "2023-03-22T10:45:34.223Z"
   },
   {
    "duration": 12200,
    "start_time": "2023-03-22T10:46:11.404Z"
   },
   {
    "duration": 13813,
    "start_time": "2023-03-22T10:51:07.794Z"
   },
   {
    "duration": 17,
    "start_time": "2023-03-22T10:56:52.697Z"
   },
   {
    "duration": 14,
    "start_time": "2023-03-22T10:57:44.128Z"
   },
   {
    "duration": 4,
    "start_time": "2023-03-22T10:58:46.173Z"
   },
   {
    "duration": 12764,
    "start_time": "2023-03-22T11:06:36.571Z"
   },
   {
    "duration": 12027,
    "start_time": "2023-03-22T11:08:10.373Z"
   },
   {
    "duration": 3,
    "start_time": "2023-03-22T11:17:43.497Z"
   },
   {
    "duration": 63,
    "start_time": "2023-03-22T11:19:23.837Z"
   },
   {
    "duration": 3231,
    "start_time": "2023-03-22T11:19:40.257Z"
   },
   {
    "duration": 4706,
    "start_time": "2023-03-22T11:19:58.857Z"
   },
   {
    "duration": 12770,
    "start_time": "2023-03-22T11:27:00.738Z"
   },
   {
    "duration": 3,
    "start_time": "2023-03-22T11:27:13.510Z"
   },
   {
    "duration": 4,
    "start_time": "2023-03-22T11:28:07.987Z"
   },
   {
    "duration": 3045,
    "start_time": "2023-03-22T11:30:51.917Z"
   },
   {
    "duration": 12521,
    "start_time": "2023-03-22T11:32:40.258Z"
   },
   {
    "duration": 12772,
    "start_time": "2023-03-22T11:33:12.355Z"
   },
   {
    "duration": 3201,
    "start_time": "2023-03-22T11:37:42.305Z"
   },
   {
    "duration": 7754,
    "start_time": "2023-03-22T11:38:18.338Z"
   },
   {
    "duration": 27821,
    "start_time": "2023-03-22T11:38:44.908Z"
   },
   {
    "duration": 27269,
    "start_time": "2023-03-22T11:39:36.238Z"
   },
   {
    "duration": 75,
    "start_time": "2023-03-22T11:43:27.139Z"
   },
   {
    "duration": 123,
    "start_time": "2023-03-22T11:46:32.323Z"
   },
   {
    "duration": 305,
    "start_time": "2023-03-22T11:48:39.481Z"
   },
   {
    "duration": 392735,
    "start_time": "2023-03-22T12:58:37.906Z"
   },
   {
    "duration": 390436,
    "start_time": "2023-03-22T13:28:46.912Z"
   },
   {
    "duration": 382644,
    "start_time": "2023-03-22T15:09:18.737Z"
   },
   {
    "duration": 345492,
    "start_time": "2023-03-22T15:19:37.702Z"
   },
   {
    "duration": 397334,
    "start_time": "2023-03-22T15:29:41.910Z"
   },
   {
    "duration": 93,
    "start_time": "2023-03-22T15:37:07.160Z"
   },
   {
    "duration": 0,
    "start_time": "2023-03-22T15:37:07.255Z"
   },
   {
    "duration": 1,
    "start_time": "2023-03-22T15:37:07.256Z"
   },
   {
    "duration": 0,
    "start_time": "2023-03-22T15:37:07.258Z"
   },
   {
    "duration": 0,
    "start_time": "2023-03-22T15:37:07.260Z"
   },
   {
    "duration": 0,
    "start_time": "2023-03-22T15:37:07.261Z"
   },
   {
    "duration": 0,
    "start_time": "2023-03-22T15:37:07.262Z"
   },
   {
    "duration": 1,
    "start_time": "2023-03-22T15:37:07.263Z"
   },
   {
    "duration": 0,
    "start_time": "2023-03-22T15:37:07.264Z"
   },
   {
    "duration": 0,
    "start_time": "2023-03-22T15:37:07.266Z"
   },
   {
    "duration": 0,
    "start_time": "2023-03-22T15:37:07.267Z"
   },
   {
    "duration": 0,
    "start_time": "2023-03-22T15:37:07.268Z"
   },
   {
    "duration": 0,
    "start_time": "2023-03-22T15:37:07.270Z"
   },
   {
    "duration": 0,
    "start_time": "2023-03-22T15:37:07.271Z"
   },
   {
    "duration": 0,
    "start_time": "2023-03-22T15:37:07.273Z"
   },
   {
    "duration": 0,
    "start_time": "2023-03-22T15:37:07.274Z"
   },
   {
    "duration": 0,
    "start_time": "2023-03-22T15:37:07.275Z"
   },
   {
    "duration": 0,
    "start_time": "2023-03-22T15:37:07.275Z"
   },
   {
    "duration": 0,
    "start_time": "2023-03-22T15:37:07.277Z"
   },
   {
    "duration": 0,
    "start_time": "2023-03-22T15:37:07.278Z"
   },
   {
    "duration": 0,
    "start_time": "2023-03-22T15:37:07.279Z"
   },
   {
    "duration": 0,
    "start_time": "2023-03-22T15:37:07.280Z"
   },
   {
    "duration": 0,
    "start_time": "2023-03-22T15:37:07.281Z"
   },
   {
    "duration": 0,
    "start_time": "2023-03-22T15:37:07.282Z"
   },
   {
    "duration": 0,
    "start_time": "2023-03-22T15:37:07.283Z"
   },
   {
    "duration": 0,
    "start_time": "2023-03-22T15:37:07.285Z"
   },
   {
    "duration": 0,
    "start_time": "2023-03-22T15:37:07.286Z"
   },
   {
    "duration": 0,
    "start_time": "2023-03-22T15:37:07.287Z"
   },
   {
    "duration": 0,
    "start_time": "2023-03-22T15:37:07.288Z"
   },
   {
    "duration": 0,
    "start_time": "2023-03-22T15:37:07.289Z"
   },
   {
    "duration": 0,
    "start_time": "2023-03-22T15:37:07.290Z"
   },
   {
    "duration": 0,
    "start_time": "2023-03-22T15:37:07.291Z"
   },
   {
    "duration": 0,
    "start_time": "2023-03-22T15:37:07.292Z"
   },
   {
    "duration": 0,
    "start_time": "2023-03-22T15:37:07.293Z"
   },
   {
    "duration": 4,
    "start_time": "2023-03-22T15:37:07.359Z"
   },
   {
    "duration": 94,
    "start_time": "2023-03-22T15:37:07.366Z"
   },
   {
    "duration": 0,
    "start_time": "2023-03-22T15:37:07.461Z"
   },
   {
    "duration": 0,
    "start_time": "2023-03-22T15:37:07.462Z"
   },
   {
    "duration": 0,
    "start_time": "2023-03-22T15:37:07.465Z"
   },
   {
    "duration": 0,
    "start_time": "2023-03-22T15:37:07.466Z"
   },
   {
    "duration": 0,
    "start_time": "2023-03-22T15:37:07.468Z"
   },
   {
    "duration": 0,
    "start_time": "2023-03-22T15:37:07.469Z"
   },
   {
    "duration": 2033,
    "start_time": "2023-03-22T15:39:23.239Z"
   },
   {
    "duration": 932,
    "start_time": "2023-03-22T15:39:25.274Z"
   },
   {
    "duration": 4,
    "start_time": "2023-03-22T15:39:26.207Z"
   },
   {
    "duration": 330,
    "start_time": "2023-03-22T15:39:26.213Z"
   },
   {
    "duration": 227,
    "start_time": "2023-03-22T15:39:26.546Z"
   },
   {
    "duration": 347,
    "start_time": "2023-03-22T15:39:26.776Z"
   },
   {
    "duration": 7,
    "start_time": "2023-03-22T15:39:27.126Z"
   },
   {
    "duration": 27,
    "start_time": "2023-03-22T15:39:27.135Z"
   },
   {
    "duration": 759,
    "start_time": "2023-03-22T15:39:27.164Z"
   },
   {
    "duration": 9,
    "start_time": "2023-03-22T15:39:27.926Z"
   },
   {
    "duration": 64,
    "start_time": "2023-03-22T15:39:27.940Z"
   },
   {
    "duration": 8,
    "start_time": "2023-03-22T15:39:28.007Z"
   },
   {
    "duration": 12,
    "start_time": "2023-03-22T15:39:28.017Z"
   },
   {
    "duration": 33,
    "start_time": "2023-03-22T15:39:28.031Z"
   },
   {
    "duration": 12,
    "start_time": "2023-03-22T15:39:28.066Z"
   },
   {
    "duration": 10,
    "start_time": "2023-03-22T15:39:28.080Z"
   },
   {
    "duration": 665,
    "start_time": "2023-03-22T15:39:28.092Z"
   },
   {
    "duration": 1137,
    "start_time": "2023-03-22T15:39:28.760Z"
   },
   {
    "duration": 777,
    "start_time": "2023-03-22T15:39:29.899Z"
   },
   {
    "duration": 1024,
    "start_time": "2023-03-22T15:39:30.677Z"
   },
   {
    "duration": 18,
    "start_time": "2023-03-22T15:39:31.703Z"
   },
   {
    "duration": 506,
    "start_time": "2023-03-22T15:39:31.723Z"
   },
   {
    "duration": 27,
    "start_time": "2023-03-22T15:39:32.231Z"
   },
   {
    "duration": 436,
    "start_time": "2023-03-22T15:39:32.262Z"
   },
   {
    "duration": 449,
    "start_time": "2023-03-22T15:39:32.701Z"
   },
   {
    "duration": 9,
    "start_time": "2023-03-22T15:39:33.158Z"
   },
   {
    "duration": 32,
    "start_time": "2023-03-22T15:39:33.169Z"
   },
   {
    "duration": 25,
    "start_time": "2023-03-22T15:39:33.206Z"
   },
   {
    "duration": 34,
    "start_time": "2023-03-22T15:39:33.233Z"
   },
   {
    "duration": 39,
    "start_time": "2023-03-22T15:39:33.269Z"
   },
   {
    "duration": 18,
    "start_time": "2023-03-22T15:39:33.311Z"
   },
   {
    "duration": 41,
    "start_time": "2023-03-22T15:39:33.331Z"
   },
   {
    "duration": 24,
    "start_time": "2023-03-22T15:39:33.374Z"
   },
   {
    "duration": 19,
    "start_time": "2023-03-22T15:39:33.401Z"
   },
   {
    "duration": 32,
    "start_time": "2023-03-22T15:39:33.422Z"
   },
   {
    "duration": 34,
    "start_time": "2023-03-22T15:39:33.457Z"
   },
   {
    "duration": 21,
    "start_time": "2023-03-22T15:39:33.493Z"
   },
   {
    "duration": 3542,
    "start_time": "2023-03-22T15:39:33.516Z"
   },
   {
    "duration": 11956,
    "start_time": "2023-03-22T15:39:37.063Z"
   },
   {
    "duration": 12148,
    "start_time": "2023-03-22T15:39:49.021Z"
   },
   {
    "duration": 4,
    "start_time": "2023-03-22T15:40:01.171Z"
   },
   {
    "duration": 230,
    "start_time": "2023-03-22T15:40:01.178Z"
   },
   {
    "duration": 7248,
    "start_time": "2023-03-22T15:44:21.239Z"
   },
   {
    "duration": 7121,
    "start_time": "2023-03-22T15:44:36.901Z"
   },
   {
    "duration": 42909,
    "start_time": "2023-03-22T15:45:05.479Z"
   },
   {
    "duration": 344645,
    "start_time": "2023-03-22T15:54:24.430Z"
   },
   {
    "duration": 937650,
    "start_time": "2023-03-22T16:25:10.432Z"
   },
   {
    "duration": 10,
    "start_time": "2023-03-22T16:45:22.684Z"
   },
   {
    "duration": 9,
    "start_time": "2023-03-22T16:45:45.384Z"
   },
   {
    "duration": 9,
    "start_time": "2023-03-22T16:45:58.054Z"
   },
   {
    "duration": 10,
    "start_time": "2023-03-22T16:46:12.907Z"
   },
   {
    "duration": 5,
    "start_time": "2023-03-22T16:46:18.390Z"
   },
   {
    "duration": 340036,
    "start_time": "2023-03-22T16:47:20.463Z"
   },
   {
    "duration": 5,
    "start_time": "2023-03-22T17:19:26.847Z"
   },
   {
    "duration": 5,
    "start_time": "2023-03-22T17:19:54.068Z"
   },
   {
    "duration": 325307,
    "start_time": "2023-03-22T18:26:37.123Z"
   },
   {
    "duration": 11,
    "start_time": "2023-03-22T18:34:45.730Z"
   },
   {
    "duration": 2190,
    "start_time": "2023-03-22T18:35:14.218Z"
   },
   {
    "duration": 2077,
    "start_time": "2023-03-22T18:35:16.410Z"
   },
   {
    "duration": 3,
    "start_time": "2023-03-22T18:35:18.489Z"
   },
   {
    "duration": 283,
    "start_time": "2023-03-22T18:35:18.494Z"
   },
   {
    "duration": 160,
    "start_time": "2023-03-22T18:35:18.781Z"
   },
   {
    "duration": 329,
    "start_time": "2023-03-22T18:35:18.943Z"
   },
   {
    "duration": 7,
    "start_time": "2023-03-22T18:35:19.274Z"
   },
   {
    "duration": 10,
    "start_time": "2023-03-22T18:35:19.283Z"
   },
   {
    "duration": 7,
    "start_time": "2023-03-22T18:35:19.295Z"
   },
   {
    "duration": 916,
    "start_time": "2023-03-22T18:35:19.304Z"
   },
   {
    "duration": 7,
    "start_time": "2023-03-22T18:35:20.222Z"
   },
   {
    "duration": 47,
    "start_time": "2023-03-22T18:35:20.231Z"
   },
   {
    "duration": 9,
    "start_time": "2023-03-22T18:35:20.280Z"
   },
   {
    "duration": 7,
    "start_time": "2023-03-22T18:35:20.292Z"
   },
   {
    "duration": 15,
    "start_time": "2023-03-22T18:35:20.301Z"
   },
   {
    "duration": 8,
    "start_time": "2023-03-22T18:35:20.319Z"
   },
   {
    "duration": 718,
    "start_time": "2023-03-22T18:35:20.359Z"
   },
   {
    "duration": 1389,
    "start_time": "2023-03-22T18:35:21.081Z"
   },
   {
    "duration": 1069,
    "start_time": "2023-03-22T18:35:22.472Z"
   },
   {
    "duration": 1132,
    "start_time": "2023-03-22T18:35:23.543Z"
   },
   {
    "duration": 17,
    "start_time": "2023-03-22T18:35:24.678Z"
   },
   {
    "duration": 530,
    "start_time": "2023-03-22T18:35:24.697Z"
   },
   {
    "duration": 14,
    "start_time": "2023-03-22T18:35:25.229Z"
   },
   {
    "duration": 465,
    "start_time": "2023-03-22T18:35:25.245Z"
   },
   {
    "duration": 435,
    "start_time": "2023-03-22T18:35:25.712Z"
   },
   {
    "duration": 22,
    "start_time": "2023-03-22T18:35:26.149Z"
   },
   {
    "duration": 21,
    "start_time": "2023-03-22T18:35:26.173Z"
   },
   {
    "duration": 9,
    "start_time": "2023-03-22T18:35:26.196Z"
   },
   {
    "duration": 15,
    "start_time": "2023-03-22T18:35:26.207Z"
   },
   {
    "duration": 39,
    "start_time": "2023-03-22T18:35:26.224Z"
   },
   {
    "duration": 18,
    "start_time": "2023-03-22T18:35:26.267Z"
   },
   {
    "duration": 11,
    "start_time": "2023-03-22T18:35:26.287Z"
   },
   {
    "duration": 11,
    "start_time": "2023-03-22T18:35:26.300Z"
   },
   {
    "duration": 19,
    "start_time": "2023-03-22T18:35:26.313Z"
   },
   {
    "duration": 6,
    "start_time": "2023-03-22T18:35:26.334Z"
   },
   {
    "duration": 8,
    "start_time": "2023-03-22T18:35:26.342Z"
   },
   {
    "duration": 4,
    "start_time": "2023-03-22T18:35:26.352Z"
   },
   {
    "duration": 6710,
    "start_time": "2023-03-22T18:35:26.359Z"
   },
   {
    "duration": 12498,
    "start_time": "2023-03-22T18:35:33.075Z"
   },
   {
    "duration": 12865,
    "start_time": "2023-03-22T18:35:45.576Z"
   },
   {
    "duration": 5,
    "start_time": "2023-03-22T18:35:58.446Z"
   },
   {
    "duration": 331410,
    "start_time": "2023-03-22T18:35:58.458Z"
   },
   {
    "duration": 326025,
    "start_time": "2023-03-22T18:41:29.870Z"
   },
   {
    "duration": 3,
    "start_time": "2023-03-22T18:46:55.896Z"
   },
   {
    "duration": 117,
    "start_time": "2023-03-22T18:46:55.901Z"
   },
   {
    "duration": 16,
    "start_time": "2023-03-22T18:48:38.059Z"
   },
   {
    "duration": 81,
    "start_time": "2023-03-22T18:49:32.776Z"
   },
   {
    "duration": 12,
    "start_time": "2023-03-22T18:49:57.637Z"
   },
   {
    "duration": 6,
    "start_time": "2023-03-22T18:50:22.178Z"
   },
   {
    "duration": 5,
    "start_time": "2023-03-22T18:50:56.445Z"
   },
   {
    "duration": 12,
    "start_time": "2023-03-22T19:41:18.540Z"
   },
   {
    "duration": 215,
    "start_time": "2023-03-22T19:41:33.687Z"
   },
   {
    "duration": 10,
    "start_time": "2023-03-22T19:41:35.160Z"
   },
   {
    "duration": 241,
    "start_time": "2023-03-22T19:42:21.630Z"
   },
   {
    "duration": 6,
    "start_time": "2023-03-22T19:42:27.229Z"
   },
   {
    "duration": 10,
    "start_time": "2023-03-22T19:44:29.929Z"
   },
   {
    "duration": 238,
    "start_time": "2023-03-22T19:44:33.860Z"
   },
   {
    "duration": 8,
    "start_time": "2023-03-22T19:44:34.929Z"
   },
   {
    "duration": 30084,
    "start_time": "2023-03-22T19:47:44.984Z"
   },
   {
    "duration": 6,
    "start_time": "2023-03-22T19:48:15.070Z"
   },
   {
    "duration": 30801,
    "start_time": "2023-03-22T19:48:15.078Z"
   },
   {
    "duration": 5,
    "start_time": "2023-03-22T19:48:45.881Z"
   },
   {
    "duration": 40365,
    "start_time": "2023-03-22T19:51:27.280Z"
   },
   {
    "duration": 5,
    "start_time": "2023-03-22T19:52:07.647Z"
   },
   {
    "duration": 8,
    "start_time": "2023-03-22T19:57:29.324Z"
   },
   {
    "duration": 623665,
    "start_time": "2023-03-22T20:01:24.653Z"
   },
   {
    "duration": 633062,
    "start_time": "2023-03-22T20:11:48.321Z"
   },
   {
    "duration": 5,
    "start_time": "2023-03-22T20:22:21.386Z"
   },
   {
    "duration": 4,
    "start_time": "2023-03-22T20:22:32.817Z"
   },
   {
    "duration": 27528,
    "start_time": "2023-03-22T20:30:06.685Z"
   },
   {
    "duration": 7,
    "start_time": "2023-03-22T20:30:34.214Z"
   },
   {
    "duration": 8477,
    "start_time": "2023-03-22T20:30:34.222Z"
   },
   {
    "duration": 6,
    "start_time": "2023-03-22T20:30:42.701Z"
   },
   {
    "duration": 12,
    "start_time": "2023-03-22T20:30:42.708Z"
   },
   {
    "duration": 13,
    "start_time": "2023-03-22T20:37:12.326Z"
   },
   {
    "duration": 64,
    "start_time": "2023-03-22T20:38:15.346Z"
   },
   {
    "duration": 14,
    "start_time": "2023-03-22T20:38:25.375Z"
   },
   {
    "duration": 13,
    "start_time": "2023-03-22T20:42:09.526Z"
   },
   {
    "duration": 9,
    "start_time": "2023-03-22T20:44:08.887Z"
   },
   {
    "duration": 9,
    "start_time": "2023-03-22T20:49:17.518Z"
   },
   {
    "duration": 241,
    "start_time": "2023-03-22T21:07:25.838Z"
   },
   {
    "duration": 6,
    "start_time": "2023-03-22T21:07:26.948Z"
   },
   {
    "duration": 215,
    "start_time": "2023-03-22T21:07:49.058Z"
   },
   {
    "duration": 6,
    "start_time": "2023-03-22T21:07:50.787Z"
   },
   {
    "duration": 5,
    "start_time": "2023-03-22T21:07:58.158Z"
   },
   {
    "duration": 1653,
    "start_time": "2023-03-22T21:09:00.447Z"
   },
   {
    "duration": 3000,
    "start_time": "2023-03-22T21:09:02.102Z"
   },
   {
    "duration": 3,
    "start_time": "2023-03-22T21:09:05.104Z"
   },
   {
    "duration": 304,
    "start_time": "2023-03-22T21:09:05.109Z"
   },
   {
    "duration": 196,
    "start_time": "2023-03-22T21:09:05.416Z"
   },
   {
    "duration": 328,
    "start_time": "2023-03-22T21:09:05.614Z"
   },
   {
    "duration": 5,
    "start_time": "2023-03-22T21:09:05.944Z"
   },
   {
    "duration": 29,
    "start_time": "2023-03-22T21:09:05.962Z"
   },
   {
    "duration": 25,
    "start_time": "2023-03-22T21:09:05.992Z"
   },
   {
    "duration": 976,
    "start_time": "2023-03-22T21:09:06.019Z"
   },
   {
    "duration": 6,
    "start_time": "2023-03-22T21:09:06.997Z"
   },
   {
    "duration": 52,
    "start_time": "2023-03-22T21:09:07.005Z"
   },
   {
    "duration": 13,
    "start_time": "2023-03-22T21:09:07.059Z"
   },
   {
    "duration": 24,
    "start_time": "2023-03-22T21:09:07.079Z"
   },
   {
    "duration": 28,
    "start_time": "2023-03-22T21:09:07.105Z"
   },
   {
    "duration": 12,
    "start_time": "2023-03-22T21:09:07.135Z"
   },
   {
    "duration": 668,
    "start_time": "2023-03-22T21:09:07.149Z"
   },
   {
    "duration": 1258,
    "start_time": "2023-03-22T21:09:07.819Z"
   },
   {
    "duration": 833,
    "start_time": "2023-03-22T21:09:09.079Z"
   },
   {
    "duration": 1031,
    "start_time": "2023-03-22T21:09:09.914Z"
   },
   {
    "duration": 29,
    "start_time": "2023-03-22T21:09:10.947Z"
   },
   {
    "duration": 495,
    "start_time": "2023-03-22T21:09:10.978Z"
   },
   {
    "duration": 12,
    "start_time": "2023-03-22T21:09:11.475Z"
   },
   {
    "duration": 464,
    "start_time": "2023-03-22T21:09:11.489Z"
   },
   {
    "duration": 461,
    "start_time": "2023-03-22T21:09:11.955Z"
   },
   {
    "duration": 10,
    "start_time": "2023-03-22T21:09:12.418Z"
   },
   {
    "duration": 6,
    "start_time": "2023-03-22T21:09:12.430Z"
   },
   {
    "duration": 23,
    "start_time": "2023-03-22T21:09:12.438Z"
   },
   {
    "duration": 10,
    "start_time": "2023-03-22T21:09:12.474Z"
   },
   {
    "duration": 22,
    "start_time": "2023-03-22T21:09:12.486Z"
   },
   {
    "duration": 8,
    "start_time": "2023-03-22T21:09:12.510Z"
   },
   {
    "duration": 8,
    "start_time": "2023-03-22T21:09:12.520Z"
   },
   {
    "duration": 11,
    "start_time": "2023-03-22T21:09:12.530Z"
   },
   {
    "duration": 11,
    "start_time": "2023-03-22T21:09:12.565Z"
   },
   {
    "duration": 5,
    "start_time": "2023-03-22T21:09:12.577Z"
   },
   {
    "duration": 5,
    "start_time": "2023-03-22T21:09:12.583Z"
   },
   {
    "duration": 5,
    "start_time": "2023-03-22T21:09:12.590Z"
   },
   {
    "duration": 5462,
    "start_time": "2023-03-22T21:09:12.596Z"
   },
   {
    "duration": 12416,
    "start_time": "2023-03-22T21:09:18.059Z"
   },
   {
    "duration": 11537,
    "start_time": "2023-03-22T21:09:30.478Z"
   },
   {
    "duration": 4,
    "start_time": "2023-03-22T21:09:42.018Z"
   },
   {
    "duration": 622056,
    "start_time": "2023-03-22T21:09:42.023Z"
   },
   {
    "duration": 625471,
    "start_time": "2023-03-22T21:20:04.081Z"
   },
   {
    "duration": 16,
    "start_time": "2023-03-22T21:30:29.558Z"
   },
   {
    "duration": 8,
    "start_time": "2023-03-22T21:30:29.576Z"
   },
   {
    "duration": 25598,
    "start_time": "2023-03-22T21:31:02.710Z"
   },
   {
    "duration": 5,
    "start_time": "2023-03-22T21:31:28.310Z"
   },
   {
    "duration": 8703,
    "start_time": "2023-03-22T21:31:28.317Z"
   },
   {
    "duration": 7,
    "start_time": "2023-03-22T21:31:37.024Z"
   },
   {
    "duration": 15,
    "start_time": "2023-03-22T21:31:37.033Z"
   },
   {
    "duration": 35,
    "start_time": "2023-03-22T21:31:37.050Z"
   },
   {
    "duration": 108,
    "start_time": "2023-03-22T21:44:44.310Z"
   },
   {
    "duration": 8491,
    "start_time": "2023-03-22T21:45:53.709Z"
   },
   {
    "duration": 7,
    "start_time": "2023-03-22T21:46:05.971Z"
   },
   {
    "duration": 4,
    "start_time": "2023-03-22T21:46:07.640Z"
   },
   {
    "duration": 9,
    "start_time": "2023-03-22T21:46:08.680Z"
   },
   {
    "duration": 644,
    "start_time": "2023-03-22T21:52:38.567Z"
   },
   {
    "duration": 8,
    "start_time": "2023-03-22T21:53:09.120Z"
   },
   {
    "duration": 7,
    "start_time": "2023-03-22T21:54:18.190Z"
   },
   {
    "duration": 27208,
    "start_time": "2023-03-22T21:54:58.310Z"
   },
   {
    "duration": 0,
    "start_time": "2023-03-22T21:55:25.520Z"
   },
   {
    "duration": 7,
    "start_time": "2023-03-22T21:59:22.711Z"
   },
   {
    "duration": 25922,
    "start_time": "2023-03-22T21:59:24.131Z"
   },
   {
    "duration": 6,
    "start_time": "2023-03-22T22:09:53.111Z"
   },
   {
    "duration": 27574,
    "start_time": "2023-03-22T22:09:54.532Z"
   },
   {
    "duration": 9,
    "start_time": "2023-03-22T22:10:27.152Z"
   },
   {
    "duration": 98,
    "start_time": "2023-03-22T22:33:16.833Z"
   },
   {
    "duration": 10,
    "start_time": "2023-03-22T22:39:26.994Z"
   },
   {
    "duration": 8,
    "start_time": "2023-03-22T22:40:04.495Z"
   },
   {
    "duration": 1544,
    "start_time": "2023-03-22T23:21:37.949Z"
   },
   {
    "duration": 708,
    "start_time": "2023-03-22T23:21:39.495Z"
   },
   {
    "duration": 2,
    "start_time": "2023-03-22T23:21:40.205Z"
   },
   {
    "duration": 266,
    "start_time": "2023-03-22T23:21:40.209Z"
   },
   {
    "duration": 151,
    "start_time": "2023-03-22T23:21:40.477Z"
   },
   {
    "duration": 280,
    "start_time": "2023-03-22T23:21:40.630Z"
   },
   {
    "duration": 4,
    "start_time": "2023-03-22T23:21:40.911Z"
   },
   {
    "duration": 7,
    "start_time": "2023-03-22T23:21:40.917Z"
   },
   {
    "duration": 9,
    "start_time": "2023-03-22T23:21:40.925Z"
   },
   {
    "duration": 783,
    "start_time": "2023-03-22T23:21:40.935Z"
   },
   {
    "duration": 5,
    "start_time": "2023-03-22T23:21:41.719Z"
   },
   {
    "duration": 17,
    "start_time": "2023-03-22T23:21:41.725Z"
   },
   {
    "duration": 15,
    "start_time": "2023-03-22T23:21:41.744Z"
   },
   {
    "duration": 16,
    "start_time": "2023-03-22T23:21:41.773Z"
   },
   {
    "duration": 9,
    "start_time": "2023-03-22T23:21:41.790Z"
   },
   {
    "duration": 591,
    "start_time": "2023-03-22T23:21:41.801Z"
   },
   {
    "duration": 1121,
    "start_time": "2023-03-22T23:21:42.394Z"
   },
   {
    "duration": 735,
    "start_time": "2023-03-22T23:21:43.517Z"
   },
   {
    "duration": 943,
    "start_time": "2023-03-22T23:21:44.258Z"
   },
   {
    "duration": 13,
    "start_time": "2023-03-22T23:21:45.202Z"
   },
   {
    "duration": 430,
    "start_time": "2023-03-22T23:21:45.216Z"
   },
   {
    "duration": 28,
    "start_time": "2023-03-22T23:21:45.648Z"
   },
   {
    "duration": 409,
    "start_time": "2023-03-22T23:21:45.678Z"
   },
   {
    "duration": 405,
    "start_time": "2023-03-22T23:21:46.089Z"
   },
   {
    "duration": 8,
    "start_time": "2023-03-22T23:21:46.496Z"
   },
   {
    "duration": 38,
    "start_time": "2023-03-22T23:21:46.506Z"
   },
   {
    "duration": 18,
    "start_time": "2023-03-22T23:21:46.546Z"
   },
   {
    "duration": 18,
    "start_time": "2023-03-22T23:21:46.565Z"
   },
   {
    "duration": 14,
    "start_time": "2023-03-22T23:21:46.584Z"
   },
   {
    "duration": 19,
    "start_time": "2023-03-22T23:21:46.599Z"
   },
   {
    "duration": 8,
    "start_time": "2023-03-22T23:21:46.620Z"
   },
   {
    "duration": 11,
    "start_time": "2023-03-22T23:21:46.629Z"
   },
   {
    "duration": 24,
    "start_time": "2023-03-22T23:21:46.643Z"
   },
   {
    "duration": 16,
    "start_time": "2023-03-22T23:21:46.675Z"
   },
   {
    "duration": 10,
    "start_time": "2023-03-22T23:21:46.694Z"
   },
   {
    "duration": 12,
    "start_time": "2023-03-22T23:21:46.706Z"
   },
   {
    "duration": 16,
    "start_time": "2023-03-22T23:21:46.720Z"
   },
   {
    "duration": 3738,
    "start_time": "2023-03-22T23:21:46.738Z"
   },
   {
    "duration": 11896,
    "start_time": "2023-03-22T23:21:50.479Z"
   },
   {
    "duration": 11675,
    "start_time": "2023-03-22T23:22:02.377Z"
   },
   {
    "duration": 5,
    "start_time": "2023-03-22T23:22:14.059Z"
   },
   {
    "duration": 12,
    "start_time": "2023-03-23T19:34:38.259Z"
   },
   {
    "duration": 48,
    "start_time": "2023-03-23T19:43:50.179Z"
   },
   {
    "duration": 1880,
    "start_time": "2023-03-23T19:44:03.804Z"
   },
   {
    "duration": 2186,
    "start_time": "2023-03-23T19:44:05.687Z"
   },
   {
    "duration": 3,
    "start_time": "2023-03-23T19:44:07.875Z"
   },
   {
    "duration": 275,
    "start_time": "2023-03-23T19:44:07.880Z"
   },
   {
    "duration": 179,
    "start_time": "2023-03-23T19:44:08.157Z"
   },
   {
    "duration": 302,
    "start_time": "2023-03-23T19:44:08.340Z"
   },
   {
    "duration": 5,
    "start_time": "2023-03-23T19:44:08.643Z"
   },
   {
    "duration": 9,
    "start_time": "2023-03-23T19:44:08.650Z"
   },
   {
    "duration": 6,
    "start_time": "2023-03-23T19:44:08.661Z"
   },
   {
    "duration": 910,
    "start_time": "2023-03-23T19:44:08.668Z"
   },
   {
    "duration": 7,
    "start_time": "2023-03-23T19:44:09.580Z"
   },
   {
    "duration": 19,
    "start_time": "2023-03-23T19:44:09.588Z"
   },
   {
    "duration": 6,
    "start_time": "2023-03-23T19:44:09.609Z"
   },
   {
    "duration": 30,
    "start_time": "2023-03-23T19:44:09.618Z"
   },
   {
    "duration": 9,
    "start_time": "2023-03-23T19:44:09.650Z"
   },
   {
    "duration": 613,
    "start_time": "2023-03-23T19:44:09.660Z"
   },
   {
    "duration": 1146,
    "start_time": "2023-03-23T19:44:10.275Z"
   },
   {
    "duration": 814,
    "start_time": "2023-03-23T19:44:11.422Z"
   },
   {
    "duration": 1001,
    "start_time": "2023-03-23T19:44:12.241Z"
   },
   {
    "duration": 16,
    "start_time": "2023-03-23T19:44:13.244Z"
   },
   {
    "duration": 474,
    "start_time": "2023-03-23T19:44:13.261Z"
   },
   {
    "duration": 14,
    "start_time": "2023-03-23T19:44:13.740Z"
   },
   {
    "duration": 437,
    "start_time": "2023-03-23T19:44:13.755Z"
   },
   {
    "duration": 434,
    "start_time": "2023-03-23T19:44:14.194Z"
   },
   {
    "duration": 17,
    "start_time": "2023-03-23T19:44:14.629Z"
   },
   {
    "duration": 32,
    "start_time": "2023-03-23T19:44:14.647Z"
   },
   {
    "duration": 4,
    "start_time": "2023-03-23T19:44:14.681Z"
   },
   {
    "duration": 9,
    "start_time": "2023-03-23T19:44:14.686Z"
   },
   {
    "duration": 13,
    "start_time": "2023-03-23T19:44:14.696Z"
   },
   {
    "duration": 48,
    "start_time": "2023-03-23T19:44:14.711Z"
   },
   {
    "duration": 9,
    "start_time": "2023-03-23T19:44:14.761Z"
   },
   {
    "duration": 10,
    "start_time": "2023-03-23T19:44:14.772Z"
   },
   {
    "duration": 6,
    "start_time": "2023-03-23T19:44:14.784Z"
   },
   {
    "duration": 9,
    "start_time": "2023-03-23T19:44:14.792Z"
   },
   {
    "duration": 39,
    "start_time": "2023-03-23T19:44:14.802Z"
   },
   {
    "duration": 6,
    "start_time": "2023-03-23T19:44:14.843Z"
   },
   {
    "duration": 3,
    "start_time": "2023-03-23T19:44:14.851Z"
   },
   {
    "duration": 2784,
    "start_time": "2023-03-23T19:44:14.856Z"
   },
   {
    "duration": 12804,
    "start_time": "2023-03-23T19:44:17.643Z"
   },
   {
    "duration": 12681,
    "start_time": "2023-03-23T19:44:30.449Z"
   },
   {
    "duration": 3,
    "start_time": "2023-03-23T19:44:43.140Z"
   },
   {
    "duration": 719250,
    "start_time": "2023-03-23T19:44:43.145Z"
   },
   {
    "duration": 717188,
    "start_time": "2023-03-23T19:56:42.397Z"
   },
   {
    "duration": 5,
    "start_time": "2023-03-23T20:08:39.587Z"
   },
   {
    "duration": 170,
    "start_time": "2023-03-23T20:08:39.594Z"
   },
   {
    "duration": 0,
    "start_time": "2023-03-23T20:08:39.767Z"
   },
   {
    "duration": 0,
    "start_time": "2023-03-23T20:08:39.769Z"
   },
   {
    "duration": 0,
    "start_time": "2023-03-23T20:08:39.772Z"
   },
   {
    "duration": 0,
    "start_time": "2023-03-23T20:08:39.774Z"
   },
   {
    "duration": 0,
    "start_time": "2023-03-23T20:08:39.775Z"
   },
   {
    "duration": 0,
    "start_time": "2023-03-23T20:08:39.777Z"
   },
   {
    "duration": 0,
    "start_time": "2023-03-23T20:08:39.778Z"
   },
   {
    "duration": 6,
    "start_time": "2023-03-23T20:11:21.102Z"
   },
   {
    "duration": 28275,
    "start_time": "2023-03-23T20:11:50.096Z"
   },
   {
    "duration": 6,
    "start_time": "2023-03-23T20:12:18.373Z"
   },
   {
    "duration": 9637,
    "start_time": "2023-03-23T20:12:18.380Z"
   },
   {
    "duration": 7,
    "start_time": "2023-03-23T20:12:28.019Z"
   },
   {
    "duration": 41,
    "start_time": "2023-03-23T20:12:28.028Z"
   },
   {
    "duration": 15,
    "start_time": "2023-03-23T20:12:28.071Z"
   },
   {
    "duration": 6,
    "start_time": "2023-03-23T20:19:32.345Z"
   },
   {
    "duration": 509,
    "start_time": "2023-03-23T20:21:32.361Z"
   },
   {
    "duration": 18,
    "start_time": "2023-03-23T20:37:14.102Z"
   },
   {
    "duration": 534,
    "start_time": "2023-03-23T20:37:28.824Z"
   },
   {
    "duration": 473,
    "start_time": "2023-03-23T20:37:50.992Z"
   }
  ],
  "kernelspec": {
   "display_name": "Python 3 (ipykernel)",
   "language": "python",
   "name": "python3"
  },
  "language_info": {
   "codemirror_mode": {
    "name": "ipython",
    "version": 3
   },
   "file_extension": ".py",
   "mimetype": "text/x-python",
   "name": "python",
   "nbconvert_exporter": "python",
   "pygments_lexer": "ipython3",
   "version": "3.9.5"
  },
  "toc": {
   "base_numbering": 1,
   "nav_menu": {},
   "number_sections": true,
   "sideBar": true,
   "skip_h1_title": true,
   "title_cell": "Содержание",
   "title_sidebar": "Contents",
   "toc_cell": true,
   "toc_position": {
    "height": "calc(100% - 180px)",
    "left": "10px",
    "top": "150px",
    "width": "165px"
   },
   "toc_section_display": true,
   "toc_window_display": true
  }
 },
 "nbformat": 4,
 "nbformat_minor": 2
}
